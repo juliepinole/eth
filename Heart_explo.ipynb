{
 "cells": [
  {
   "cell_type": "markdown",
   "id": "6c20ca57-2a9b-4511-8b89-593f94a630ee",
   "metadata": {},
   "source": [
    "Heart Failures - ML in healthcare\n",
    "==="
   ]
  },
  {
   "cell_type": "markdown",
   "id": "4249dc2f",
   "metadata": {},
   "source": []
  },
  {
   "cell_type": "code",
   "execution_count": 1,
   "id": "73c334c9",
   "metadata": {},
   "outputs": [
    {
     "name": "stderr",
     "output_type": "stream",
     "text": [
      "/usr/lib/python3/dist-packages/scipy/__init__.py:146: UserWarning: A NumPy version >=1.17.3 and <1.25.0 is required for this version of SciPy (detected version 1.26.4\n",
      "  warnings.warn(f\"A NumPy version >={np_minversion} and <{np_maxversion}\"\n"
     ]
    }
   ],
   "source": [
    "import pandas as pd\n",
    "import numpy as np\n",
    "import matplotlib.pyplot as plt\n",
    "import seaborn as sns"
   ]
  },
  {
   "cell_type": "code",
   "execution_count": 23,
   "id": "2dec4db4-a964-4878-93c3-480a3191919f",
   "metadata": {},
   "outputs": [],
   "source": [
    "import pandas as pd\n",
    "import numpy as np\n",
    "import matplotlib.pyplot as plt\n",
    "import seaborn as sns\n",
    "# from scipy.stats import norm\n",
    "# from sklearn.preprocessing import StandardScaler\n",
    "# from scipy import stats\n",
    "# import warnings\n",
    "# warnings.filterwarnings('ignore')\n",
    "%matplotlib inline\n",
    "import torch\n",
    "import torch.nn.functional as F\n",
    "# import param"
   ]
  },
  {
   "cell_type": "code",
   "execution_count": 2,
   "id": "86be1e0e-6a7d-42e8-9c37-a5a9f3da9bf9",
   "metadata": {},
   "outputs": [],
   "source": [
    "# import sklearn as sk\n",
    "# import scipy"
   ]
  },
  {
   "cell_type": "code",
   "execution_count": 3,
   "id": "da4974d8-5377-4c12-8ce7-4f9f720951d0",
   "metadata": {},
   "outputs": [
    {
     "data": {
      "application/javascript": "(function(root) {\n  function now() {\n    return new Date();\n  }\n\n  var force = true;\n  var py_version = '3.4.0'.replace('rc', '-rc.').replace('.dev', '-dev.');\n  var reloading = false;\n  var Bokeh = root.Bokeh;\n\n  if (typeof (root._bokeh_timeout) === \"undefined\" || force) {\n    root._bokeh_timeout = Date.now() + 5000;\n    root._bokeh_failed_load = false;\n  }\n\n  function run_callbacks() {\n    try {\n      root._bokeh_onload_callbacks.forEach(function(callback) {\n        if (callback != null)\n          callback();\n      });\n    } finally {\n      delete root._bokeh_onload_callbacks;\n    }\n    console.debug(\"Bokeh: all callbacks have finished\");\n  }\n\n  function load_libs(css_urls, js_urls, js_modules, js_exports, callback) {\n    if (css_urls == null) css_urls = [];\n    if (js_urls == null) js_urls = [];\n    if (js_modules == null) js_modules = [];\n    if (js_exports == null) js_exports = {};\n\n    root._bokeh_onload_callbacks.push(callback);\n\n    if (root._bokeh_is_loading > 0) {\n      console.debug(\"Bokeh: BokehJS is being loaded, scheduling callback at\", now());\n      return null;\n    }\n    if (js_urls.length === 0 && js_modules.length === 0 && Object.keys(js_exports).length === 0) {\n      run_callbacks();\n      return null;\n    }\n    if (!reloading) {\n      console.debug(\"Bokeh: BokehJS not loaded, scheduling load and callback at\", now());\n    }\n\n    function on_load() {\n      root._bokeh_is_loading--;\n      if (root._bokeh_is_loading === 0) {\n        console.debug(\"Bokeh: all BokehJS libraries/stylesheets loaded\");\n        run_callbacks()\n      }\n    }\n    window._bokeh_on_load = on_load\n\n    function on_error() {\n      console.error(\"failed to load \" + url);\n    }\n\n    var skip = [];\n    if (window.requirejs) {\n      window.requirejs.config({'packages': {}, 'paths': {}, 'shim': {}});\n      root._bokeh_is_loading = css_urls.length + 0;\n    } else {\n      root._bokeh_is_loading = css_urls.length + js_urls.length + js_modules.length + Object.keys(js_exports).length;\n    }\n\n    var existing_stylesheets = []\n    var links = document.getElementsByTagName('link')\n    for (var i = 0; i < links.length; i++) {\n      var link = links[i]\n      if (link.href != null) {\n\texisting_stylesheets.push(link.href)\n      }\n    }\n    for (var i = 0; i < css_urls.length; i++) {\n      var url = css_urls[i];\n      if (existing_stylesheets.indexOf(url) !== -1) {\n\ton_load()\n\tcontinue;\n      }\n      const element = document.createElement(\"link\");\n      element.onload = on_load;\n      element.onerror = on_error;\n      element.rel = \"stylesheet\";\n      element.type = \"text/css\";\n      element.href = url;\n      console.debug(\"Bokeh: injecting link tag for BokehJS stylesheet: \", url);\n      document.body.appendChild(element);\n    }    var existing_scripts = []\n    var scripts = document.getElementsByTagName('script')\n    for (var i = 0; i < scripts.length; i++) {\n      var script = scripts[i]\n      if (script.src != null) {\n\texisting_scripts.push(script.src)\n      }\n    }\n    for (var i = 0; i < js_urls.length; i++) {\n      var url = js_urls[i];\n      if (skip.indexOf(url) !== -1 || existing_scripts.indexOf(url) !== -1) {\n\tif (!window.requirejs) {\n\t  on_load();\n\t}\n\tcontinue;\n      }\n      var element = document.createElement('script');\n      element.onload = on_load;\n      element.onerror = on_error;\n      element.async = false;\n      element.src = url;\n      console.debug(\"Bokeh: injecting script tag for BokehJS library: \", url);\n      document.head.appendChild(element);\n    }\n    for (var i = 0; i < js_modules.length; i++) {\n      var url = js_modules[i];\n      if (skip.indexOf(url) !== -1 || existing_scripts.indexOf(url) !== -1) {\n\tif (!window.requirejs) {\n\t  on_load();\n\t}\n\tcontinue;\n      }\n      var element = document.createElement('script');\n      element.onload = on_load;\n      element.onerror = on_error;\n      element.async = false;\n      element.src = url;\n      element.type = \"module\";\n      console.debug(\"Bokeh: injecting script tag for BokehJS library: \", url);\n      document.head.appendChild(element);\n    }\n    for (const name in js_exports) {\n      var url = js_exports[name];\n      if (skip.indexOf(url) >= 0 || root[name] != null) {\n\tif (!window.requirejs) {\n\t  on_load();\n\t}\n\tcontinue;\n      }\n      var element = document.createElement('script');\n      element.onerror = on_error;\n      element.async = false;\n      element.type = \"module\";\n      console.debug(\"Bokeh: injecting script tag for BokehJS library: \", url);\n      element.textContent = `\n      import ${name} from \"${url}\"\n      window.${name} = ${name}\n      window._bokeh_on_load()\n      `\n      document.head.appendChild(element);\n    }\n    if (!js_urls.length && !js_modules.length) {\n      on_load()\n    }\n  };\n\n  function inject_raw_css(css) {\n    const element = document.createElement(\"style\");\n    element.appendChild(document.createTextNode(css));\n    document.body.appendChild(element);\n  }\n\n  var js_urls = [\"https://cdn.bokeh.org/bokeh/release/bokeh-3.4.0.min.js\", \"https://cdn.bokeh.org/bokeh/release/bokeh-gl-3.4.0.min.js\", \"https://cdn.bokeh.org/bokeh/release/bokeh-widgets-3.4.0.min.js\", \"https://cdn.bokeh.org/bokeh/release/bokeh-tables-3.4.0.min.js\", \"https://cdn.holoviz.org/panel/1.4.0/dist/panel.min.js\"];\n  var js_modules = [];\n  var js_exports = {};\n  var css_urls = [];\n  var inline_js = [    function(Bokeh) {\n      Bokeh.set_log_level(\"info\");\n    },\nfunction(Bokeh) {} // ensure no trailing comma for IE\n  ];\n\n  function run_inline_js() {\n    if ((root.Bokeh !== undefined) || (force === true)) {\n      for (var i = 0; i < inline_js.length; i++) {\n\ttry {\n          inline_js[i].call(root, root.Bokeh);\n\t} catch(e) {\n\t  if (!reloading) {\n\t    throw e;\n\t  }\n\t}\n      }\n      // Cache old bokeh versions\n      if (Bokeh != undefined && !reloading) {\n\tvar NewBokeh = root.Bokeh;\n\tif (Bokeh.versions === undefined) {\n\t  Bokeh.versions = new Map();\n\t}\n\tif (NewBokeh.version !== Bokeh.version) {\n\t  Bokeh.versions.set(NewBokeh.version, NewBokeh)\n\t}\n\troot.Bokeh = Bokeh;\n      }} else if (Date.now() < root._bokeh_timeout) {\n      setTimeout(run_inline_js, 100);\n    } else if (!root._bokeh_failed_load) {\n      console.log(\"Bokeh: BokehJS failed to load within specified timeout.\");\n      root._bokeh_failed_load = true;\n    }\n    root._bokeh_is_initializing = false\n  }\n\n  function load_or_wait() {\n    // Implement a backoff loop that tries to ensure we do not load multiple\n    // versions of Bokeh and its dependencies at the same time.\n    // In recent versions we use the root._bokeh_is_initializing flag\n    // to determine whether there is an ongoing attempt to initialize\n    // bokeh, however for backward compatibility we also try to ensure\n    // that we do not start loading a newer (Panel>=1.0 and Bokeh>3) version\n    // before older versions are fully initialized.\n    if (root._bokeh_is_initializing && Date.now() > root._bokeh_timeout) {\n      root._bokeh_is_initializing = false;\n      root._bokeh_onload_callbacks = undefined;\n      console.log(\"Bokeh: BokehJS was loaded multiple times but one version failed to initialize.\");\n      load_or_wait();\n    } else if (root._bokeh_is_initializing || (typeof root._bokeh_is_initializing === \"undefined\" && root._bokeh_onload_callbacks !== undefined)) {\n      setTimeout(load_or_wait, 100);\n    } else {\n      root._bokeh_is_initializing = true\n      root._bokeh_onload_callbacks = []\n      var bokeh_loaded = Bokeh != null && (Bokeh.version === py_version || (Bokeh.versions !== undefined && Bokeh.versions.has(py_version)));\n      if (!reloading && !bokeh_loaded) {\n\troot.Bokeh = undefined;\n      }\n      load_libs(css_urls, js_urls, js_modules, js_exports, function() {\n\tconsole.debug(\"Bokeh: BokehJS plotting callback run at\", now());\n\trun_inline_js();\n      });\n    }\n  }\n  // Give older versions of the autoload script a head-start to ensure\n  // they initialize before we start loading newer version.\n  setTimeout(load_or_wait, 100)\n}(window));",
      "application/vnd.holoviews_load.v0+json": ""
     },
     "metadata": {},
     "output_type": "display_data"
    },
    {
     "data": {
      "application/javascript": "\nif ((window.PyViz === undefined) || (window.PyViz instanceof HTMLElement)) {\n  window.PyViz = {comms: {}, comm_status:{}, kernels:{}, receivers: {}, plot_index: []}\n}\n\n\n    function JupyterCommManager() {\n    }\n\n    JupyterCommManager.prototype.register_target = function(plot_id, comm_id, msg_handler) {\n      if (window.comm_manager || ((window.Jupyter !== undefined) && (Jupyter.notebook.kernel != null))) {\n        var comm_manager = window.comm_manager || Jupyter.notebook.kernel.comm_manager;\n        comm_manager.register_target(comm_id, function(comm) {\n          comm.on_msg(msg_handler);\n        });\n      } else if ((plot_id in window.PyViz.kernels) && (window.PyViz.kernels[plot_id])) {\n        window.PyViz.kernels[plot_id].registerCommTarget(comm_id, function(comm) {\n          comm.onMsg = msg_handler;\n        });\n      } else if (typeof google != 'undefined' && google.colab.kernel != null) {\n        google.colab.kernel.comms.registerTarget(comm_id, (comm) => {\n          var messages = comm.messages[Symbol.asyncIterator]();\n          function processIteratorResult(result) {\n            var message = result.value;\n            console.log(message)\n            var content = {data: message.data, comm_id};\n            var buffers = []\n            for (var buffer of message.buffers || []) {\n              buffers.push(new DataView(buffer))\n            }\n            var metadata = message.metadata || {};\n            var msg = {content, buffers, metadata}\n            msg_handler(msg);\n            return messages.next().then(processIteratorResult);\n          }\n          return messages.next().then(processIteratorResult);\n        })\n      }\n    }\n\n    JupyterCommManager.prototype.get_client_comm = function(plot_id, comm_id, msg_handler) {\n      if (comm_id in window.PyViz.comms) {\n        return window.PyViz.comms[comm_id];\n      } else if (window.comm_manager || ((window.Jupyter !== undefined) && (Jupyter.notebook.kernel != null))) {\n        var comm_manager = window.comm_manager || Jupyter.notebook.kernel.comm_manager;\n        var comm = comm_manager.new_comm(comm_id, {}, {}, {}, comm_id);\n        if (msg_handler) {\n          comm.on_msg(msg_handler);\n        }\n      } else if ((plot_id in window.PyViz.kernels) && (window.PyViz.kernels[plot_id])) {\n        var comm = window.PyViz.kernels[plot_id].connectToComm(comm_id);\n        comm.open();\n        if (msg_handler) {\n          comm.onMsg = msg_handler;\n        }\n      } else if (typeof google != 'undefined' && google.colab.kernel != null) {\n        var comm_promise = google.colab.kernel.comms.open(comm_id)\n        comm_promise.then((comm) => {\n          window.PyViz.comms[comm_id] = comm;\n          if (msg_handler) {\n            var messages = comm.messages[Symbol.asyncIterator]();\n            function processIteratorResult(result) {\n              var message = result.value;\n              var content = {data: message.data};\n              var metadata = message.metadata || {comm_id};\n              var msg = {content, metadata}\n              msg_handler(msg);\n              return messages.next().then(processIteratorResult);\n            }\n            return messages.next().then(processIteratorResult);\n          }\n        }) \n        var sendClosure = (data, metadata, buffers, disposeOnDone) => {\n          return comm_promise.then((comm) => {\n            comm.send(data, metadata, buffers, disposeOnDone);\n          });\n        };\n        var comm = {\n          send: sendClosure\n        };\n      }\n      window.PyViz.comms[comm_id] = comm;\n      return comm;\n    }\n    window.PyViz.comm_manager = new JupyterCommManager();\n    \n\n\nvar JS_MIME_TYPE = 'application/javascript';\nvar HTML_MIME_TYPE = 'text/html';\nvar EXEC_MIME_TYPE = 'application/vnd.holoviews_exec.v0+json';\nvar CLASS_NAME = 'output';\n\n/**\n * Render data to the DOM node\n */\nfunction render(props, node) {\n  var div = document.createElement(\"div\");\n  var script = document.createElement(\"script\");\n  node.appendChild(div);\n  node.appendChild(script);\n}\n\n/**\n * Handle when a new output is added\n */\nfunction handle_add_output(event, handle) {\n  var output_area = handle.output_area;\n  var output = handle.output;\n  if ((output.data == undefined) || (!output.data.hasOwnProperty(EXEC_MIME_TYPE))) {\n    return\n  }\n  var id = output.metadata[EXEC_MIME_TYPE][\"id\"];\n  var toinsert = output_area.element.find(\".\" + CLASS_NAME.split(' ')[0]);\n  if (id !== undefined) {\n    var nchildren = toinsert.length;\n    var html_node = toinsert[nchildren-1].children[0];\n    html_node.innerHTML = output.data[HTML_MIME_TYPE];\n    var scripts = [];\n    var nodelist = html_node.querySelectorAll(\"script\");\n    for (var i in nodelist) {\n      if (nodelist.hasOwnProperty(i)) {\n        scripts.push(nodelist[i])\n      }\n    }\n\n    scripts.forEach( function (oldScript) {\n      var newScript = document.createElement(\"script\");\n      var attrs = [];\n      var nodemap = oldScript.attributes;\n      for (var j in nodemap) {\n        if (nodemap.hasOwnProperty(j)) {\n          attrs.push(nodemap[j])\n        }\n      }\n      attrs.forEach(function(attr) { newScript.setAttribute(attr.name, attr.value) });\n      newScript.appendChild(document.createTextNode(oldScript.innerHTML));\n      oldScript.parentNode.replaceChild(newScript, oldScript);\n    });\n    if (JS_MIME_TYPE in output.data) {\n      toinsert[nchildren-1].children[1].textContent = output.data[JS_MIME_TYPE];\n    }\n    output_area._hv_plot_id = id;\n    if ((window.Bokeh !== undefined) && (id in Bokeh.index)) {\n      window.PyViz.plot_index[id] = Bokeh.index[id];\n    } else {\n      window.PyViz.plot_index[id] = null;\n    }\n  } else if (output.metadata[EXEC_MIME_TYPE][\"server_id\"] !== undefined) {\n    var bk_div = document.createElement(\"div\");\n    bk_div.innerHTML = output.data[HTML_MIME_TYPE];\n    var script_attrs = bk_div.children[0].attributes;\n    for (var i = 0; i < script_attrs.length; i++) {\n      toinsert[toinsert.length - 1].childNodes[1].setAttribute(script_attrs[i].name, script_attrs[i].value);\n    }\n    // store reference to server id on output_area\n    output_area._bokeh_server_id = output.metadata[EXEC_MIME_TYPE][\"server_id\"];\n  }\n}\n\n/**\n * Handle when an output is cleared or removed\n */\nfunction handle_clear_output(event, handle) {\n  var id = handle.cell.output_area._hv_plot_id;\n  var server_id = handle.cell.output_area._bokeh_server_id;\n  if (((id === undefined) || !(id in PyViz.plot_index)) && (server_id !== undefined)) { return; }\n  var comm = window.PyViz.comm_manager.get_client_comm(\"hv-extension-comm\", \"hv-extension-comm\", function () {});\n  if (server_id !== null) {\n    comm.send({event_type: 'server_delete', 'id': server_id});\n    return;\n  } else if (comm !== null) {\n    comm.send({event_type: 'delete', 'id': id});\n  }\n  delete PyViz.plot_index[id];\n  if ((window.Bokeh !== undefined) & (id in window.Bokeh.index)) {\n    var doc = window.Bokeh.index[id].model.document\n    doc.clear();\n    const i = window.Bokeh.documents.indexOf(doc);\n    if (i > -1) {\n      window.Bokeh.documents.splice(i, 1);\n    }\n  }\n}\n\n/**\n * Handle kernel restart event\n */\nfunction handle_kernel_cleanup(event, handle) {\n  delete PyViz.comms[\"hv-extension-comm\"];\n  window.PyViz.plot_index = {}\n}\n\n/**\n * Handle update_display_data messages\n */\nfunction handle_update_output(event, handle) {\n  handle_clear_output(event, {cell: {output_area: handle.output_area}})\n  handle_add_output(event, handle)\n}\n\nfunction register_renderer(events, OutputArea) {\n  function append_mime(data, metadata, element) {\n    // create a DOM node to render to\n    var toinsert = this.create_output_subarea(\n    metadata,\n    CLASS_NAME,\n    EXEC_MIME_TYPE\n    );\n    this.keyboard_manager.register_events(toinsert);\n    // Render to node\n    var props = {data: data, metadata: metadata[EXEC_MIME_TYPE]};\n    render(props, toinsert[0]);\n    element.append(toinsert);\n    return toinsert\n  }\n\n  events.on('output_added.OutputArea', handle_add_output);\n  events.on('output_updated.OutputArea', handle_update_output);\n  events.on('clear_output.CodeCell', handle_clear_output);\n  events.on('delete.Cell', handle_clear_output);\n  events.on('kernel_ready.Kernel', handle_kernel_cleanup);\n\n  OutputArea.prototype.register_mime_type(EXEC_MIME_TYPE, append_mime, {\n    safe: true,\n    index: 0\n  });\n}\n\nif (window.Jupyter !== undefined) {\n  try {\n    var events = require('base/js/events');\n    var OutputArea = require('notebook/js/outputarea').OutputArea;\n    if (OutputArea.prototype.mime_types().indexOf(EXEC_MIME_TYPE) == -1) {\n      register_renderer(events, OutputArea);\n    }\n  } catch(err) {\n  }\n}\n",
      "application/vnd.holoviews_load.v0+json": ""
     },
     "metadata": {},
     "output_type": "display_data"
    },
    {
     "data": {
      "text/html": [
       "<style>*[data-root-id],\n",
       "*[data-root-id] > * {\n",
       "  box-sizing: border-box;\n",
       "  font-family: var(--jp-ui-font-family);\n",
       "  font-size: var(--jp-ui-font-size1);\n",
       "  color: var(--vscode-editor-foreground, var(--jp-ui-font-color1));\n",
       "}\n",
       "\n",
       "/* Override VSCode background color */\n",
       ".cell-output-ipywidget-background:has(\n",
       "    > .cell-output-ipywidget-background > .lm-Widget > *[data-root-id]\n",
       "  ),\n",
       ".cell-output-ipywidget-background:has(> .lm-Widget > *[data-root-id]) {\n",
       "  background-color: transparent !important;\n",
       "}\n",
       "</style>"
      ]
     },
     "metadata": {},
     "output_type": "display_data"
    },
    {
     "data": {
      "application/vnd.holoviews_exec.v0+json": "",
      "text/html": [
       "<div id='9516ee69-26fc-49e6-8b87-3ecfbc7a112a'>\n",
       "  <div id=\"c3f82f0d-67d0-4ac3-ae5c-544cc54611ea\" data-root-id=\"9516ee69-26fc-49e6-8b87-3ecfbc7a112a\" style=\"display: contents;\"></div>\n",
       "</div>\n",
       "<script type=\"application/javascript\">(function(root) {\n",
       "  var docs_json = {\"4a7a588f-1e30-4347-8779-99e2e1da99ac\":{\"version\":\"3.4.0\",\"title\":\"Bokeh Application\",\"roots\":[{\"type\":\"object\",\"name\":\"panel.models.browser.BrowserInfo\",\"id\":\"9516ee69-26fc-49e6-8b87-3ecfbc7a112a\"},{\"type\":\"object\",\"name\":\"panel.models.comm_manager.CommManager\",\"id\":\"50f10d2a-8bfe-45e1-b4ee-3e3fe1f52fd1\",\"attributes\":{\"plot_id\":\"9516ee69-26fc-49e6-8b87-3ecfbc7a112a\",\"comm_id\":\"107170972f8541be9c7bc92a62ac410f\",\"client_comm_id\":\"c072d666313543bd9afe30a1ac7345d2\"}}],\"defs\":[{\"type\":\"model\",\"name\":\"ReactiveHTML1\"},{\"type\":\"model\",\"name\":\"FlexBox1\",\"properties\":[{\"name\":\"align_content\",\"kind\":\"Any\",\"default\":\"flex-start\"},{\"name\":\"align_items\",\"kind\":\"Any\",\"default\":\"flex-start\"},{\"name\":\"flex_direction\",\"kind\":\"Any\",\"default\":\"row\"},{\"name\":\"flex_wrap\",\"kind\":\"Any\",\"default\":\"wrap\"},{\"name\":\"justify_content\",\"kind\":\"Any\",\"default\":\"flex-start\"},{\"name\":\"gap\",\"kind\":\"Any\",\"default\":\"\"}]},{\"type\":\"model\",\"name\":\"FloatPanel1\",\"properties\":[{\"name\":\"config\",\"kind\":\"Any\",\"default\":{\"type\":\"map\"}},{\"name\":\"contained\",\"kind\":\"Any\",\"default\":true},{\"name\":\"position\",\"kind\":\"Any\",\"default\":\"right-top\"},{\"name\":\"offsetx\",\"kind\":\"Any\",\"default\":null},{\"name\":\"offsety\",\"kind\":\"Any\",\"default\":null},{\"name\":\"theme\",\"kind\":\"Any\",\"default\":\"primary\"},{\"name\":\"status\",\"kind\":\"Any\",\"default\":\"normalized\"}]},{\"type\":\"model\",\"name\":\"GridStack1\",\"properties\":[{\"name\":\"mode\",\"kind\":\"Any\",\"default\":\"warn\"},{\"name\":\"ncols\",\"kind\":\"Any\",\"default\":null},{\"name\":\"nrows\",\"kind\":\"Any\",\"default\":null},{\"name\":\"allow_resize\",\"kind\":\"Any\",\"default\":true},{\"name\":\"allow_drag\",\"kind\":\"Any\",\"default\":true},{\"name\":\"state\",\"kind\":\"Any\",\"default\":[]}]},{\"type\":\"model\",\"name\":\"drag1\",\"properties\":[{\"name\":\"slider_width\",\"kind\":\"Any\",\"default\":5},{\"name\":\"slider_color\",\"kind\":\"Any\",\"default\":\"black\"},{\"name\":\"value\",\"kind\":\"Any\",\"default\":50}]},{\"type\":\"model\",\"name\":\"click1\",\"properties\":[{\"name\":\"terminal_output\",\"kind\":\"Any\",\"default\":\"\"},{\"name\":\"debug_name\",\"kind\":\"Any\",\"default\":\"\"},{\"name\":\"clears\",\"kind\":\"Any\",\"default\":0}]},{\"type\":\"model\",\"name\":\"FastWrapper1\",\"properties\":[{\"name\":\"object\",\"kind\":\"Any\",\"default\":null},{\"name\":\"style\",\"kind\":\"Any\",\"default\":null}]},{\"type\":\"model\",\"name\":\"NotificationAreaBase1\",\"properties\":[{\"name\":\"js_events\",\"kind\":\"Any\",\"default\":{\"type\":\"map\"}},{\"name\":\"position\",\"kind\":\"Any\",\"default\":\"bottom-right\"},{\"name\":\"_clear\",\"kind\":\"Any\",\"default\":0}]},{\"type\":\"model\",\"name\":\"NotificationArea1\",\"properties\":[{\"name\":\"js_events\",\"kind\":\"Any\",\"default\":{\"type\":\"map\"}},{\"name\":\"notifications\",\"kind\":\"Any\",\"default\":[]},{\"name\":\"position\",\"kind\":\"Any\",\"default\":\"bottom-right\"},{\"name\":\"_clear\",\"kind\":\"Any\",\"default\":0},{\"name\":\"types\",\"kind\":\"Any\",\"default\":[{\"type\":\"map\",\"entries\":[[\"type\",\"warning\"],[\"background\",\"#ffc107\"],[\"icon\",{\"type\":\"map\",\"entries\":[[\"className\",\"fas fa-exclamation-triangle\"],[\"tagName\",\"i\"],[\"color\",\"white\"]]}]]},{\"type\":\"map\",\"entries\":[[\"type\",\"info\"],[\"background\",\"#007bff\"],[\"icon\",{\"type\":\"map\",\"entries\":[[\"className\",\"fas fa-info-circle\"],[\"tagName\",\"i\"],[\"color\",\"white\"]]}]]}]}]},{\"type\":\"model\",\"name\":\"Notification\",\"properties\":[{\"name\":\"background\",\"kind\":\"Any\",\"default\":null},{\"name\":\"duration\",\"kind\":\"Any\",\"default\":3000},{\"name\":\"icon\",\"kind\":\"Any\",\"default\":null},{\"name\":\"message\",\"kind\":\"Any\",\"default\":\"\"},{\"name\":\"notification_type\",\"kind\":\"Any\",\"default\":null},{\"name\":\"_destroyed\",\"kind\":\"Any\",\"default\":false}]},{\"type\":\"model\",\"name\":\"TemplateActions1\",\"properties\":[{\"name\":\"open_modal\",\"kind\":\"Any\",\"default\":0},{\"name\":\"close_modal\",\"kind\":\"Any\",\"default\":0}]},{\"type\":\"model\",\"name\":\"BootstrapTemplateActions1\",\"properties\":[{\"name\":\"open_modal\",\"kind\":\"Any\",\"default\":0},{\"name\":\"close_modal\",\"kind\":\"Any\",\"default\":0}]},{\"type\":\"model\",\"name\":\"TemplateEditor1\",\"properties\":[{\"name\":\"layout\",\"kind\":\"Any\",\"default\":[]}]},{\"type\":\"model\",\"name\":\"MaterialTemplateActions1\",\"properties\":[{\"name\":\"open_modal\",\"kind\":\"Any\",\"default\":0},{\"name\":\"close_modal\",\"kind\":\"Any\",\"default\":0}]},{\"type\":\"model\",\"name\":\"copy_to_clipboard1\",\"properties\":[{\"name\":\"fill\",\"kind\":\"Any\",\"default\":\"none\"},{\"name\":\"value\",\"kind\":\"Any\",\"default\":null}]}]}};\n",
       "  var render_items = [{\"docid\":\"4a7a588f-1e30-4347-8779-99e2e1da99ac\",\"roots\":{\"9516ee69-26fc-49e6-8b87-3ecfbc7a112a\":\"c3f82f0d-67d0-4ac3-ae5c-544cc54611ea\"},\"root_ids\":[\"9516ee69-26fc-49e6-8b87-3ecfbc7a112a\"]}];\n",
       "  var docs = Object.values(docs_json)\n",
       "  if (!docs) {\n",
       "    return\n",
       "  }\n",
       "  const py_version = docs[0].version.replace('rc', '-rc.').replace('.dev', '-dev.')\n",
       "  function embed_document(root) {\n",
       "    var Bokeh = get_bokeh(root)\n",
       "    Bokeh.embed.embed_items_notebook(docs_json, render_items);\n",
       "    for (const render_item of render_items) {\n",
       "      for (const root_id of render_item.root_ids) {\n",
       "\tconst id_el = document.getElementById(root_id)\n",
       "\tif (id_el.children.length && (id_el.children[0].className === 'bk-root')) {\n",
       "\t  const root_el = id_el.children[0]\n",
       "\t  root_el.id = root_el.id + '-rendered'\n",
       "\t}\n",
       "      }\n",
       "    }\n",
       "  }\n",
       "  function get_bokeh(root) {\n",
       "    if (root.Bokeh === undefined) {\n",
       "      return null\n",
       "    } else if (root.Bokeh.version !== py_version) {\n",
       "      if (root.Bokeh.versions === undefined || !root.Bokeh.versions.has(py_version)) {\n",
       "\treturn null\n",
       "      }\n",
       "      return root.Bokeh.versions.get(py_version);\n",
       "    } else if (root.Bokeh.version === py_version) {\n",
       "      return root.Bokeh\n",
       "    }\n",
       "    return null\n",
       "  }\n",
       "  function is_loaded(root) {\n",
       "    var Bokeh = get_bokeh(root)\n",
       "    return (Bokeh != null && Bokeh.Panel !== undefined)\n",
       "  }\n",
       "  if (is_loaded(root)) {\n",
       "    embed_document(root);\n",
       "  } else {\n",
       "    var attempts = 0;\n",
       "    var timer = setInterval(function(root) {\n",
       "      if (is_loaded(root)) {\n",
       "        clearInterval(timer);\n",
       "        embed_document(root);\n",
       "      } else if (document.readyState == \"complete\") {\n",
       "        attempts++;\n",
       "        if (attempts > 200) {\n",
       "          clearInterval(timer);\n",
       "\t  var Bokeh = get_bokeh(root)\n",
       "\t  if (Bokeh == null || Bokeh.Panel == null) {\n",
       "            console.warn(\"Panel: ERROR: Unable to run Panel code because Bokeh or Panel library is missing\");\n",
       "\t  } else {\n",
       "\t    console.warn(\"Panel: WARNING: Attempting to render but not all required libraries could be resolved.\")\n",
       "\t    embed_document(root)\n",
       "\t  }\n",
       "        }\n",
       "      }\n",
       "    }, 25, root)\n",
       "  }\n",
       "})(window);</script>"
      ]
     },
     "metadata": {
      "application/vnd.holoviews_exec.v0+json": {
       "id": "9516ee69-26fc-49e6-8b87-3ecfbc7a112a"
      }
     },
     "output_type": "display_data"
    }
   ],
   "source": [
    "import param\n",
    "import panel as pn\n",
    "pn.extension()\n",
    "import datetime as dt\n",
    "import importlib\n",
    "from importlib import reload\n",
    "from tqdm import tqdm"
   ]
  },
  {
   "cell_type": "code",
   "execution_count": 4,
   "id": "b953ada0-a09f-4d69-8a01-5776b4539a73",
   "metadata": {},
   "outputs": [],
   "source": [
    "# import py_lib as lib\n",
    "import graph as gr\n",
    "import params as par\n",
    "reload(gr)\n",
    "reload(par)\n",
    "import graph as gr\n",
    "import params as par"
   ]
  },
  {
   "cell_type": "code",
   "execution_count": 10,
   "id": "61b8d2c3-0e75-4c18-9302-f84c57178aed",
   "metadata": {},
   "outputs": [
    {
     "data": {
      "text/plain": [
       "{'Age': '{:.0f}',\n",
       " 'RestingBP': '{:.0f}',\n",
       " 'Cholesterol': '{:.0f}',\n",
       " 'MaxHR': '{:.0f}',\n",
       " 'FastingBS': '{:.1f}',\n",
       " 'HeartDisease': '{:.1f}',\n",
       " 'Oldpeak': '{:.2f}'}"
      ]
     },
     "execution_count": 10,
     "metadata": {},
     "output_type": "execute_result"
    }
   ],
   "source": [
    "format_dict = par.create_format_dict()\n",
    "format_dict"
   ]
  },
  {
   "cell_type": "markdown",
   "id": "607e05bd-0726-41dd-bf81-4d428149a5ac",
   "metadata": {},
   "source": [
    "# Import Data"
   ]
  },
  {
   "cell_type": "code",
   "execution_count": 6,
   "id": "9418bc11-4422-477c-bdc6-9d0ce573c0e7",
   "metadata": {},
   "outputs": [],
   "source": [
    "df_heart = pd.read_csv('heart.csv')\n",
    "# df_heart_test = pd.read_csv('ml4h_data/project1/heart_failure/test_split.csv')\n",
    "# df_heart_train = pd.read_csv('ml4h_data/project1/heart_failure/train_val_split.csv')\n",
    "df_heart_test = pd.read_csv('test_split.csv')\n",
    "df_heart_train = pd.read_csv('train_val_split.csv')"
   ]
  },
  {
   "cell_type": "code",
   "execution_count": 7,
   "id": "62beaa62-7c99-4b98-bcdf-8345da39415b",
   "metadata": {},
   "outputs": [
    {
     "data": {
      "text/html": [
       "<div>\n",
       "<style scoped>\n",
       "    .dataframe tbody tr th:only-of-type {\n",
       "        vertical-align: middle;\n",
       "    }\n",
       "\n",
       "    .dataframe tbody tr th {\n",
       "        vertical-align: top;\n",
       "    }\n",
       "\n",
       "    .dataframe thead th {\n",
       "        text-align: right;\n",
       "    }\n",
       "</style>\n",
       "<table border=\"1\" class=\"dataframe\">\n",
       "  <thead>\n",
       "    <tr style=\"text-align: right;\">\n",
       "      <th></th>\n",
       "      <th>Age</th>\n",
       "      <th>Sex</th>\n",
       "      <th>ChestPainType</th>\n",
       "      <th>RestingBP</th>\n",
       "      <th>Cholesterol</th>\n",
       "      <th>FastingBS</th>\n",
       "      <th>RestingECG</th>\n",
       "      <th>MaxHR</th>\n",
       "      <th>ExerciseAngina</th>\n",
       "      <th>Oldpeak</th>\n",
       "      <th>ST_Slope</th>\n",
       "      <th>HeartDisease</th>\n",
       "    </tr>\n",
       "  </thead>\n",
       "  <tbody>\n",
       "    <tr>\n",
       "      <th>0</th>\n",
       "      <td>40</td>\n",
       "      <td>M</td>\n",
       "      <td>ATA</td>\n",
       "      <td>140</td>\n",
       "      <td>289</td>\n",
       "      <td>0</td>\n",
       "      <td>Normal</td>\n",
       "      <td>172</td>\n",
       "      <td>N</td>\n",
       "      <td>0.0</td>\n",
       "      <td>Up</td>\n",
       "      <td>0</td>\n",
       "    </tr>\n",
       "    <tr>\n",
       "      <th>1</th>\n",
       "      <td>49</td>\n",
       "      <td>F</td>\n",
       "      <td>NAP</td>\n",
       "      <td>160</td>\n",
       "      <td>180</td>\n",
       "      <td>0</td>\n",
       "      <td>Normal</td>\n",
       "      <td>156</td>\n",
       "      <td>N</td>\n",
       "      <td>1.0</td>\n",
       "      <td>Flat</td>\n",
       "      <td>1</td>\n",
       "    </tr>\n",
       "  </tbody>\n",
       "</table>\n",
       "</div>"
      ],
      "text/plain": [
       "   Age Sex ChestPainType  RestingBP  Cholesterol  FastingBS RestingECG  MaxHR  \\\n",
       "0   40   M           ATA        140          289          0     Normal    172   \n",
       "1   49   F           NAP        160          180          0     Normal    156   \n",
       "\n",
       "  ExerciseAngina  Oldpeak ST_Slope  HeartDisease  \n",
       "0              N      0.0       Up             0  \n",
       "1              N      1.0     Flat             1  "
      ]
     },
     "execution_count": 7,
     "metadata": {},
     "output_type": "execute_result"
    }
   ],
   "source": [
    "df_heart.head(2)"
   ]
  },
  {
   "cell_type": "code",
   "execution_count": 11,
   "id": "fb39c642-8f2c-41ab-bf64-6ee6784826ef",
   "metadata": {},
   "outputs": [
    {
     "data": {
      "text/html": [
       "<style type=\"text/css\">\n",
       "</style>\n",
       "<table id=\"T_d427c\">\n",
       "  <thead>\n",
       "    <tr>\n",
       "      <th class=\"blank level0\" >&nbsp;</th>\n",
       "      <th id=\"T_d427c_level0_col0\" class=\"col_heading level0 col0\" >Age</th>\n",
       "      <th id=\"T_d427c_level0_col1\" class=\"col_heading level0 col1\" >RestingBP</th>\n",
       "      <th id=\"T_d427c_level0_col2\" class=\"col_heading level0 col2\" >Cholesterol</th>\n",
       "      <th id=\"T_d427c_level0_col3\" class=\"col_heading level0 col3\" >FastingBS</th>\n",
       "      <th id=\"T_d427c_level0_col4\" class=\"col_heading level0 col4\" >MaxHR</th>\n",
       "      <th id=\"T_d427c_level0_col5\" class=\"col_heading level0 col5\" >Oldpeak</th>\n",
       "      <th id=\"T_d427c_level0_col6\" class=\"col_heading level0 col6\" >HeartDisease</th>\n",
       "    </tr>\n",
       "  </thead>\n",
       "  <tbody>\n",
       "    <tr>\n",
       "      <th id=\"T_d427c_level0_row0\" class=\"row_heading level0 row0\" >count</th>\n",
       "      <td id=\"T_d427c_row0_col0\" class=\"data row0 col0\" >918</td>\n",
       "      <td id=\"T_d427c_row0_col1\" class=\"data row0 col1\" >918</td>\n",
       "      <td id=\"T_d427c_row0_col2\" class=\"data row0 col2\" >918</td>\n",
       "      <td id=\"T_d427c_row0_col3\" class=\"data row0 col3\" >918.0</td>\n",
       "      <td id=\"T_d427c_row0_col4\" class=\"data row0 col4\" >918</td>\n",
       "      <td id=\"T_d427c_row0_col5\" class=\"data row0 col5\" >918.00</td>\n",
       "      <td id=\"T_d427c_row0_col6\" class=\"data row0 col6\" >918.0</td>\n",
       "    </tr>\n",
       "    <tr>\n",
       "      <th id=\"T_d427c_level0_row1\" class=\"row_heading level0 row1\" >mean</th>\n",
       "      <td id=\"T_d427c_row1_col0\" class=\"data row1 col0\" >54</td>\n",
       "      <td id=\"T_d427c_row1_col1\" class=\"data row1 col1\" >132</td>\n",
       "      <td id=\"T_d427c_row1_col2\" class=\"data row1 col2\" >199</td>\n",
       "      <td id=\"T_d427c_row1_col3\" class=\"data row1 col3\" >0.2</td>\n",
       "      <td id=\"T_d427c_row1_col4\" class=\"data row1 col4\" >137</td>\n",
       "      <td id=\"T_d427c_row1_col5\" class=\"data row1 col5\" >0.89</td>\n",
       "      <td id=\"T_d427c_row1_col6\" class=\"data row1 col6\" >0.6</td>\n",
       "    </tr>\n",
       "    <tr>\n",
       "      <th id=\"T_d427c_level0_row2\" class=\"row_heading level0 row2\" >std</th>\n",
       "      <td id=\"T_d427c_row2_col0\" class=\"data row2 col0\" >9</td>\n",
       "      <td id=\"T_d427c_row2_col1\" class=\"data row2 col1\" >19</td>\n",
       "      <td id=\"T_d427c_row2_col2\" class=\"data row2 col2\" >109</td>\n",
       "      <td id=\"T_d427c_row2_col3\" class=\"data row2 col3\" >0.4</td>\n",
       "      <td id=\"T_d427c_row2_col4\" class=\"data row2 col4\" >25</td>\n",
       "      <td id=\"T_d427c_row2_col5\" class=\"data row2 col5\" >1.07</td>\n",
       "      <td id=\"T_d427c_row2_col6\" class=\"data row2 col6\" >0.5</td>\n",
       "    </tr>\n",
       "    <tr>\n",
       "      <th id=\"T_d427c_level0_row3\" class=\"row_heading level0 row3\" >min</th>\n",
       "      <td id=\"T_d427c_row3_col0\" class=\"data row3 col0\" >28</td>\n",
       "      <td id=\"T_d427c_row3_col1\" class=\"data row3 col1\" >0</td>\n",
       "      <td id=\"T_d427c_row3_col2\" class=\"data row3 col2\" >0</td>\n",
       "      <td id=\"T_d427c_row3_col3\" class=\"data row3 col3\" >0.0</td>\n",
       "      <td id=\"T_d427c_row3_col4\" class=\"data row3 col4\" >60</td>\n",
       "      <td id=\"T_d427c_row3_col5\" class=\"data row3 col5\" >-2.60</td>\n",
       "      <td id=\"T_d427c_row3_col6\" class=\"data row3 col6\" >0.0</td>\n",
       "    </tr>\n",
       "    <tr>\n",
       "      <th id=\"T_d427c_level0_row4\" class=\"row_heading level0 row4\" >25%</th>\n",
       "      <td id=\"T_d427c_row4_col0\" class=\"data row4 col0\" >47</td>\n",
       "      <td id=\"T_d427c_row4_col1\" class=\"data row4 col1\" >120</td>\n",
       "      <td id=\"T_d427c_row4_col2\" class=\"data row4 col2\" >173</td>\n",
       "      <td id=\"T_d427c_row4_col3\" class=\"data row4 col3\" >0.0</td>\n",
       "      <td id=\"T_d427c_row4_col4\" class=\"data row4 col4\" >120</td>\n",
       "      <td id=\"T_d427c_row4_col5\" class=\"data row4 col5\" >0.00</td>\n",
       "      <td id=\"T_d427c_row4_col6\" class=\"data row4 col6\" >0.0</td>\n",
       "    </tr>\n",
       "    <tr>\n",
       "      <th id=\"T_d427c_level0_row5\" class=\"row_heading level0 row5\" >50%</th>\n",
       "      <td id=\"T_d427c_row5_col0\" class=\"data row5 col0\" >54</td>\n",
       "      <td id=\"T_d427c_row5_col1\" class=\"data row5 col1\" >130</td>\n",
       "      <td id=\"T_d427c_row5_col2\" class=\"data row5 col2\" >223</td>\n",
       "      <td id=\"T_d427c_row5_col3\" class=\"data row5 col3\" >0.0</td>\n",
       "      <td id=\"T_d427c_row5_col4\" class=\"data row5 col4\" >138</td>\n",
       "      <td id=\"T_d427c_row5_col5\" class=\"data row5 col5\" >0.60</td>\n",
       "      <td id=\"T_d427c_row5_col6\" class=\"data row5 col6\" >1.0</td>\n",
       "    </tr>\n",
       "    <tr>\n",
       "      <th id=\"T_d427c_level0_row6\" class=\"row_heading level0 row6\" >75%</th>\n",
       "      <td id=\"T_d427c_row6_col0\" class=\"data row6 col0\" >60</td>\n",
       "      <td id=\"T_d427c_row6_col1\" class=\"data row6 col1\" >140</td>\n",
       "      <td id=\"T_d427c_row6_col2\" class=\"data row6 col2\" >267</td>\n",
       "      <td id=\"T_d427c_row6_col3\" class=\"data row6 col3\" >0.0</td>\n",
       "      <td id=\"T_d427c_row6_col4\" class=\"data row6 col4\" >156</td>\n",
       "      <td id=\"T_d427c_row6_col5\" class=\"data row6 col5\" >1.50</td>\n",
       "      <td id=\"T_d427c_row6_col6\" class=\"data row6 col6\" >1.0</td>\n",
       "    </tr>\n",
       "    <tr>\n",
       "      <th id=\"T_d427c_level0_row7\" class=\"row_heading level0 row7\" >max</th>\n",
       "      <td id=\"T_d427c_row7_col0\" class=\"data row7 col0\" >77</td>\n",
       "      <td id=\"T_d427c_row7_col1\" class=\"data row7 col1\" >200</td>\n",
       "      <td id=\"T_d427c_row7_col2\" class=\"data row7 col2\" >603</td>\n",
       "      <td id=\"T_d427c_row7_col3\" class=\"data row7 col3\" >1.0</td>\n",
       "      <td id=\"T_d427c_row7_col4\" class=\"data row7 col4\" >202</td>\n",
       "      <td id=\"T_d427c_row7_col5\" class=\"data row7 col5\" >6.20</td>\n",
       "      <td id=\"T_d427c_row7_col6\" class=\"data row7 col6\" >1.0</td>\n",
       "    </tr>\n",
       "  </tbody>\n",
       "</table>\n"
      ],
      "text/plain": [
       "<pandas.io.formats.style.Styler at 0x7f0f07e913f0>"
      ]
     },
     "execution_count": 11,
     "metadata": {},
     "output_type": "execute_result"
    }
   ],
   "source": [
    "df_heart.describe().style.format(format_dict)"
   ]
  },
  {
   "cell_type": "code",
   "execution_count": 12,
   "id": "966e8051-8b77-4284-8983-5c6d45f586ea",
   "metadata": {},
   "outputs": [
    {
     "data": {
      "text/html": [
       "<style type=\"text/css\">\n",
       "</style>\n",
       "<table id=\"T_6c045\">\n",
       "  <thead>\n",
       "    <tr>\n",
       "      <th class=\"blank level0\" >&nbsp;</th>\n",
       "      <th id=\"T_6c045_level0_col0\" class=\"col_heading level0 col0\" >Age</th>\n",
       "      <th id=\"T_6c045_level0_col1\" class=\"col_heading level0 col1\" >RestingBP</th>\n",
       "      <th id=\"T_6c045_level0_col2\" class=\"col_heading level0 col2\" >Cholesterol</th>\n",
       "      <th id=\"T_6c045_level0_col3\" class=\"col_heading level0 col3\" >FastingBS</th>\n",
       "      <th id=\"T_6c045_level0_col4\" class=\"col_heading level0 col4\" >MaxHR</th>\n",
       "      <th id=\"T_6c045_level0_col5\" class=\"col_heading level0 col5\" >Oldpeak</th>\n",
       "      <th id=\"T_6c045_level0_col6\" class=\"col_heading level0 col6\" >HeartDisease</th>\n",
       "    </tr>\n",
       "  </thead>\n",
       "  <tbody>\n",
       "    <tr>\n",
       "      <th id=\"T_6c045_level0_row0\" class=\"row_heading level0 row0\" >count</th>\n",
       "      <td id=\"T_6c045_row0_col0\" class=\"data row0 col0\" >184</td>\n",
       "      <td id=\"T_6c045_row0_col1\" class=\"data row0 col1\" >184</td>\n",
       "      <td id=\"T_6c045_row0_col2\" class=\"data row0 col2\" >184</td>\n",
       "      <td id=\"T_6c045_row0_col3\" class=\"data row0 col3\" >184.0</td>\n",
       "      <td id=\"T_6c045_row0_col4\" class=\"data row0 col4\" >184</td>\n",
       "      <td id=\"T_6c045_row0_col5\" class=\"data row0 col5\" >184.00</td>\n",
       "      <td id=\"T_6c045_row0_col6\" class=\"data row0 col6\" >184.0</td>\n",
       "    </tr>\n",
       "    <tr>\n",
       "      <th id=\"T_6c045_level0_row1\" class=\"row_heading level0 row1\" >mean</th>\n",
       "      <td id=\"T_6c045_row1_col0\" class=\"data row1 col0\" >53</td>\n",
       "      <td id=\"T_6c045_row1_col1\" class=\"data row1 col1\" >134</td>\n",
       "      <td id=\"T_6c045_row1_col2\" class=\"data row1 col2\" >204</td>\n",
       "      <td id=\"T_6c045_row1_col3\" class=\"data row1 col3\" >0.2</td>\n",
       "      <td id=\"T_6c045_row1_col4\" class=\"data row1 col4\" >139</td>\n",
       "      <td id=\"T_6c045_row1_col5\" class=\"data row1 col5\" >0.94</td>\n",
       "      <td id=\"T_6c045_row1_col6\" class=\"data row1 col6\" >0.6</td>\n",
       "    </tr>\n",
       "    <tr>\n",
       "      <th id=\"T_6c045_level0_row2\" class=\"row_heading level0 row2\" >std</th>\n",
       "      <td id=\"T_6c045_row2_col0\" class=\"data row2 col0\" >10</td>\n",
       "      <td id=\"T_6c045_row2_col1\" class=\"data row2 col1\" >18</td>\n",
       "      <td id=\"T_6c045_row2_col2\" class=\"data row2 col2\" >111</td>\n",
       "      <td id=\"T_6c045_row2_col3\" class=\"data row2 col3\" >0.4</td>\n",
       "      <td id=\"T_6c045_row2_col4\" class=\"data row2 col4\" >26</td>\n",
       "      <td id=\"T_6c045_row2_col5\" class=\"data row2 col5\" >1.00</td>\n",
       "      <td id=\"T_6c045_row2_col6\" class=\"data row2 col6\" >0.5</td>\n",
       "    </tr>\n",
       "    <tr>\n",
       "      <th id=\"T_6c045_level0_row3\" class=\"row_heading level0 row3\" >min</th>\n",
       "      <td id=\"T_6c045_row3_col0\" class=\"data row3 col0\" >28</td>\n",
       "      <td id=\"T_6c045_row3_col1\" class=\"data row3 col1\" >92</td>\n",
       "      <td id=\"T_6c045_row3_col2\" class=\"data row3 col2\" >0</td>\n",
       "      <td id=\"T_6c045_row3_col3\" class=\"data row3 col3\" >0.0</td>\n",
       "      <td id=\"T_6c045_row3_col4\" class=\"data row3 col4\" >71</td>\n",
       "      <td id=\"T_6c045_row3_col5\" class=\"data row3 col5\" >-2.60</td>\n",
       "      <td id=\"T_6c045_row3_col6\" class=\"data row3 col6\" >0.0</td>\n",
       "    </tr>\n",
       "    <tr>\n",
       "      <th id=\"T_6c045_level0_row4\" class=\"row_heading level0 row4\" >25%</th>\n",
       "      <td id=\"T_6c045_row4_col0\" class=\"data row4 col0\" >48</td>\n",
       "      <td id=\"T_6c045_row4_col1\" class=\"data row4 col1\" >120</td>\n",
       "      <td id=\"T_6c045_row4_col2\" class=\"data row4 col2\" >177</td>\n",
       "      <td id=\"T_6c045_row4_col3\" class=\"data row4 col3\" >0.0</td>\n",
       "      <td id=\"T_6c045_row4_col4\" class=\"data row4 col4\" >120</td>\n",
       "      <td id=\"T_6c045_row4_col5\" class=\"data row4 col5\" >0.00</td>\n",
       "      <td id=\"T_6c045_row4_col6\" class=\"data row4 col6\" >0.0</td>\n",
       "    </tr>\n",
       "    <tr>\n",
       "      <th id=\"T_6c045_level0_row5\" class=\"row_heading level0 row5\" >50%</th>\n",
       "      <td id=\"T_6c045_row5_col0\" class=\"data row5 col0\" >54</td>\n",
       "      <td id=\"T_6c045_row5_col1\" class=\"data row5 col1\" >130</td>\n",
       "      <td id=\"T_6c045_row5_col2\" class=\"data row5 col2\" >223</td>\n",
       "      <td id=\"T_6c045_row5_col3\" class=\"data row5 col3\" >0.0</td>\n",
       "      <td id=\"T_6c045_row5_col4\" class=\"data row5 col4\" >140</td>\n",
       "      <td id=\"T_6c045_row5_col5\" class=\"data row5 col5\" >1.00</td>\n",
       "      <td id=\"T_6c045_row5_col6\" class=\"data row5 col6\" >1.0</td>\n",
       "    </tr>\n",
       "    <tr>\n",
       "      <th id=\"T_6c045_level0_row6\" class=\"row_heading level0 row6\" >75%</th>\n",
       "      <td id=\"T_6c045_row6_col0\" class=\"data row6 col0\" >60</td>\n",
       "      <td id=\"T_6c045_row6_col1\" class=\"data row6 col1\" >145</td>\n",
       "      <td id=\"T_6c045_row6_col2\" class=\"data row6 col2\" >265</td>\n",
       "      <td id=\"T_6c045_row6_col3\" class=\"data row6 col3\" >0.0</td>\n",
       "      <td id=\"T_6c045_row6_col4\" class=\"data row6 col4\" >160</td>\n",
       "      <td id=\"T_6c045_row6_col5\" class=\"data row6 col5\" >1.60</td>\n",
       "      <td id=\"T_6c045_row6_col6\" class=\"data row6 col6\" >1.0</td>\n",
       "    </tr>\n",
       "    <tr>\n",
       "      <th id=\"T_6c045_level0_row7\" class=\"row_heading level0 row7\" >max</th>\n",
       "      <td id=\"T_6c045_row7_col0\" class=\"data row7 col0\" >75</td>\n",
       "      <td id=\"T_6c045_row7_col1\" class=\"data row7 col1\" >200</td>\n",
       "      <td id=\"T_6c045_row7_col2\" class=\"data row7 col2\" >603</td>\n",
       "      <td id=\"T_6c045_row7_col3\" class=\"data row7 col3\" >1.0</td>\n",
       "      <td id=\"T_6c045_row7_col4\" class=\"data row7 col4\" >202</td>\n",
       "      <td id=\"T_6c045_row7_col5\" class=\"data row7 col5\" >4.00</td>\n",
       "      <td id=\"T_6c045_row7_col6\" class=\"data row7 col6\" >1.0</td>\n",
       "    </tr>\n",
       "  </tbody>\n",
       "</table>\n"
      ],
      "text/plain": [
       "<pandas.io.formats.style.Styler at 0x7f0f4b2414b0>"
      ]
     },
     "execution_count": 12,
     "metadata": {},
     "output_type": "execute_result"
    }
   ],
   "source": [
    "df_heart_test.describe().style.format(format_dict)"
   ]
  },
  {
   "cell_type": "code",
   "execution_count": 13,
   "id": "cf041d45-99dd-4f49-8f99-15d085e8463e",
   "metadata": {},
   "outputs": [
    {
     "data": {
      "text/html": [
       "<style type=\"text/css\">\n",
       "</style>\n",
       "<table id=\"T_3e10d\">\n",
       "  <thead>\n",
       "    <tr>\n",
       "      <th class=\"blank level0\" >&nbsp;</th>\n",
       "      <th id=\"T_3e10d_level0_col0\" class=\"col_heading level0 col0\" >Age</th>\n",
       "      <th id=\"T_3e10d_level0_col1\" class=\"col_heading level0 col1\" >RestingBP</th>\n",
       "      <th id=\"T_3e10d_level0_col2\" class=\"col_heading level0 col2\" >Cholesterol</th>\n",
       "      <th id=\"T_3e10d_level0_col3\" class=\"col_heading level0 col3\" >FastingBS</th>\n",
       "      <th id=\"T_3e10d_level0_col4\" class=\"col_heading level0 col4\" >MaxHR</th>\n",
       "      <th id=\"T_3e10d_level0_col5\" class=\"col_heading level0 col5\" >Oldpeak</th>\n",
       "      <th id=\"T_3e10d_level0_col6\" class=\"col_heading level0 col6\" >HeartDisease</th>\n",
       "    </tr>\n",
       "  </thead>\n",
       "  <tbody>\n",
       "    <tr>\n",
       "      <th id=\"T_3e10d_level0_row0\" class=\"row_heading level0 row0\" >count</th>\n",
       "      <td id=\"T_3e10d_row0_col0\" class=\"data row0 col0\" >734</td>\n",
       "      <td id=\"T_3e10d_row0_col1\" class=\"data row0 col1\" >734</td>\n",
       "      <td id=\"T_3e10d_row0_col2\" class=\"data row0 col2\" >734</td>\n",
       "      <td id=\"T_3e10d_row0_col3\" class=\"data row0 col3\" >734.0</td>\n",
       "      <td id=\"T_3e10d_row0_col4\" class=\"data row0 col4\" >734</td>\n",
       "      <td id=\"T_3e10d_row0_col5\" class=\"data row0 col5\" >734.00</td>\n",
       "      <td id=\"T_3e10d_row0_col6\" class=\"data row0 col6\" >734.0</td>\n",
       "    </tr>\n",
       "    <tr>\n",
       "      <th id=\"T_3e10d_level0_row1\" class=\"row_heading level0 row1\" >mean</th>\n",
       "      <td id=\"T_3e10d_row1_col0\" class=\"data row1 col0\" >54</td>\n",
       "      <td id=\"T_3e10d_row1_col1\" class=\"data row1 col1\" >132</td>\n",
       "      <td id=\"T_3e10d_row1_col2\" class=\"data row1 col2\" >198</td>\n",
       "      <td id=\"T_3e10d_row1_col3\" class=\"data row1 col3\" >0.2</td>\n",
       "      <td id=\"T_3e10d_row1_col4\" class=\"data row1 col4\" >136</td>\n",
       "      <td id=\"T_3e10d_row1_col5\" class=\"data row1 col5\" >0.87</td>\n",
       "      <td id=\"T_3e10d_row1_col6\" class=\"data row1 col6\" >0.5</td>\n",
       "    </tr>\n",
       "    <tr>\n",
       "      <th id=\"T_3e10d_level0_row2\" class=\"row_heading level0 row2\" >std</th>\n",
       "      <td id=\"T_3e10d_row2_col0\" class=\"data row2 col0\" >9</td>\n",
       "      <td id=\"T_3e10d_row2_col1\" class=\"data row2 col1\" >19</td>\n",
       "      <td id=\"T_3e10d_row2_col2\" class=\"data row2 col2\" >109</td>\n",
       "      <td id=\"T_3e10d_row2_col3\" class=\"data row2 col3\" >0.4</td>\n",
       "      <td id=\"T_3e10d_row2_col4\" class=\"data row2 col4\" >25</td>\n",
       "      <td id=\"T_3e10d_row2_col5\" class=\"data row2 col5\" >1.08</td>\n",
       "      <td id=\"T_3e10d_row2_col6\" class=\"data row2 col6\" >0.5</td>\n",
       "    </tr>\n",
       "    <tr>\n",
       "      <th id=\"T_3e10d_level0_row3\" class=\"row_heading level0 row3\" >min</th>\n",
       "      <td id=\"T_3e10d_row3_col0\" class=\"data row3 col0\" >29</td>\n",
       "      <td id=\"T_3e10d_row3_col1\" class=\"data row3 col1\" >0</td>\n",
       "      <td id=\"T_3e10d_row3_col2\" class=\"data row3 col2\" >0</td>\n",
       "      <td id=\"T_3e10d_row3_col3\" class=\"data row3 col3\" >0.0</td>\n",
       "      <td id=\"T_3e10d_row3_col4\" class=\"data row3 col4\" >60</td>\n",
       "      <td id=\"T_3e10d_row3_col5\" class=\"data row3 col5\" >-2.00</td>\n",
       "      <td id=\"T_3e10d_row3_col6\" class=\"data row3 col6\" >0.0</td>\n",
       "    </tr>\n",
       "    <tr>\n",
       "      <th id=\"T_3e10d_level0_row4\" class=\"row_heading level0 row4\" >25%</th>\n",
       "      <td id=\"T_3e10d_row4_col0\" class=\"data row4 col0\" >47</td>\n",
       "      <td id=\"T_3e10d_row4_col1\" class=\"data row4 col1\" >120</td>\n",
       "      <td id=\"T_3e10d_row4_col2\" class=\"data row4 col2\" >172</td>\n",
       "      <td id=\"T_3e10d_row4_col3\" class=\"data row4 col3\" >0.0</td>\n",
       "      <td id=\"T_3e10d_row4_col4\" class=\"data row4 col4\" >120</td>\n",
       "      <td id=\"T_3e10d_row4_col5\" class=\"data row4 col5\" >0.00</td>\n",
       "      <td id=\"T_3e10d_row4_col6\" class=\"data row4 col6\" >0.0</td>\n",
       "    </tr>\n",
       "    <tr>\n",
       "      <th id=\"T_3e10d_level0_row5\" class=\"row_heading level0 row5\" >50%</th>\n",
       "      <td id=\"T_3e10d_row5_col0\" class=\"data row5 col0\" >54</td>\n",
       "      <td id=\"T_3e10d_row5_col1\" class=\"data row5 col1\" >130</td>\n",
       "      <td id=\"T_3e10d_row5_col2\" class=\"data row5 col2\" >222</td>\n",
       "      <td id=\"T_3e10d_row5_col3\" class=\"data row5 col3\" >0.0</td>\n",
       "      <td id=\"T_3e10d_row5_col4\" class=\"data row5 col4\" >138</td>\n",
       "      <td id=\"T_3e10d_row5_col5\" class=\"data row5 col5\" >0.50</td>\n",
       "      <td id=\"T_3e10d_row5_col6\" class=\"data row5 col6\" >1.0</td>\n",
       "    </tr>\n",
       "    <tr>\n",
       "      <th id=\"T_3e10d_level0_row6\" class=\"row_heading level0 row6\" >75%</th>\n",
       "      <td id=\"T_3e10d_row6_col0\" class=\"data row6 col0\" >60</td>\n",
       "      <td id=\"T_3e10d_row6_col1\" class=\"data row6 col1\" >140</td>\n",
       "      <td id=\"T_3e10d_row6_col2\" class=\"data row6 col2\" >267</td>\n",
       "      <td id=\"T_3e10d_row6_col3\" class=\"data row6 col3\" >0.0</td>\n",
       "      <td id=\"T_3e10d_row6_col4\" class=\"data row6 col4\" >155</td>\n",
       "      <td id=\"T_3e10d_row6_col5\" class=\"data row6 col5\" >1.50</td>\n",
       "      <td id=\"T_3e10d_row6_col6\" class=\"data row6 col6\" >1.0</td>\n",
       "    </tr>\n",
       "    <tr>\n",
       "      <th id=\"T_3e10d_level0_row7\" class=\"row_heading level0 row7\" >max</th>\n",
       "      <td id=\"T_3e10d_row7_col0\" class=\"data row7 col0\" >77</td>\n",
       "      <td id=\"T_3e10d_row7_col1\" class=\"data row7 col1\" >200</td>\n",
       "      <td id=\"T_3e10d_row7_col2\" class=\"data row7 col2\" >529</td>\n",
       "      <td id=\"T_3e10d_row7_col3\" class=\"data row7 col3\" >1.0</td>\n",
       "      <td id=\"T_3e10d_row7_col4\" class=\"data row7 col4\" >195</td>\n",
       "      <td id=\"T_3e10d_row7_col5\" class=\"data row7 col5\" >6.20</td>\n",
       "      <td id=\"T_3e10d_row7_col6\" class=\"data row7 col6\" >1.0</td>\n",
       "    </tr>\n",
       "  </tbody>\n",
       "</table>\n"
      ],
      "text/plain": [
       "<pandas.io.formats.style.Styler at 0x7f0f09ac0670>"
      ]
     },
     "execution_count": 13,
     "metadata": {},
     "output_type": "execute_result"
    }
   ],
   "source": [
    "df_heart_train.describe().style.format(format_dict)"
   ]
  },
  {
   "cell_type": "markdown",
   "id": "c9b728e0-766c-40a9-85bf-5c8cdb2ebe95",
   "metadata": {},
   "source": [
    "## Variables by data types"
   ]
  },
  {
   "cell_type": "code",
   "execution_count": 14,
   "id": "c87259b1-1a1c-4d66-95cc-0d5be8122c66",
   "metadata": {},
   "outputs": [
    {
     "data": {
      "text/plain": [
       "Age                 int64\n",
       "Sex                object\n",
       "ChestPainType      object\n",
       "RestingBP           int64\n",
       "Cholesterol         int64\n",
       "FastingBS           int64\n",
       "RestingECG         object\n",
       "MaxHR               int64\n",
       "ExerciseAngina     object\n",
       "Oldpeak           float64\n",
       "ST_Slope           object\n",
       "HeartDisease        int64\n",
       "dtype: object"
      ]
     },
     "execution_count": 14,
     "metadata": {},
     "output_type": "execute_result"
    }
   ],
   "source": [
    "df_heart.dtypes"
   ]
  },
  {
   "cell_type": "code",
   "execution_count": 15,
   "id": "c4e86a01-085e-4cf2-9232-d6df980fd50d",
   "metadata": {},
   "outputs": [
    {
     "data": {
      "text/plain": [
       "['Age', 'RestingBP', 'Cholesterol', 'MaxHR', 'Oldpeak']"
      ]
     },
     "execution_count": 15,
     "metadata": {},
     "output_type": "execute_result"
    }
   ],
   "source": [
    "dft = df_heart.dtypes\n",
    "cols_num = list(dft[dft == 'int64'].index)\n",
    "cols_num.append('Oldpeak')\n",
    "cols_num_with_binary = [x for x in cols_num]\n",
    "cols_num.remove('FastingBS')\n",
    "cols_num.remove('HeartDisease')\n",
    "cols_num"
   ]
  },
  {
   "cell_type": "code",
   "execution_count": 16,
   "id": "bcabe9f9-ff45-4daa-b48d-0d132f5dd737",
   "metadata": {},
   "outputs": [
    {
     "data": {
      "text/plain": [
       "['Sex',\n",
       " 'ChestPainType',\n",
       " 'RestingECG',\n",
       " 'ExerciseAngina',\n",
       " 'ST_Slope',\n",
       " 'FastingBS',\n",
       " 'HeartDisease']"
      ]
     },
     "execution_count": 16,
     "metadata": {},
     "output_type": "execute_result"
    }
   ],
   "source": [
    "cols_obj = list(dft[dft == 'object'].index)\n",
    "cols_obj_pure = [x for x in cols_obj]\n",
    "cols_obj.append('FastingBS')\n",
    "cols_obj.append('HeartDisease')\n",
    "cols_obj"
   ]
  },
  {
   "cell_type": "code",
   "execution_count": 17,
   "id": "d79ba612-b5b1-4c3d-ab88-44bf4e9be35d",
   "metadata": {},
   "outputs": [
    {
     "data": {
      "text/plain": [
       "['Age',\n",
       " 'Sex',\n",
       " 'ChestPainType',\n",
       " 'RestingBP',\n",
       " 'Cholesterol',\n",
       " 'FastingBS',\n",
       " 'RestingECG',\n",
       " 'MaxHR',\n",
       " 'ExerciseAngina',\n",
       " 'Oldpeak',\n",
       " 'ST_Slope',\n",
       " 'HeartDisease']"
      ]
     },
     "execution_count": 17,
     "metadata": {},
     "output_type": "execute_result"
    }
   ],
   "source": [
    "col_names = list(df_heart.columns)\n",
    "col_names"
   ]
  },
  {
   "cell_type": "markdown",
   "id": "f68a5b34-a85f-4c57-825c-4d372e3faad8",
   "metadata": {},
   "source": [
    "## Numerical variables distributions"
   ]
  },
  {
   "cell_type": "code",
   "execution_count": 18,
   "id": "e862d2ee-228b-4c5d-8718-ccdf0ea9105b",
   "metadata": {},
   "outputs": [
    {
     "data": {
      "text/plain": [
       "['Age', 'RestingBP', 'Cholesterol', 'MaxHR', 'Oldpeak']"
      ]
     },
     "execution_count": 18,
     "metadata": {},
     "output_type": "execute_result"
    }
   ],
   "source": [
    "cols_num"
   ]
  },
  {
   "cell_type": "code",
   "execution_count": 19,
   "id": "90ae5c4d-838f-47bb-ad9d-d1473e289bcf",
   "metadata": {},
   "outputs": [
    {
     "data": {
      "text/plain": [
       "array([704, 214])"
      ]
     },
     "execution_count": 19,
     "metadata": {},
     "output_type": "execute_result"
    }
   ],
   "source": [
    "df_heart['FastingBS'].value_counts().values"
   ]
  },
  {
   "cell_type": "code",
   "execution_count": null,
   "id": "c73db217-254b-4d2a-8ae3-4a4e66f1e77a",
   "metadata": {},
   "outputs": [],
   "source": []
  },
  {
   "cell_type": "code",
   "execution_count": 20,
   "id": "da20daa8-e92e-4ead-aeac-3c69cb42a166",
   "metadata": {},
   "outputs": [],
   "source": [
    "import graph as gr\n",
    "reload(gr)\n",
    "import graph as gr"
   ]
  },
  {
   "cell_type": "code",
   "execution_count": 21,
   "id": "787b6ead-de34-4fac-97de-c644c942a49a",
   "metadata": {},
   "outputs": [
    {
     "name": "stderr",
     "output_type": "stream",
     "text": [
      "/root/healthcare/heart/graph.py:65: UserWarning: Matplotlib is currently using module://matplotlib_inline.backend_inline, which is a non-GUI backend, so cannot show the figure.\n",
      "  fig.show()\n"
     ]
    },
    {
     "data": {
      "image/png": "[encoded data removed]",
      "text/plain": [
       "<Figure size 504x864 with 8 Axes>"
      ]
     },
     "metadata": {
      "needs_background": "light"
     },
     "output_type": "display_data"
    }
   ],
   "source": [
    "gr.dist_mult_plots(\n",
    "    df_heart,\n",
    "    cols=cols_obj,\n",
    "    figsize=(7, 12),\n",
    "    ncols=2,\n",
    "    bar_plot=True,\n",
    "    fontsize={\n",
    "        'ax_title': 10,\n",
    "    },\n",
    "    custom_bins={'FastingBS': 60},\n",
    ")"
   ]
  },
  {
   "cell_type": "code",
   "execution_count": 24,
   "id": "54c2db47-1368-4d3a-afa9-f8271cc921cb",
   "metadata": {},
   "outputs": [
    {
     "ename": "ValueError",
     "evalue": "Multi-dimensional indexing (e.g. `obj[:, None]`) is no longer supported. Convert to a numpy array before indexing instead.",
     "output_type": "error",
     "traceback": [
      "\u001b[0;31m---------------------------------------------------------------------------\u001b[0m",
      "\u001b[0;31mValueError\u001b[0m                                Traceback (most recent call last)",
      "\u001b[0;32m/tmp/ipykernel_258080/535897144.py\u001b[0m in \u001b[0;36m<module>\u001b[0;34m\u001b[0m\n\u001b[0;32m----> 1\u001b[0;31m gr.dist_mult_plots(\n\u001b[0m\u001b[1;32m      2\u001b[0m     \u001b[0mdf_heart\u001b[0m\u001b[0;34m,\u001b[0m\u001b[0;34m\u001b[0m\u001b[0;34m\u001b[0m\u001b[0m\n\u001b[1;32m      3\u001b[0m     \u001b[0mcols\u001b[0m\u001b[0;34m=\u001b[0m\u001b[0mcols_num\u001b[0m\u001b[0;34m,\u001b[0m\u001b[0;34m\u001b[0m\u001b[0;34m\u001b[0m\u001b[0m\n\u001b[1;32m      4\u001b[0m     \u001b[0mfigsize\u001b[0m\u001b[0;34m=\u001b[0m\u001b[0;34m(\u001b[0m\u001b[0;36m7\u001b[0m\u001b[0;34m,\u001b[0m \u001b[0;36m9\u001b[0m\u001b[0;34m)\u001b[0m\u001b[0;34m,\u001b[0m\u001b[0;34m\u001b[0m\u001b[0;34m\u001b[0m\u001b[0m\n\u001b[1;32m      5\u001b[0m     \u001b[0mncols\u001b[0m\u001b[0;34m=\u001b[0m\u001b[0;36m2\u001b[0m\u001b[0;34m,\u001b[0m\u001b[0;34m\u001b[0m\u001b[0;34m\u001b[0m\u001b[0m\n",
      "\u001b[0;32m~/healthcare/heart/graph.py\u001b[0m in \u001b[0;36mdist_mult_plots\u001b[0;34m(df, cols, figsize, ncols, bar_plot, fontsize, custom_bins, **kwargs)\u001b[0m\n\u001b[1;32m     42\u001b[0m             \u001b[0;32mif\u001b[0m \u001b[0mcustom_bins\u001b[0m \u001b[0;32mis\u001b[0m \u001b[0;32mnot\u001b[0m \u001b[0;32mNone\u001b[0m \u001b[0;32mand\u001b[0m \u001b[0mcol\u001b[0m \u001b[0;32min\u001b[0m \u001b[0mcustom_bins\u001b[0m\u001b[0;34m:\u001b[0m\u001b[0;34m\u001b[0m\u001b[0;34m\u001b[0m\u001b[0m\n\u001b[1;32m     43\u001b[0m                 \u001b[0mbins\u001b[0m \u001b[0;34m=\u001b[0m \u001b[0mcustom_bins\u001b[0m\u001b[0;34m[\u001b[0m\u001b[0mcol\u001b[0m\u001b[0;34m]\u001b[0m\u001b[0;34m\u001b[0m\u001b[0;34m\u001b[0m\u001b[0m\n\u001b[0;32m---> 44\u001b[0;31m             sns.histplot(\n\u001b[0m\u001b[1;32m     45\u001b[0m                 \u001b[0mdata\u001b[0m\u001b[0;34m=\u001b[0m\u001b[0mdf\u001b[0m\u001b[0;34m,\u001b[0m\u001b[0;34m\u001b[0m\u001b[0;34m\u001b[0m\u001b[0m\n\u001b[1;32m     46\u001b[0m                 \u001b[0mx\u001b[0m\u001b[0;34m=\u001b[0m\u001b[0mcol\u001b[0m\u001b[0;34m,\u001b[0m\u001b[0;34m\u001b[0m\u001b[0;34m\u001b[0m\u001b[0m\n",
      "\u001b[0;32m/usr/local/lib/python3.10/dist-packages/seaborn/distributions.py\u001b[0m in \u001b[0;36mhistplot\u001b[0;34m(data, x, y, hue, weights, stat, bins, binwidth, binrange, discrete, cumulative, common_bins, common_norm, multiple, element, fill, shrink, kde, kde_kws, line_kws, thresh, pthresh, pmax, cbar, cbar_ax, cbar_kws, palette, hue_order, hue_norm, color, log_scale, legend, ax, **kwargs)\u001b[0m\n\u001b[1;32m   1414\u001b[0m     \u001b[0;32mif\u001b[0m \u001b[0mp\u001b[0m\u001b[0;34m.\u001b[0m\u001b[0munivariate\u001b[0m\u001b[0;34m:\u001b[0m\u001b[0;34m\u001b[0m\u001b[0;34m\u001b[0m\u001b[0m\n\u001b[1;32m   1415\u001b[0m \u001b[0;34m\u001b[0m\u001b[0m\n\u001b[0;32m-> 1416\u001b[0;31m         p.plot_univariate_histogram(\n\u001b[0m\u001b[1;32m   1417\u001b[0m             \u001b[0mmultiple\u001b[0m\u001b[0;34m=\u001b[0m\u001b[0mmultiple\u001b[0m\u001b[0;34m,\u001b[0m\u001b[0;34m\u001b[0m\u001b[0;34m\u001b[0m\u001b[0m\n\u001b[1;32m   1418\u001b[0m             \u001b[0melement\u001b[0m\u001b[0;34m=\u001b[0m\u001b[0melement\u001b[0m\u001b[0;34m,\u001b[0m\u001b[0;34m\u001b[0m\u001b[0;34m\u001b[0m\u001b[0m\n",
      "\u001b[0;32m/usr/local/lib/python3.10/dist-packages/seaborn/distributions.py\u001b[0m in \u001b[0;36mplot_univariate_histogram\u001b[0;34m(self, multiple, element, fill, common_norm, common_bins, shrink, kde, kde_kws, color, legend, line_kws, estimate_kws, **plot_kws)\u001b[0m\n\u001b[1;32m    649\u001b[0m \u001b[0;34m\u001b[0m\u001b[0m\n\u001b[1;32m    650\u001b[0m                 \u001b[0mline_kws\u001b[0m\u001b[0;34m[\u001b[0m\u001b[0;34m\"color\"\u001b[0m\u001b[0;34m]\u001b[0m \u001b[0;34m=\u001b[0m \u001b[0mto_rgba\u001b[0m\u001b[0;34m(\u001b[0m\u001b[0msub_color\u001b[0m\u001b[0;34m,\u001b[0m \u001b[0;36m1\u001b[0m\u001b[0;34m)\u001b[0m\u001b[0;34m\u001b[0m\u001b[0;34m\u001b[0m\u001b[0m\n\u001b[0;32m--> 651\u001b[0;31m                 line, = ax.plot(\n\u001b[0m\u001b[1;32m    652\u001b[0m                     \u001b[0;34m*\u001b[0m\u001b[0mline_args\u001b[0m\u001b[0;34m,\u001b[0m \u001b[0;34m**\u001b[0m\u001b[0mline_kws\u001b[0m\u001b[0;34m,\u001b[0m\u001b[0;34m\u001b[0m\u001b[0;34m\u001b[0m\u001b[0m\n\u001b[1;32m    653\u001b[0m                 )\n",
      "\u001b[0;32m/usr/lib/python3/dist-packages/matplotlib/axes/_axes.py\u001b[0m in \u001b[0;36mplot\u001b[0;34m(self, scalex, scaley, data, *args, **kwargs)\u001b[0m\n\u001b[1;32m   1630\u001b[0m         \"\"\"\n\u001b[1;32m   1631\u001b[0m         \u001b[0mkwargs\u001b[0m \u001b[0;34m=\u001b[0m \u001b[0mcbook\u001b[0m\u001b[0;34m.\u001b[0m\u001b[0mnormalize_kwargs\u001b[0m\u001b[0;34m(\u001b[0m\u001b[0mkwargs\u001b[0m\u001b[0;34m,\u001b[0m \u001b[0mmlines\u001b[0m\u001b[0;34m.\u001b[0m\u001b[0mLine2D\u001b[0m\u001b[0;34m)\u001b[0m\u001b[0;34m\u001b[0m\u001b[0;34m\u001b[0m\u001b[0m\n\u001b[0;32m-> 1632\u001b[0;31m         \u001b[0mlines\u001b[0m \u001b[0;34m=\u001b[0m \u001b[0;34m[\u001b[0m\u001b[0;34m*\u001b[0m\u001b[0mself\u001b[0m\u001b[0;34m.\u001b[0m\u001b[0m_get_lines\u001b[0m\u001b[0;34m(\u001b[0m\u001b[0;34m*\u001b[0m\u001b[0margs\u001b[0m\u001b[0;34m,\u001b[0m \u001b[0mdata\u001b[0m\u001b[0;34m=\u001b[0m\u001b[0mdata\u001b[0m\u001b[0;34m,\u001b[0m \u001b[0;34m**\u001b[0m\u001b[0mkwargs\u001b[0m\u001b[0;34m)\u001b[0m\u001b[0;34m]\u001b[0m\u001b[0;34m\u001b[0m\u001b[0;34m\u001b[0m\u001b[0m\n\u001b[0m\u001b[1;32m   1633\u001b[0m         \u001b[0;32mfor\u001b[0m \u001b[0mline\u001b[0m \u001b[0;32min\u001b[0m \u001b[0mlines\u001b[0m\u001b[0;34m:\u001b[0m\u001b[0;34m\u001b[0m\u001b[0;34m\u001b[0m\u001b[0m\n\u001b[1;32m   1634\u001b[0m             \u001b[0mself\u001b[0m\u001b[0;34m.\u001b[0m\u001b[0madd_line\u001b[0m\u001b[0;34m(\u001b[0m\u001b[0mline\u001b[0m\u001b[0;34m)\u001b[0m\u001b[0;34m\u001b[0m\u001b[0;34m\u001b[0m\u001b[0m\n",
      "\u001b[0;32m/usr/lib/python3/dist-packages/matplotlib/axes/_base.py\u001b[0m in \u001b[0;36m__call__\u001b[0;34m(self, data, *args, **kwargs)\u001b[0m\n\u001b[1;32m    310\u001b[0m                 \u001b[0mthis\u001b[0m \u001b[0;34m+=\u001b[0m \u001b[0margs\u001b[0m\u001b[0;34m[\u001b[0m\u001b[0;36m0\u001b[0m\u001b[0;34m]\u001b[0m\u001b[0;34m,\u001b[0m\u001b[0;34m\u001b[0m\u001b[0;34m\u001b[0m\u001b[0m\n\u001b[1;32m    311\u001b[0m                 \u001b[0margs\u001b[0m \u001b[0;34m=\u001b[0m \u001b[0margs\u001b[0m\u001b[0;34m[\u001b[0m\u001b[0;36m1\u001b[0m\u001b[0;34m:\u001b[0m\u001b[0;34m]\u001b[0m\u001b[0;34m\u001b[0m\u001b[0;34m\u001b[0m\u001b[0m\n\u001b[0;32m--> 312\u001b[0;31m             \u001b[0;32myield\u001b[0m \u001b[0;32mfrom\u001b[0m \u001b[0mself\u001b[0m\u001b[0;34m.\u001b[0m\u001b[0m_plot_args\u001b[0m\u001b[0;34m(\u001b[0m\u001b[0mthis\u001b[0m\u001b[0;34m,\u001b[0m \u001b[0mkwargs\u001b[0m\u001b[0;34m)\u001b[0m\u001b[0;34m\u001b[0m\u001b[0;34m\u001b[0m\u001b[0m\n\u001b[0m\u001b[1;32m    313\u001b[0m \u001b[0;34m\u001b[0m\u001b[0m\n\u001b[1;32m    314\u001b[0m     \u001b[0;32mdef\u001b[0m \u001b[0mget_next_color\u001b[0m\u001b[0;34m(\u001b[0m\u001b[0mself\u001b[0m\u001b[0;34m)\u001b[0m\u001b[0;34m:\u001b[0m\u001b[0;34m\u001b[0m\u001b[0;34m\u001b[0m\u001b[0m\n",
      "\u001b[0;32m/usr/lib/python3/dist-packages/matplotlib/axes/_base.py\u001b[0m in \u001b[0;36m_plot_args\u001b[0;34m(self, tup, kwargs, return_kwargs)\u001b[0m\n\u001b[1;32m    485\u001b[0m \u001b[0;34m\u001b[0m\u001b[0m\n\u001b[1;32m    486\u001b[0m         \u001b[0;32mif\u001b[0m \u001b[0mlen\u001b[0m\u001b[0;34m(\u001b[0m\u001b[0mxy\u001b[0m\u001b[0;34m)\u001b[0m \u001b[0;34m==\u001b[0m \u001b[0;36m2\u001b[0m\u001b[0;34m:\u001b[0m\u001b[0;34m\u001b[0m\u001b[0;34m\u001b[0m\u001b[0m\n\u001b[0;32m--> 487\u001b[0;31m             \u001b[0mx\u001b[0m \u001b[0;34m=\u001b[0m \u001b[0m_check_1d\u001b[0m\u001b[0;34m(\u001b[0m\u001b[0mxy\u001b[0m\u001b[0;34m[\u001b[0m\u001b[0;36m0\u001b[0m\u001b[0;34m]\u001b[0m\u001b[0;34m)\u001b[0m\u001b[0;34m\u001b[0m\u001b[0;34m\u001b[0m\u001b[0m\n\u001b[0m\u001b[1;32m    488\u001b[0m             \u001b[0my\u001b[0m \u001b[0;34m=\u001b[0m \u001b[0m_check_1d\u001b[0m\u001b[0;34m(\u001b[0m\u001b[0mxy\u001b[0m\u001b[0;34m[\u001b[0m\u001b[0;36m1\u001b[0m\u001b[0;34m]\u001b[0m\u001b[0;34m)\u001b[0m\u001b[0;34m\u001b[0m\u001b[0;34m\u001b[0m\u001b[0m\n\u001b[1;32m    489\u001b[0m         \u001b[0;32melse\u001b[0m\u001b[0;34m:\u001b[0m\u001b[0;34m\u001b[0m\u001b[0;34m\u001b[0m\u001b[0m\n",
      "\u001b[0;32m/usr/lib/python3/dist-packages/matplotlib/cbook/__init__.py\u001b[0m in \u001b[0;36m_check_1d\u001b[0;34m(x)\u001b[0m\n\u001b[1;32m   1325\u001b[0m                     message='Support for multi-dimensional indexing')\n\u001b[1;32m   1326\u001b[0m \u001b[0;34m\u001b[0m\u001b[0m\n\u001b[0;32m-> 1327\u001b[0;31m                 \u001b[0mndim\u001b[0m \u001b[0;34m=\u001b[0m \u001b[0mx\u001b[0m\u001b[0;34m[\u001b[0m\u001b[0;34m:\u001b[0m\u001b[0;34m,\u001b[0m \u001b[0;32mNone\u001b[0m\u001b[0;34m]\u001b[0m\u001b[0;34m.\u001b[0m\u001b[0mndim\u001b[0m\u001b[0;34m\u001b[0m\u001b[0;34m\u001b[0m\u001b[0m\n\u001b[0m\u001b[1;32m   1328\u001b[0m                 \u001b[0;31m# we have definitely hit a pandas index or series object\u001b[0m\u001b[0;34m\u001b[0m\u001b[0;34m\u001b[0m\u001b[0m\n\u001b[1;32m   1329\u001b[0m                 \u001b[0;31m# cast to a numpy array.\u001b[0m\u001b[0;34m\u001b[0m\u001b[0;34m\u001b[0m\u001b[0m\n",
      "\u001b[0;32m/usr/local/lib/python3.10/dist-packages/pandas/core/indexes/base.py\u001b[0m in \u001b[0;36m__getitem__\u001b[0;34m(self, key)\u001b[0m\n\u001b[1;32m   5417\u001b[0m         \u001b[0;31m# Because we ruled out integer above, we always get an arraylike here\u001b[0m\u001b[0;34m\u001b[0m\u001b[0;34m\u001b[0m\u001b[0m\n\u001b[1;32m   5418\u001b[0m         \u001b[0;32mif\u001b[0m \u001b[0mresult\u001b[0m\u001b[0;34m.\u001b[0m\u001b[0mndim\u001b[0m \u001b[0;34m>\u001b[0m \u001b[0;36m1\u001b[0m\u001b[0;34m:\u001b[0m\u001b[0;34m\u001b[0m\u001b[0;34m\u001b[0m\u001b[0m\n\u001b[0;32m-> 5419\u001b[0;31m             \u001b[0mdisallow_ndim_indexing\u001b[0m\u001b[0;34m(\u001b[0m\u001b[0mresult\u001b[0m\u001b[0;34m)\u001b[0m\u001b[0;34m\u001b[0m\u001b[0;34m\u001b[0m\u001b[0m\n\u001b[0m\u001b[1;32m   5420\u001b[0m \u001b[0;34m\u001b[0m\u001b[0m\n\u001b[1;32m   5421\u001b[0m         \u001b[0;31m# NB: Using _constructor._simple_new would break if MultiIndex\u001b[0m\u001b[0;34m\u001b[0m\u001b[0;34m\u001b[0m\u001b[0m\n",
      "\u001b[0;32m/usr/local/lib/python3.10/dist-packages/pandas/core/indexers/utils.py\u001b[0m in \u001b[0;36mdisallow_ndim_indexing\u001b[0;34m(result)\u001b[0m\n\u001b[1;32m    339\u001b[0m     \"\"\"\n\u001b[1;32m    340\u001b[0m     \u001b[0;32mif\u001b[0m \u001b[0mnp\u001b[0m\u001b[0;34m.\u001b[0m\u001b[0mndim\u001b[0m\u001b[0;34m(\u001b[0m\u001b[0mresult\u001b[0m\u001b[0;34m)\u001b[0m \u001b[0;34m>\u001b[0m \u001b[0;36m1\u001b[0m\u001b[0;34m:\u001b[0m\u001b[0;34m\u001b[0m\u001b[0;34m\u001b[0m\u001b[0m\n\u001b[0;32m--> 341\u001b[0;31m         raise ValueError(\n\u001b[0m\u001b[1;32m    342\u001b[0m             \u001b[0;34m\"Multi-dimensional indexing (e.g. `obj[:, None]`) is no longer \"\u001b[0m\u001b[0;34m\u001b[0m\u001b[0;34m\u001b[0m\u001b[0m\n\u001b[1;32m    343\u001b[0m             \u001b[0;34m\"supported. Convert to a numpy array before indexing instead.\"\u001b[0m\u001b[0;34m\u001b[0m\u001b[0;34m\u001b[0m\u001b[0m\n",
      "\u001b[0;31mValueError\u001b[0m: Multi-dimensional indexing (e.g. `obj[:, None]`) is no longer supported. Convert to a numpy array before indexing instead."
     ]
    },
    {
     "data": {
      "image/png": "[encoded data removed]",
      "text/plain": [
       "<Figure size 504x648 with 6 Axes>"
      ]
     },
     "metadata": {
      "needs_background": "light"
     },
     "output_type": "display_data"
    }
   ],
   "source": [
    "gr.dist_mult_plots(\n",
    "    df_heart,\n",
    "    cols=cols_num,\n",
    "    figsize=(7, 9),\n",
    "    ncols=2,\n",
    "    fontsize={\n",
    "        'ax_title': 10,\n",
    "    },\n",
    "    custom_bins={'FastingBS': 60},\n",
    ")"
   ]
  },
  {
   "cell_type": "code",
   "execution_count": 25,
   "id": "716ba430-99d2-4360-8741-0bf79c3c177d",
   "metadata": {},
   "outputs": [
    {
     "data": {
      "image/png": "[encoded data removed]",
      "text/plain": [
       "<Figure size 432x288 with 2 Axes>"
      ]
     },
     "metadata": {
      "needs_background": "light"
     },
     "output_type": "display_data"
    }
   ],
   "source": [
    "sns.heatmap(df_heart[cols_num_with_binary].corr(), annot=True)\n",
    "plt.show()"
   ]
  },
  {
   "cell_type": "markdown",
   "id": "f48de5c3-143c-46ff-ac8c-7eedf2bb194d",
   "metadata": {},
   "source": [
    "## Missing values and Outliers"
   ]
  },
  {
   "cell_type": "code",
   "execution_count": 26,
   "id": "4bbdf696-4fe8-4a46-8daf-a7a06da1ce81",
   "metadata": {},
   "outputs": [
    {
     "data": {
      "text/plain": [
       "Age               0\n",
       "Sex               0\n",
       "ChestPainType     0\n",
       "RestingBP         0\n",
       "Cholesterol       0\n",
       "FastingBS         0\n",
       "RestingECG        0\n",
       "MaxHR             0\n",
       "ExerciseAngina    0\n",
       "Oldpeak           0\n",
       "ST_Slope          0\n",
       "HeartDisease      0\n",
       "dtype: int64"
      ]
     },
     "execution_count": 26,
     "metadata": {},
     "output_type": "execute_result"
    }
   ],
   "source": [
    "df_heart.isnull().sum()"
   ]
  },
  {
   "cell_type": "markdown",
   "id": "e5cc4821-9725-4846-b034-482419134ae9",
   "metadata": {},
   "source": [
    "# Lasso Logistic Regression"
   ]
  },
  {
   "cell_type": "markdown",
   "id": "aa842745-16a6-4d21-82b7-264604c07213",
   "metadata": {},
   "source": [
    "## Features Preprocessing"
   ]
  },
  {
   "cell_type": "code",
   "execution_count": 27,
   "id": "568b3721-8d1f-448a-ab5f-619ebc6479a5",
   "metadata": {},
   "outputs": [
    {
     "data": {
      "text/plain": [
       "['Sex', 'ChestPainType', 'RestingECG', 'ExerciseAngina', 'ST_Slope']"
      ]
     },
     "execution_count": 27,
     "metadata": {},
     "output_type": "execute_result"
    }
   ],
   "source": [
    "cols_obj_pure"
   ]
  },
  {
   "cell_type": "code",
   "execution_count": 28,
   "id": "7a1224ef-53ed-4292-8552-930c71cc09a0",
   "metadata": {},
   "outputs": [
    {
     "data": {
      "text/plain": [
       "['Age', 'RestingBP', 'Cholesterol', 'FastingBS', 'MaxHR', 'Oldpeak']"
      ]
     },
     "execution_count": 28,
     "metadata": {},
     "output_type": "execute_result"
    }
   ],
   "source": [
    "label_col = 'HeartDisease'\n",
    "cols_num_with_binary\n",
    "features = [x for x in cols_num_with_binary]\n",
    "features.remove(label_col)\n",
    "features"
   ]
  },
  {
   "cell_type": "code",
   "execution_count": 29,
   "id": "edb99638-94e8-4a07-b4ad-795390dc6e88",
   "metadata": {},
   "outputs": [],
   "source": [
    "X_train, X_test = torch.Tensor(df_heart_train[features].to_numpy()),torch.Tensor(df_heart_test[features].to_numpy())\n",
    "y_train, y_test = torch.Tensor(df_heart_train[label_col].to_numpy()),torch.Tensor(df_heart_test[label_col].to_numpy())"
   ]
  },
  {
   "cell_type": "code",
   "execution_count": 30,
   "id": "375356e7-14e8-402b-b424-f3850a8b7201",
   "metadata": {},
   "outputs": [],
   "source": [
    "from sklearn.preprocessing import MinMaxScaler"
   ]
  },
  {
   "cell_type": "code",
   "execution_count": 31,
   "id": "b1e2b8c6-86fa-4f60-a8ae-ad03d5e47303",
   "metadata": {},
   "outputs": [],
   "source": [
    "x_norm = {}\n",
    "scaler = MinMaxScaler() \n",
    "x_norm['train'] = scaler.fit_transform(df_heart_train[features])\n",
    "x_norm['test'] = scaler.transform(df_heart_test[features])\n",
    "# for key, df in {'train': df_heart_train[features], 'test': df_heart_test[features]}.items():\n",
    "#     min_max_scaler = MinMaxScaler().fit(df)\n",
    "#     x_norm[key] = min_max_scaler.transform(df)"
   ]
  },
  {
   "cell_type": "code",
   "execution_count": 34,
   "id": "726dc2d1-d006-4730-83b4-aae00dfbc979",
   "metadata": {},
   "outputs": [],
   "source": [
    "x_norm_init = {x: df for x, df in x_norm.items()}"
   ]
  },
  {
   "cell_type": "code",
   "execution_count": 35,
   "id": "c6f307f1-1bfe-4012-8941-da506e9e974a",
   "metadata": {},
   "outputs": [
    {
     "data": {
      "text/plain": [
       "array([[0., 0., 0., 0., 0., 0.],\n",
       "       [0., 0., 0., 0., 0., 0.],\n",
       "       [0., 0., 0., 0., 0., 0.],\n",
       "       ...,\n",
       "       [0., 0., 0., 0., 0., 0.],\n",
       "       [0., 0., 0., 0., 0., 0.],\n",
       "       [0., 0., 0., 0., 0., 0.]])"
      ]
     },
     "execution_count": 35,
     "metadata": {},
     "output_type": "execute_result"
    }
   ],
   "source": [
    "key = 'train'\n",
    "x_norm[key]-x_norm_init[key]"
   ]
  },
  {
   "cell_type": "markdown",
   "id": "3a41274c-45b0-4597-a576-df721716a3b0",
   "metadata": {},
   "source": [
    "## Model Building"
   ]
  },
  {
   "cell_type": "code",
   "execution_count": 36,
   "id": "c9c11ed9-d53f-4423-be22-1290619b9cee",
   "metadata": {},
   "outputs": [],
   "source": [
    "class LogisticParams(param.Parameterized):\n",
    "    lr                       = param.Number(0.02,bounds=(10**(-8), 0.3),doc=\"Learning Rate\")\n",
    "    epochs                   = param.Integer(default=5 ,bounds=(1,10000))\n",
    "    num_var                  = param.ObjectSelector(default=\"Age\",objects=cols_num)\n",
    "#     boolean                 = param.Boolean(True, doc=\"A sample Boolean parameter\")\n",
    "# pn.Param(CustomExample.param, widgets={\n",
    "#     'select_string': {'type': pn.widgets.RadioButtonGroup, 'button_type': 'primary'},\n",
    "#     'select_number': pn.widgets.DiscretePlayer}\n",
    "# )"
   ]
  },
  {
   "cell_type": "code",
   "execution_count": 37,
   "id": "fd3cd4c3-b1fc-445c-acc3-266ed06b0ff5",
   "metadata": {},
   "outputs": [
    {
     "data": {
      "application/vnd.jupyter.widget-view+json": {
       "model_id": "15b95950d86a4b1ea979c6ad5c3179ea",
       "version_major": 2,
       "version_minor": 0
      },
      "text/plain": [
       "BokehModel(combine_events=True, render_bundle={'docs_json': {'986150f4-f3c2-4906-8370-38a7d11c01f9': {'version…"
      ]
     },
     "execution_count": 37,
     "metadata": {},
     "output_type": "execute_result"
    }
   ],
   "source": [
    "base = LogisticParams()\n",
    "pn.Row(base.param)\n",
    "# pn.Row(Example.param, base.param)"
   ]
  },
  {
   "cell_type": "code",
   "execution_count": null,
   "id": "2f96285d",
   "metadata": {},
   "outputs": [],
   "source": [
    "print('hello')"
   ]
  },
  {
   "cell_type": "code",
   "execution_count": null,
   "id": "7f62eb38-26b1-4bec-b139-184fc2826632",
   "metadata": {},
   "outputs": [],
   "source": [
    "class LogisticRegression(torch.nn.Module):\n",
    "     def __init__(self, input_dim, output_dim):\n",
    "         super(LogisticRegression, self).__init__()\n",
    "         self.linear = torch.nn.Linear(input_dim, output_dim)\n",
    "     def forward(self, x):\n",
    "         outputs = torch.sigmoid(self.linear(x))\n",
    "         return outputs"
   ]
  },
  {
   "cell_type": "code",
   "execution_count": null,
   "id": "b260806d-28c3-456a-b0c7-2538dcf79c82",
   "metadata": {},
   "outputs": [],
   "source": [
    "input_dim = len(features) # Two inputs x1 and x2 \n",
    "output_dim = 1 # Single binary output\n",
    "model = LogisticRegression(input_dim,output_dim)\n",
    "criterion = torch.nn.BCELoss()\n",
    "optimizer = torch.optim.SGD(model.parameters(), lr=LogisticParams.lr)"
   ]
  },
  {
   "cell_type": "code",
   "execution_count": null,
   "id": "61533463-3dad-4b96-a999-b2410eed3e95",
   "metadata": {},
   "outputs": [
    {
     "data": {
      "text/plain": [
       "['Age',\n",
       " 'RestingBP',\n",
       " 'Cholesterol',\n",
       " 'FastingBS',\n",
       " 'MaxHR',\n",
       " 'Oldpeak',\n",
       " 'HeartDisease']"
      ]
     },
     "execution_count": 209,
     "metadata": {},
     "output_type": "execute_result"
    }
   ],
   "source": [
    "features + [label_col]"
   ]
  },
  {
   "cell_type": "code",
   "execution_count": null,
   "id": "2482bb04-e2fa-432a-955c-78895e06a271",
   "metadata": {},
   "outputs": [
    {
     "data": {
      "text/html": [
       "<div>\n",
       "<style scoped>\n",
       "    .dataframe tbody tr th:only-of-type {\n",
       "        vertical-align: middle;\n",
       "    }\n",
       "\n",
       "    .dataframe tbody tr th {\n",
       "        vertical-align: top;\n",
       "    }\n",
       "\n",
       "    .dataframe thead th {\n",
       "        text-align: right;\n",
       "    }\n",
       "</style>\n",
       "<table border=\"1\" class=\"dataframe\">\n",
       "  <thead>\n",
       "    <tr style=\"text-align: right;\">\n",
       "      <th></th>\n",
       "      <th>Age</th>\n",
       "      <th>RestingBP</th>\n",
       "      <th>Cholesterol</th>\n",
       "      <th>FastingBS</th>\n",
       "      <th>MaxHR</th>\n",
       "      <th>Oldpeak</th>\n",
       "      <th>Sex</th>\n",
       "      <th>ChestPainType</th>\n",
       "      <th>RestingECG</th>\n",
       "      <th>ExerciseAngina</th>\n",
       "      <th>ST_Slope</th>\n",
       "    </tr>\n",
       "  </thead>\n",
       "  <tbody>\n",
       "    <tr>\n",
       "      <th>0</th>\n",
       "      <td>40</td>\n",
       "      <td>140</td>\n",
       "      <td>289</td>\n",
       "      <td>0</td>\n",
       "      <td>172</td>\n",
       "      <td>0.0</td>\n",
       "      <td>M</td>\n",
       "      <td>ATA</td>\n",
       "      <td>Normal</td>\n",
       "      <td>N</td>\n",
       "      <td>Up</td>\n",
       "    </tr>\n",
       "    <tr>\n",
       "      <th>1</th>\n",
       "      <td>37</td>\n",
       "      <td>130</td>\n",
       "      <td>283</td>\n",
       "      <td>0</td>\n",
       "      <td>98</td>\n",
       "      <td>0.0</td>\n",
       "      <td>M</td>\n",
       "      <td>ATA</td>\n",
       "      <td>ST</td>\n",
       "      <td>N</td>\n",
       "      <td>Up</td>\n",
       "    </tr>\n",
       "  </tbody>\n",
       "</table>\n",
       "</div>"
      ],
      "text/plain": [
       "   Age  RestingBP  Cholesterol  FastingBS  MaxHR  Oldpeak Sex ChestPainType  \\\n",
       "0   40        140          289          0    172      0.0   M           ATA   \n",
       "1   37        130          283          0     98      0.0   M           ATA   \n",
       "\n",
       "  RestingECG ExerciseAngina ST_Slope  \n",
       "0     Normal              N       Up  \n",
       "1         ST              N       Up  "
      ]
     },
     "execution_count": 210,
     "metadata": {},
     "output_type": "execute_result"
    }
   ],
   "source": [
    "df_heart_train[features+cols_obj_pure].head(2)"
   ]
  },
  {
   "cell_type": "code",
   "execution_count": null,
   "id": "5d9dd737-903c-4f8e-ac6d-b2e370417d6a",
   "metadata": {},
   "outputs": [
    {
     "data": {
      "text/html": [
       "<div>\n",
       "<style scoped>\n",
       "    .dataframe tbody tr th:only-of-type {\n",
       "        vertical-align: middle;\n",
       "    }\n",
       "\n",
       "    .dataframe tbody tr th {\n",
       "        vertical-align: top;\n",
       "    }\n",
       "\n",
       "    .dataframe thead th {\n",
       "        text-align: right;\n",
       "    }\n",
       "</style>\n",
       "<table border=\"1\" class=\"dataframe\">\n",
       "  <thead>\n",
       "    <tr style=\"text-align: right;\">\n",
       "      <th></th>\n",
       "      <th>Age</th>\n",
       "      <th>RestingBP</th>\n",
       "      <th>Cholesterol</th>\n",
       "      <th>FastingBS</th>\n",
       "      <th>MaxHR</th>\n",
       "      <th>Oldpeak</th>\n",
       "    </tr>\n",
       "  </thead>\n",
       "  <tbody>\n",
       "    <tr>\n",
       "      <th>0</th>\n",
       "      <td>40</td>\n",
       "      <td>140</td>\n",
       "      <td>289</td>\n",
       "      <td>0</td>\n",
       "      <td>172</td>\n",
       "      <td>0.0</td>\n",
       "    </tr>\n",
       "    <tr>\n",
       "      <th>1</th>\n",
       "      <td>37</td>\n",
       "      <td>130</td>\n",
       "      <td>283</td>\n",
       "      <td>0</td>\n",
       "      <td>98</td>\n",
       "      <td>0.0</td>\n",
       "    </tr>\n",
       "  </tbody>\n",
       "</table>\n",
       "</div>"
      ],
      "text/plain": [
       "   Age  RestingBP  Cholesterol  FastingBS  MaxHR  Oldpeak\n",
       "0   40        140          289          0    172      0.0\n",
       "1   37        130          283          0     98      0.0"
      ]
     },
     "execution_count": 211,
     "metadata": {},
     "output_type": "execute_result"
    }
   ],
   "source": [
    "df_heart_train[features].head(2)"
   ]
  },
  {
   "cell_type": "markdown",
   "id": "049e021e-d147-4b73-ad18-85bdbec4b5da",
   "metadata": {},
   "source": [
    "## Training"
   ]
  },
  {
   "cell_type": "code",
   "execution_count": null,
   "id": "10122ca4-9ce1-4f1d-b219-444c31fafb09",
   "metadata": {},
   "outputs": [
    {
     "data": {
      "text/plain": [
       "<torch._C.Generator at 0x7f88ddfe6fd0>"
      ]
     },
     "execution_count": 212,
     "metadata": {},
     "output_type": "execute_result"
    }
   ],
   "source": [
    "# from sklearn.model_selection import train_test_split\n",
    "torch.manual_seed(0) # keep things reproducible"
   ]
  },
  {
   "cell_type": "code",
   "execution_count": null,
   "id": "5012007b-5c5d-4fa7-93af-7fe9a6182012",
   "metadata": {},
   "outputs": [],
   "source": [
    "LogisticParams.lr = 7*10**-3\n",
    "optimizer = torch.optim.SGD(model.parameters(), lr=LogisticParams.lr)"
   ]
  },
  {
   "cell_type": "code",
   "execution_count": null,
   "id": "b9ced401-9173-4f36-bc1f-143afe418ff9",
   "metadata": {},
   "outputs": [],
   "source": [
    "LogisticParams.epochs = 5000\n",
    "iter_array = 5\n",
    "iter_printing = int(LogisticParams.epochs/5)"
   ]
  },
  {
   "cell_type": "code",
   "execution_count": null,
   "id": "bd32fde8-6de4-4b1c-bdf5-4cebf9f6f7ed",
   "metadata": {},
   "outputs": [],
   "source": [
    "X_train, X_test = torch.Tensor(x_norm['train']),torch.Tensor(x_norm['test'])\n",
    "y_train, y_test = torch.Tensor(df_heart_train[label_col].to_numpy()),torch.Tensor(df_heart_test[label_col].to_numpy())"
   ]
  },
  {
   "cell_type": "code",
   "execution_count": null,
   "id": "3c3487ce-6dca-489a-b8c6-01c8c496c509",
   "metadata": {},
   "outputs": [],
   "source": [
    "# X_train, X_test = torch.Tensor(df_heart_train[features].to_numpy()),torch.Tensor(df_heart_test[features].to_numpy())\n",
    "# y_train, y_test = torch.Tensor(df_heart_train[label_col].to_numpy()),torch.Tensor(df_heart_test[label_col].to_numpy())"
   ]
  },
  {
   "cell_type": "code",
   "execution_count": null,
   "id": "0c745700-33c9-4024-8b0e-2d59ce037122",
   "metadata": {},
   "outputs": [
    {
     "name": "stderr",
     "output_type": "stream",
     "text": [
      "Training Epochs:  26%|██▌       | 1280/5000 [00:00<00:02, 1813.02it/s]"
     ]
    },
    {
     "name": "stdout",
     "output_type": "stream",
     "text": [
      "Iteration: 1000. \n",
      "Test - Loss: 0.6441045999526978. Accuracy: 67.93478260869566\n",
      "Train -  Loss: 0.6464228630065918. Accuracy: 64.85013623978202\n",
      "\n"
     ]
    },
    {
     "name": "stderr",
     "output_type": "stream",
     "text": [
      "Training Epochs:  46%|████▌     | 2301/5000 [00:01<00:01, 2001.16it/s]"
     ]
    },
    {
     "name": "stdout",
     "output_type": "stream",
     "text": [
      "Iteration: 2000. \n",
      "Test - Loss: 0.6182745099067688. Accuracy: 72.28260869565217\n",
      "Train -  Loss: 0.6197210550308228. Accuracy: 73.29700272479565\n",
      "\n"
     ]
    },
    {
     "name": "stderr",
     "output_type": "stream",
     "text": [
      "Training Epochs:  66%|██████▋   | 3319/5000 [00:01<00:00, 1995.23it/s]"
     ]
    },
    {
     "name": "stdout",
     "output_type": "stream",
     "text": [
      "Iteration: 3000. \n",
      "Test - Loss: 0.6013236045837402. Accuracy: 71.73913043478261\n",
      "Train -  Loss: 0.6011337041854858. Accuracy: 74.11444141689373\n",
      "\n"
     ]
    },
    {
     "name": "stderr",
     "output_type": "stream",
     "text": [
      "Training Epochs:  87%|████████▋ | 4338/5000 [00:02<00:00, 2029.52it/s]"
     ]
    },
    {
     "name": "stdout",
     "output_type": "stream",
     "text": [
      "Iteration: 4000. \n",
      "Test - Loss: 0.5893957018852234. Accuracy: 72.82608695652173\n",
      "Train -  Loss: 0.5873467326164246. Accuracy: 74.79564032697547\n",
      "\n"
     ]
    },
    {
     "name": "stderr",
     "output_type": "stream",
     "text": [
      "Training Epochs: 100%|██████████| 5000/5000 [00:02<00:00, 1880.94it/s]"
     ]
    },
    {
     "name": "stdout",
     "output_type": "stream",
     "text": [
      "Iteration: 5000. \n",
      "Test - Loss: 0.5805745124816895. Accuracy: 74.45652173913044\n",
      "Train -  Loss: 0.5765810608863831. Accuracy: 75.20435967302453\n",
      "\n"
     ]
    },
    {
     "name": "stderr",
     "output_type": "stream",
     "text": [
      "\n"
     ]
    }
   ],
   "source": [
    "losses = []\n",
    "losses_test = []\n",
    "Iterations = []\n",
    "iter = 0\n",
    "for epoch in tqdm(range(int(LogisticParams.epochs)),desc='Training Epochs'):\n",
    "    x = X_train\n",
    "    labels = y_train\n",
    "    optimizer.zero_grad() # Setting our stored gradients equal to zero\n",
    "    outputs = model(X_train)\n",
    "    loss = criterion(torch.squeeze(outputs), labels) \n",
    "    \n",
    "    loss.backward() # Computes the gradient of the given tensor w.r.t. the weights/bias\n",
    "    \n",
    "    optimizer.step() # Updates weights and biases with the optimizer (SGD)\n",
    "    \n",
    "    iter+=1\n",
    "    if iter%iter_array==0:\n",
    "        with torch.no_grad():\n",
    "            # Calculating the loss and accuracy for the test dataset\n",
    "            correct_test = 0\n",
    "            total_test = 0\n",
    "            outputs_test = torch.squeeze(model(X_test))\n",
    "            loss_test = criterion(outputs_test, y_test)\n",
    "            \n",
    "            predicted_test = outputs_test.round().detach().numpy()\n",
    "            total_test += y_test.size(0)\n",
    "            correct_test += np.sum(predicted_test == y_test.detach().numpy())\n",
    "            accuracy_test = 100 * correct_test/total_test\n",
    "            losses_test.append(loss_test.item())\n",
    "            \n",
    "            # Calculating the loss and accuracy for the train dataset\n",
    "            total = 0\n",
    "            correct = 0\n",
    "            total += y_train.size(0)\n",
    "            correct += np.sum(torch.squeeze(outputs).round().detach().numpy() == y_train.detach().numpy())\n",
    "            accuracy = 100 * correct/total\n",
    "            losses.append(loss.item())\n",
    "            Iterations.append(iter)\n",
    "\n",
    "            if iter%iter_printing==0:\n",
    "                print(f\"Iteration: {iter}. \\nTest - Loss: {loss_test.item()}. Accuracy: {accuracy_test}\")\n",
    "                print(f\"Train -  Loss: {loss.item()}. Accuracy: {accuracy}\\n\")"
   ]
  },
  {
   "cell_type": "code",
   "execution_count": null,
   "id": "7d029d9f-0d53-418c-b435-d271985fbc2e",
   "metadata": {},
   "outputs": [
    {
     "data": {
      "image/png": "[encoded data removed]",
      "text/plain": [
       "<Figure size 700x400 with 1 Axes>"
      ]
     },
     "metadata": {},
     "output_type": "display_data"
    }
   ],
   "source": [
    "fig, ax = plt.subplots(nrows=1, ncols=1, figsize = (7,4))\n",
    "ax.plot(Iterations,losses, label='train')\n",
    "ax.plot(Iterations,losses_test, label='test')\n",
    "ax.legend()\n",
    "ax.set_xlabel('Epoch')\n",
    "ax.set_ylabel('BCE Loss')\n",
    "fig.show()"
   ]
  },
  {
   "cell_type": "code",
   "execution_count": null,
   "id": "7acc69c7-253d-4820-9f2c-3f10ad47ad6b",
   "metadata": {},
   "outputs": [
    {
     "ename": "ModuleNotFoundError",
     "evalue": "No module named 'torch.torchmetrics'",
     "output_type": "error",
     "traceback": [
      "\u001b[0;31m---------------------------------------------------------------------------\u001b[0m",
      "\u001b[0;31mModuleNotFoundError\u001b[0m                       Traceback (most recent call last)",
      "Cell \u001b[0;32mIn[220], line 1\u001b[0m\n\u001b[0;32m----> 1\u001b[0m \u001b[38;5;28;01mfrom\u001b[39;00m \u001b[38;5;21;01mtorch\u001b[39;00m\u001b[38;5;21;01m.\u001b[39;00m\u001b[38;5;21;01mtorchmetrics\u001b[39;00m\u001b[38;5;21;01m.\u001b[39;00m\u001b[38;5;21;01mclassification\u001b[39;00m \u001b[38;5;28;01mimport\u001b[39;00m BinaryF1Score\n",
      "\u001b[0;31mModuleNotFoundError\u001b[0m: No module named 'torch.torchmetrics'"
     ]
    }
   ],
   "source": [
    "from torchmetrics.classification import BinaryF1Score"
   ]
  },
  {
   "cell_type": "code",
   "execution_count": 80,
   "id": "415aa78d-9ba5-441d-9c2f-9e42270ff650",
   "metadata": {},
   "outputs": [],
   "source": [
    "dim_1 = 0\n",
    "dim_2 = 1"
   ]
  },
  {
   "cell_type": "code",
   "execution_count": 48,
   "id": "37fd4865-0e3c-4983-b224-2fa54f07d581",
   "metadata": {},
   "outputs": [
    {
     "ename": "InvalidIndexError",
     "evalue": "(slice(None, None, None), 0)",
     "output_type": "error",
     "traceback": [
      "\u001b[0;31m---------------------------------------------------------------------------\u001b[0m",
      "\u001b[0;31mTypeError\u001b[0m                                 Traceback (most recent call last)",
      "File \u001b[0;32m~/jupyter/lib/python3.10/site-packages/pandas/core/indexes/base.py:3805\u001b[0m, in \u001b[0;36mIndex.get_loc\u001b[0;34m(self, key)\u001b[0m\n\u001b[1;32m   3804\u001b[0m \u001b[38;5;28;01mtry\u001b[39;00m:\n\u001b[0;32m-> 3805\u001b[0m     \u001b[38;5;28;01mreturn\u001b[39;00m \u001b[38;5;28;43mself\u001b[39;49m\u001b[38;5;241;43m.\u001b[39;49m\u001b[43m_engine\u001b[49m\u001b[38;5;241;43m.\u001b[39;49m\u001b[43mget_loc\u001b[49m\u001b[43m(\u001b[49m\u001b[43mcasted_key\u001b[49m\u001b[43m)\u001b[49m\n\u001b[1;32m   3806\u001b[0m \u001b[38;5;28;01mexcept\u001b[39;00m \u001b[38;5;167;01mKeyError\u001b[39;00m \u001b[38;5;28;01mas\u001b[39;00m err:\n",
      "File \u001b[0;32mindex.pyx:167\u001b[0m, in \u001b[0;36mpandas._libs.index.IndexEngine.get_loc\u001b[0;34m()\u001b[0m\n",
      "File \u001b[0;32mindex.pyx:173\u001b[0m, in \u001b[0;36mpandas._libs.index.IndexEngine.get_loc\u001b[0;34m()\u001b[0m\n",
      "\u001b[0;31mTypeError\u001b[0m: '(slice(None, None, None), 0)' is an invalid key",
      "\nDuring handling of the above exception, another exception occurred:\n",
      "\u001b[0;31mInvalidIndexError\u001b[0m                         Traceback (most recent call last)",
      "Cell \u001b[0;32mIn[48], line 21\u001b[0m\n\u001b[1;32m     17\u001b[0m     plt\u001b[38;5;241m.\u001b[39mshow()\n\u001b[1;32m     20\u001b[0m \u001b[38;5;66;03m# Train Data\u001b[39;00m\n\u001b[0;32m---> 21\u001b[0m \u001b[43mmodel_plot\u001b[49m\u001b[43m(\u001b[49m\u001b[43mmodel\u001b[49m\u001b[43m,\u001b[49m\u001b[43mX_train\u001b[49m\u001b[43m,\u001b[49m\u001b[43my_train\u001b[49m\u001b[43m,\u001b[49m\u001b[38;5;124;43m'\u001b[39;49m\u001b[38;5;124;43mTrain Data\u001b[39;49m\u001b[38;5;124;43m'\u001b[39;49m\u001b[43m,\u001b[49m\u001b[43mdim_1\u001b[49m\u001b[43m,\u001b[49m\u001b[43mdim_2\u001b[49m\u001b[43m)\u001b[49m\n\u001b[1;32m     23\u001b[0m \u001b[38;5;66;03m# Test Dataset Results\u001b[39;00m\n\u001b[1;32m     24\u001b[0m model_plot(model,X_test,y_test,\u001b[38;5;124m'\u001b[39m\u001b[38;5;124mTest Data\u001b[39m\u001b[38;5;124m'\u001b[39m,dim_1,dim_2)\n",
      "Cell \u001b[0;32mIn[48], line 9\u001b[0m, in \u001b[0;36mmodel_plot\u001b[0;34m(model, X, y, title, dim_1, dim_2)\u001b[0m\n\u001b[1;32m      7\u001b[0m w \u001b[38;5;241m=\u001b[39m parm[\u001b[38;5;124m'\u001b[39m\u001b[38;5;124mlinear.weight\u001b[39m\u001b[38;5;124m'\u001b[39m][\u001b[38;5;241m0\u001b[39m]\n\u001b[1;32m      8\u001b[0m b \u001b[38;5;241m=\u001b[39m parm[\u001b[38;5;124m'\u001b[39m\u001b[38;5;124mlinear.bias\u001b[39m\u001b[38;5;124m'\u001b[39m][\u001b[38;5;241m0\u001b[39m]\n\u001b[0;32m----> 9\u001b[0m plt\u001b[38;5;241m.\u001b[39mscatter(\u001b[43mX\u001b[49m\u001b[43m[\u001b[49m\u001b[43m:\u001b[49m\u001b[43m,\u001b[49m\u001b[43m \u001b[49m\u001b[43mdim_1\u001b[49m\u001b[43m]\u001b[49m, X[:, dim_2], c\u001b[38;5;241m=\u001b[39my,cmap\u001b[38;5;241m=\u001b[39m\u001b[38;5;124m'\u001b[39m\u001b[38;5;124mjet\u001b[39m\u001b[38;5;124m'\u001b[39m)\n\u001b[1;32m     10\u001b[0m u \u001b[38;5;241m=\u001b[39m np\u001b[38;5;241m.\u001b[39mlinspace(X[:, \u001b[38;5;241m0\u001b[39m]\u001b[38;5;241m.\u001b[39mmin(), X[:, \u001b[38;5;241m0\u001b[39m]\u001b[38;5;241m.\u001b[39mmax(), \u001b[38;5;241m2\u001b[39m)\n\u001b[1;32m     11\u001b[0m plt\u001b[38;5;241m.\u001b[39mplot(u, (\u001b[38;5;241m0.5\u001b[39m\u001b[38;5;241m-\u001b[39mb\u001b[38;5;241m-\u001b[39mw[\u001b[38;5;241m0\u001b[39m]\u001b[38;5;241m*\u001b[39mu)\u001b[38;5;241m/\u001b[39mw[\u001b[38;5;241m1\u001b[39m])\n",
      "File \u001b[0;32m~/jupyter/lib/python3.10/site-packages/pandas/core/frame.py:4090\u001b[0m, in \u001b[0;36mDataFrame.__getitem__\u001b[0;34m(self, key)\u001b[0m\n\u001b[1;32m   4088\u001b[0m \u001b[38;5;28;01mif\u001b[39;00m \u001b[38;5;28mself\u001b[39m\u001b[38;5;241m.\u001b[39mcolumns\u001b[38;5;241m.\u001b[39mnlevels \u001b[38;5;241m>\u001b[39m \u001b[38;5;241m1\u001b[39m:\n\u001b[1;32m   4089\u001b[0m     \u001b[38;5;28;01mreturn\u001b[39;00m \u001b[38;5;28mself\u001b[39m\u001b[38;5;241m.\u001b[39m_getitem_multilevel(key)\n\u001b[0;32m-> 4090\u001b[0m indexer \u001b[38;5;241m=\u001b[39m \u001b[38;5;28;43mself\u001b[39;49m\u001b[38;5;241;43m.\u001b[39;49m\u001b[43mcolumns\u001b[49m\u001b[38;5;241;43m.\u001b[39;49m\u001b[43mget_loc\u001b[49m\u001b[43m(\u001b[49m\u001b[43mkey\u001b[49m\u001b[43m)\u001b[49m\n\u001b[1;32m   4091\u001b[0m \u001b[38;5;28;01mif\u001b[39;00m is_integer(indexer):\n\u001b[1;32m   4092\u001b[0m     indexer \u001b[38;5;241m=\u001b[39m [indexer]\n",
      "File \u001b[0;32m~/jupyter/lib/python3.10/site-packages/pandas/core/indexes/base.py:3817\u001b[0m, in \u001b[0;36mIndex.get_loc\u001b[0;34m(self, key)\u001b[0m\n\u001b[1;32m   3812\u001b[0m     \u001b[38;5;28;01mraise\u001b[39;00m \u001b[38;5;167;01mKeyError\u001b[39;00m(key) \u001b[38;5;28;01mfrom\u001b[39;00m \u001b[38;5;21;01merr\u001b[39;00m\n\u001b[1;32m   3813\u001b[0m \u001b[38;5;28;01mexcept\u001b[39;00m \u001b[38;5;167;01mTypeError\u001b[39;00m:\n\u001b[1;32m   3814\u001b[0m     \u001b[38;5;66;03m# If we have a listlike key, _check_indexing_error will raise\u001b[39;00m\n\u001b[1;32m   3815\u001b[0m     \u001b[38;5;66;03m#  InvalidIndexError. Otherwise we fall through and re-raise\u001b[39;00m\n\u001b[1;32m   3816\u001b[0m     \u001b[38;5;66;03m#  the TypeError.\u001b[39;00m\n\u001b[0;32m-> 3817\u001b[0m     \u001b[38;5;28;43mself\u001b[39;49m\u001b[38;5;241;43m.\u001b[39;49m\u001b[43m_check_indexing_error\u001b[49m\u001b[43m(\u001b[49m\u001b[43mkey\u001b[49m\u001b[43m)\u001b[49m\n\u001b[1;32m   3818\u001b[0m     \u001b[38;5;28;01mraise\u001b[39;00m\n",
      "File \u001b[0;32m~/jupyter/lib/python3.10/site-packages/pandas/core/indexes/base.py:6059\u001b[0m, in \u001b[0;36mIndex._check_indexing_error\u001b[0;34m(self, key)\u001b[0m\n\u001b[1;32m   6055\u001b[0m \u001b[38;5;28;01mdef\u001b[39;00m \u001b[38;5;21m_check_indexing_error\u001b[39m(\u001b[38;5;28mself\u001b[39m, key):\n\u001b[1;32m   6056\u001b[0m     \u001b[38;5;28;01mif\u001b[39;00m \u001b[38;5;129;01mnot\u001b[39;00m is_scalar(key):\n\u001b[1;32m   6057\u001b[0m         \u001b[38;5;66;03m# if key is not a scalar, directly raise an error (the code below\u001b[39;00m\n\u001b[1;32m   6058\u001b[0m         \u001b[38;5;66;03m# would convert to numpy arrays and raise later any way) - GH29926\u001b[39;00m\n\u001b[0;32m-> 6059\u001b[0m         \u001b[38;5;28;01mraise\u001b[39;00m InvalidIndexError(key)\n",
      "\u001b[0;31mInvalidIndexError\u001b[0m: (slice(None, None, None), 0)"
     ]
    }
   ],
   "source": [
    "def model_plot(model,X,y,title,dim_1,dim_2):\n",
    "    parm = {}\n",
    "    b = []\n",
    "    for name, param in model.named_parameters():\n",
    "        parm[name]=param.detach().numpy()  \n",
    "    \n",
    "    w = parm['linear.weight'][0]\n",
    "    b = parm['linear.bias'][0]\n",
    "    plt.scatter(X[:, dim_1], X[:, dim_2], c=y,cmap='jet')\n",
    "    u = np.linspace(X[:, 0].min(), X[:, 0].max(), 2)\n",
    "    plt.plot(u, (0.5-b-w[0]*u)/w[1])\n",
    "    plt.xlim(X[:, dim_1].min()-0.5, X[:, 0].max()+0.5)\n",
    "    plt.ylim(X[:, dim_2].min()-0.5, X[:, 1].max()+0.5)\n",
    "    plt.xlabel(r'$\\boldsymbol{x_1}$',fontsize=16) # Normally you can just add the argument fontweight='bold' but it does not work with latex\n",
    "    plt.ylabel(r'$\\boldsymbol{x_2}$',fontsize=16)\n",
    "    plt.title(title)\n",
    "    plt.show()\n",
    "\n",
    "\n",
    "# Train Data\n",
    "model_plot(model,X_train,y_train,'Train Data',dim_1,dim_2)\n",
    "\n",
    "# Test Dataset Results\n",
    "model_plot(model,X_test,y_test,'Test Data',dim_1,dim_2)"
   ]
  },
  {
   "cell_type": "code",
   "execution_count": null,
   "id": "b121092a-f27e-4146-913b-c9c2f592e4df",
   "metadata": {},
   "outputs": [],
   "source": []
  },
  {
   "cell_type": "code",
   "execution_count": 43,
   "id": "2d3fcfc9-689b-4320-a2b5-600271c98422",
   "metadata": {},
   "outputs": [
    {
     "name": "stdout",
     "output_type": "stream",
     "text": [
      "tensor([[0.3709],\n",
      "        [0.4930],\n",
      "        [0.4063],\n",
      "        [0.3934]], grad_fn=<AddmmBackward0>)\n"
     ]
    }
   ],
   "source": [
    "model_2 = torch.nn.Sequential(\n",
    "    torch.nn.Linear(3, 6),\n",
    "    torch.nn.ReLU(),\n",
    "    torch.nn.Linear(6, 6),\n",
    "    torch.nn.ReLU(),\n",
    "    torch.nn.Linear(6, 6),\n",
    "    torch.nn.ReLU(),\n",
    "    torch.nn.Linear(6, 1),\n",
    ")\n",
    "\n",
    "print(model_2(torch.randn(4, 3))) # feed it 4 random 3-dim. vectors"
   ]
  },
  {
   "cell_type": "code",
   "execution_count": null,
   "id": "f267ae4a-ada0-4d75-9912-6dae535d7ee6",
   "metadata": {},
   "outputs": [],
   "source": []
  },
  {
   "cell_type": "code",
   "execution_count": null,
   "id": "1ea2d4e4-af64-4dc1-ac85-ee118d283865",
   "metadata": {},
   "outputs": [],
   "source": []
  },
  {
   "cell_type": "markdown",
   "id": "739c0993-6abf-487b-bd3f-43f0dc2e759c",
   "metadata": {},
   "source": [
    "### Adding One-hot Encoding"
   ]
  },
  {
   "cell_type": "code",
   "execution_count": null,
   "id": "edd4e78f-9bac-4a64-b287-283d345b7257",
   "metadata": {},
   "outputs": [],
   "source": [
    "A = torch.tensor([3, 4, 5, 0, 1, 2])\n",
    "output = F.one_hot(A, num_classes = 7)\n",
    "print(output)\n",
    "scalar_dim = 3\n",
    "num_classes = 10\n",
    "\n",
    "Fun.one_hot(torch.LongTensor([scalar_dim]), num_classes=num_classes)"
   ]
  },
  {
   "cell_type": "code",
   "execution_count": null,
   "id": "951f9687-6eab-4a1e-90c9-f4e32f9be796",
   "metadata": {},
   "outputs": [],
   "source": [
    "num_classes = len(df_heart_train[[cols_obj_pure[0]]].value_counts()) + 1"
   ]
  },
  {
   "cell_type": "code",
   "execution_count": null,
   "id": "42b60103-254d-43ed-afd7-e82a861671bb",
   "metadata": {},
   "outputs": [],
   "source": [
    "Fun.one_hot(torch.Tensor(df_heart_train[cols_obj_pure[0]].to_numpy()), num_classes = num_classes)"
   ]
  },
  {
   "cell_type": "code",
   "execution_count": null,
   "id": "d86b6895-203f-46f7-8c6a-65587d1292e5",
   "metadata": {},
   "outputs": [],
   "source": [
    "X_train, X_test = torch.Tensor(df_heart_train[features + cols_obj_pure].to_numpy()),torch.Tensor(df_heart_test[features + cols_obj_pure].to_numpy())\n",
    "y_train, y_test = torch.Tensor(df_heart_train[label_col].to_numpy()),torch.Tensor(df_heart_test[label_col].to_numpy())"
   ]
  },
  {
   "cell_type": "code",
   "execution_count": null,
   "id": "55c31ba8-0e83-4e38-96b4-f1d319ec7d99",
   "metadata": {},
   "outputs": [],
   "source": []
  },
  {
   "cell_type": "code",
   "execution_count": null,
   "id": "b9c92e6d-4cf7-491a-a746-5dc68529c67f",
   "metadata": {},
   "outputs": [],
   "source": []
  },
  {
   "cell_type": "code",
   "execution_count": null,
   "id": "a5565bb4-71d2-4456-8c1e-eb86fc45df56",
   "metadata": {},
   "outputs": [],
   "source": []
  },
  {
   "cell_type": "markdown",
   "id": "d5e949e6-129b-4019-80a2-2e0f2b58e58d",
   "metadata": {},
   "source": [
    "# Appendix"
   ]
  },
  {
   "cell_type": "code",
   "execution_count": null,
   "id": "b4a7ceb1-ab24-464c-9cc6-2f9c62972445",
   "metadata": {},
   "outputs": [],
   "source": [
    "# class Example(BaseClass):\n",
    "#     \"\"\"An example Parameterized class\"\"\"\n",
    "#     timestamps = []\n",
    "\n",
    "#     boolean                 = param.Boolean(True, doc=\"A sample Boolean parameter\")\n",
    "#     color                   = param.Color(default='#FFFFFF')\n",
    "#     date                    = param.Date(dt.datetime(2017, 1, 1),\n",
    "#                                          bounds=(dt.datetime(2017, 1, 1), dt.datetime(2017, 2, 1)))\n",
    "#     select_string           = param.ObjectSelector(default=\"yellow\",objects=[\"red\",\"yellow\",\"green\"])\n",
    "#     select_fn               = param.ObjectSelector(default=list,objects=[list,set,dict])\n",
    "#     int_list                = param.ListSelector(default=[3,5], objects=[1,3,5,7,9],precedence=0.5)\n",
    "#     single_file             = param.FileSelector(path='../../*/*.py*',precedence=0.5)\n",
    "#     multiple_files          = param.MultiFileSelector(path='../../*/*.py?',precedence=0.5)\n",
    "#     record_timestamp        = param.Action(lambda x: x.timestamps.append(dt.datetime.now()),\n",
    "#                                            doc=\"\"\"Record timestamp.\"\"\",precedence=0.7)"
   ]
  },
  {
   "cell_type": "code",
   "execution_count": null,
   "id": "b98de99b-6460-4bec-87a3-4f654a880262",
   "metadata": {},
   "outputs": [],
   "source": [
    "X_train, X_test, y_train, y_test = train_test_split(\n",
    " df_heart_train[features + cols_obj_pure], df_heart_train[label_col], test_size=0.33, random_state=42)"
   ]
  }
 ],
 "metadata": {
  "kernelspec": {
   "display_name": "Python 3 (ipykernel)",
   "language": "python",
   "name": "python3"
  },
  "language_info": {
   "codemirror_mode": {
    "name": "ipython",
    "version": 3
   },
   "file_extension": ".py",
   "mimetype": "text/x-python",
   "name": "python",
   "nbconvert_exporter": "python",
   "pygments_lexer": "ipython3",
   "version": "3.10.12"
  }
 },
 "nbformat": 4,
 "nbformat_minor": 5
}
