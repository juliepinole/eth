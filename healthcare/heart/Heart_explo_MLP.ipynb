{
 "cells": [
  {
   "cell_type": "markdown",
   "id": "6c20ca57-2a9b-4511-8b89-593f94a630ee",
   "metadata": {},
   "source": [
    "Heart Failures - ML in healthcare - MLP (MULTI LAYER PERCEPTRON)\n",
    "==="
   ]
  },
  {
   "cell_type": "markdown",
   "id": "4249dc2f",
   "metadata": {},
   "source": []
  },
  {
   "cell_type": "code",
   "execution_count": 1,
   "id": "73c334c9",
   "metadata": {},
   "outputs": [],
   "source": [
    "import pandas as pd\n",
    "import numpy as np\n",
    "import matplotlib.pyplot as plt\n",
    "import seaborn as sns"
   ]
  },
  {
   "cell_type": "code",
   "execution_count": 2,
   "id": "2dec4db4-a964-4878-93c3-480a3191919f",
   "metadata": {},
   "outputs": [],
   "source": [
    "# from scipy.stats import norm\n",
    "# from sklearn.preprocessing import StandardScaler\n",
    "# from scipy import stats\n",
    "# import warnings\n",
    "# warnings.filterwarnings('ignore')\n",
    "%matplotlib inline\n",
    "import torch\n",
    "import torch.nn.functional as F\n",
    "# import param"
   ]
  },
  {
   "cell_type": "code",
   "execution_count": 3,
   "id": "86be1e0e-6a7d-42e8-9c37-a5a9f3da9bf9",
   "metadata": {},
   "outputs": [],
   "source": [
    "# import sklearn as sk\n",
    "# import scipy\n",
    "from sklearn.preprocessing import MinMaxScaler\n",
    "from sklearn.model_selection import train_test_split\n",
    "from sklearn.metrics import confusion_matrix\n",
    "from sklearn.metrics import roc_curve, auc\n",
    "\n",
    "\n",
    "# , precision_score, recall_score, auc, roc_curve, roc_auc_score, accuracy_score, classification_report "
   ]
  },
  {
   "cell_type": "code",
   "execution_count": 14,
   "id": "da4974d8-5377-4c12-8ce7-4f9f720951d0",
   "metadata": {},
   "outputs": [
    {
     "data": {
      "application/javascript": "(function(root) {\n  function now() {\n    return new Date();\n  }\n\n  var force = true;\n  var py_version = '3.4.0'.replace('rc', '-rc.').replace('.dev', '-dev.');\n  var reloading = false;\n  var Bokeh = root.Bokeh;\n\n  if (typeof (root._bokeh_timeout) === \"undefined\" || force) {\n    root._bokeh_timeout = Date.now() + 5000;\n    root._bokeh_failed_load = false;\n  }\n\n  function run_callbacks() {\n    try {\n      root._bokeh_onload_callbacks.forEach(function(callback) {\n        if (callback != null)\n          callback();\n      });\n    } finally {\n      delete root._bokeh_onload_callbacks;\n    }\n    console.debug(\"Bokeh: all callbacks have finished\");\n  }\n\n  function load_libs(css_urls, js_urls, js_modules, js_exports, callback) {\n    if (css_urls == null) css_urls = [];\n    if (js_urls == null) js_urls = [];\n    if (js_modules == null) js_modules = [];\n    if (js_exports == null) js_exports = {};\n\n    root._bokeh_onload_callbacks.push(callback);\n\n    if (root._bokeh_is_loading > 0) {\n      console.debug(\"Bokeh: BokehJS is being loaded, scheduling callback at\", now());\n      return null;\n    }\n    if (js_urls.length === 0 && js_modules.length === 0 && Object.keys(js_exports).length === 0) {\n      run_callbacks();\n      return null;\n    }\n    if (!reloading) {\n      console.debug(\"Bokeh: BokehJS not loaded, scheduling load and callback at\", now());\n    }\n\n    function on_load() {\n      root._bokeh_is_loading--;\n      if (root._bokeh_is_loading === 0) {\n        console.debug(\"Bokeh: all BokehJS libraries/stylesheets loaded\");\n        run_callbacks()\n      }\n    }\n    window._bokeh_on_load = on_load\n\n    function on_error() {\n      console.error(\"failed to load \" + url);\n    }\n\n    var skip = [];\n    if (window.requirejs) {\n      window.requirejs.config({'packages': {}, 'paths': {}, 'shim': {}});\n      root._bokeh_is_loading = css_urls.length + 0;\n    } else {\n      root._bokeh_is_loading = css_urls.length + js_urls.length + js_modules.length + Object.keys(js_exports).length;\n    }\n\n    var existing_stylesheets = []\n    var links = document.getElementsByTagName('link')\n    for (var i = 0; i < links.length; i++) {\n      var link = links[i]\n      if (link.href != null) {\n\texisting_stylesheets.push(link.href)\n      }\n    }\n    for (var i = 0; i < css_urls.length; i++) {\n      var url = css_urls[i];\n      if (existing_stylesheets.indexOf(url) !== -1) {\n\ton_load()\n\tcontinue;\n      }\n      const element = document.createElement(\"link\");\n      element.onload = on_load;\n      element.onerror = on_error;\n      element.rel = \"stylesheet\";\n      element.type = \"text/css\";\n      element.href = url;\n      console.debug(\"Bokeh: injecting link tag for BokehJS stylesheet: \", url);\n      document.body.appendChild(element);\n    }    var existing_scripts = []\n    var scripts = document.getElementsByTagName('script')\n    for (var i = 0; i < scripts.length; i++) {\n      var script = scripts[i]\n      if (script.src != null) {\n\texisting_scripts.push(script.src)\n      }\n    }\n    for (var i = 0; i < js_urls.length; i++) {\n      var url = js_urls[i];\n      if (skip.indexOf(url) !== -1 || existing_scripts.indexOf(url) !== -1) {\n\tif (!window.requirejs) {\n\t  on_load();\n\t}\n\tcontinue;\n      }\n      var element = document.createElement('script');\n      element.onload = on_load;\n      element.onerror = on_error;\n      element.async = false;\n      element.src = url;\n      console.debug(\"Bokeh: injecting script tag for BokehJS library: \", url);\n      document.head.appendChild(element);\n    }\n    for (var i = 0; i < js_modules.length; i++) {\n      var url = js_modules[i];\n      if (skip.indexOf(url) !== -1 || existing_scripts.indexOf(url) !== -1) {\n\tif (!window.requirejs) {\n\t  on_load();\n\t}\n\tcontinue;\n      }\n      var element = document.createElement('script');\n      element.onload = on_load;\n      element.onerror = on_error;\n      element.async = false;\n      element.src = url;\n      element.type = \"module\";\n      console.debug(\"Bokeh: injecting script tag for BokehJS library: \", url);\n      document.head.appendChild(element);\n    }\n    for (const name in js_exports) {\n      var url = js_exports[name];\n      if (skip.indexOf(url) >= 0 || root[name] != null) {\n\tif (!window.requirejs) {\n\t  on_load();\n\t}\n\tcontinue;\n      }\n      var element = document.createElement('script');\n      element.onerror = on_error;\n      element.async = false;\n      element.type = \"module\";\n      console.debug(\"Bokeh: injecting script tag for BokehJS library: \", url);\n      element.textContent = `\n      import ${name} from \"${url}\"\n      window.${name} = ${name}\n      window._bokeh_on_load()\n      `\n      document.head.appendChild(element);\n    }\n    if (!js_urls.length && !js_modules.length) {\n      on_load()\n    }\n  };\n\n  function inject_raw_css(css) {\n    const element = document.createElement(\"style\");\n    element.appendChild(document.createTextNode(css));\n    document.body.appendChild(element);\n  }\n\n  var js_urls = [\"https://cdn.bokeh.org/bokeh/release/bokeh-3.4.0.min.js\", \"https://cdn.bokeh.org/bokeh/release/bokeh-gl-3.4.0.min.js\", \"https://cdn.bokeh.org/bokeh/release/bokeh-widgets-3.4.0.min.js\", \"https://cdn.bokeh.org/bokeh/release/bokeh-tables-3.4.0.min.js\", \"https://cdn.holoviz.org/panel/1.4.0/dist/panel.min.js\"];\n  var js_modules = [];\n  var js_exports = {};\n  var css_urls = [];\n  var inline_js = [    function(Bokeh) {\n      Bokeh.set_log_level(\"info\");\n    },\nfunction(Bokeh) {} // ensure no trailing comma for IE\n  ];\n\n  function run_inline_js() {\n    if ((root.Bokeh !== undefined) || (force === true)) {\n      for (var i = 0; i < inline_js.length; i++) {\n\ttry {\n          inline_js[i].call(root, root.Bokeh);\n\t} catch(e) {\n\t  if (!reloading) {\n\t    throw e;\n\t  }\n\t}\n      }\n      // Cache old bokeh versions\n      if (Bokeh != undefined && !reloading) {\n\tvar NewBokeh = root.Bokeh;\n\tif (Bokeh.versions === undefined) {\n\t  Bokeh.versions = new Map();\n\t}\n\tif (NewBokeh.version !== Bokeh.version) {\n\t  Bokeh.versions.set(NewBokeh.version, NewBokeh)\n\t}\n\troot.Bokeh = Bokeh;\n      }} else if (Date.now() < root._bokeh_timeout) {\n      setTimeout(run_inline_js, 100);\n    } else if (!root._bokeh_failed_load) {\n      console.log(\"Bokeh: BokehJS failed to load within specified timeout.\");\n      root._bokeh_failed_load = true;\n    }\n    root._bokeh_is_initializing = false\n  }\n\n  function load_or_wait() {\n    // Implement a backoff loop that tries to ensure we do not load multiple\n    // versions of Bokeh and its dependencies at the same time.\n    // In recent versions we use the root._bokeh_is_initializing flag\n    // to determine whether there is an ongoing attempt to initialize\n    // bokeh, however for backward compatibility we also try to ensure\n    // that we do not start loading a newer (Panel>=1.0 and Bokeh>3) version\n    // before older versions are fully initialized.\n    if (root._bokeh_is_initializing && Date.now() > root._bokeh_timeout) {\n      root._bokeh_is_initializing = false;\n      root._bokeh_onload_callbacks = undefined;\n      console.log(\"Bokeh: BokehJS was loaded multiple times but one version failed to initialize.\");\n      load_or_wait();\n    } else if (root._bokeh_is_initializing || (typeof root._bokeh_is_initializing === \"undefined\" && root._bokeh_onload_callbacks !== undefined)) {\n      setTimeout(load_or_wait, 100);\n    } else {\n      root._bokeh_is_initializing = true\n      root._bokeh_onload_callbacks = []\n      var bokeh_loaded = Bokeh != null && (Bokeh.version === py_version || (Bokeh.versions !== undefined && Bokeh.versions.has(py_version)));\n      if (!reloading && !bokeh_loaded) {\n\troot.Bokeh = undefined;\n      }\n      load_libs(css_urls, js_urls, js_modules, js_exports, function() {\n\tconsole.debug(\"Bokeh: BokehJS plotting callback run at\", now());\n\trun_inline_js();\n      });\n    }\n  }\n  // Give older versions of the autoload script a head-start to ensure\n  // they initialize before we start loading newer version.\n  setTimeout(load_or_wait, 100)\n}(window));",
      "application/vnd.holoviews_load.v0+json": ""
     },
     "metadata": {},
     "output_type": "display_data"
    },
    {
     "data": {
      "application/javascript": "\nif ((window.PyViz === undefined) || (window.PyViz instanceof HTMLElement)) {\n  window.PyViz = {comms: {}, comm_status:{}, kernels:{}, receivers: {}, plot_index: []}\n}\n\n\n    function JupyterCommManager() {\n    }\n\n    JupyterCommManager.prototype.register_target = function(plot_id, comm_id, msg_handler) {\n      if (window.comm_manager || ((window.Jupyter !== undefined) && (Jupyter.notebook.kernel != null))) {\n        var comm_manager = window.comm_manager || Jupyter.notebook.kernel.comm_manager;\n        comm_manager.register_target(comm_id, function(comm) {\n          comm.on_msg(msg_handler);\n        });\n      } else if ((plot_id in window.PyViz.kernels) && (window.PyViz.kernels[plot_id])) {\n        window.PyViz.kernels[plot_id].registerCommTarget(comm_id, function(comm) {\n          comm.onMsg = msg_handler;\n        });\n      } else if (typeof google != 'undefined' && google.colab.kernel != null) {\n        google.colab.kernel.comms.registerTarget(comm_id, (comm) => {\n          var messages = comm.messages[Symbol.asyncIterator]();\n          function processIteratorResult(result) {\n            var message = result.value;\n            console.log(message)\n            var content = {data: message.data, comm_id};\n            var buffers = []\n            for (var buffer of message.buffers || []) {\n              buffers.push(new DataView(buffer))\n            }\n            var metadata = message.metadata || {};\n            var msg = {content, buffers, metadata}\n            msg_handler(msg);\n            return messages.next().then(processIteratorResult);\n          }\n          return messages.next().then(processIteratorResult);\n        })\n      }\n    }\n\n    JupyterCommManager.prototype.get_client_comm = function(plot_id, comm_id, msg_handler) {\n      if (comm_id in window.PyViz.comms) {\n        return window.PyViz.comms[comm_id];\n      } else if (window.comm_manager || ((window.Jupyter !== undefined) && (Jupyter.notebook.kernel != null))) {\n        var comm_manager = window.comm_manager || Jupyter.notebook.kernel.comm_manager;\n        var comm = comm_manager.new_comm(comm_id, {}, {}, {}, comm_id);\n        if (msg_handler) {\n          comm.on_msg(msg_handler);\n        }\n      } else if ((plot_id in window.PyViz.kernels) && (window.PyViz.kernels[plot_id])) {\n        var comm = window.PyViz.kernels[plot_id].connectToComm(comm_id);\n        comm.open();\n        if (msg_handler) {\n          comm.onMsg = msg_handler;\n        }\n      } else if (typeof google != 'undefined' && google.colab.kernel != null) {\n        var comm_promise = google.colab.kernel.comms.open(comm_id)\n        comm_promise.then((comm) => {\n          window.PyViz.comms[comm_id] = comm;\n          if (msg_handler) {\n            var messages = comm.messages[Symbol.asyncIterator]();\n            function processIteratorResult(result) {\n              var message = result.value;\n              var content = {data: message.data};\n              var metadata = message.metadata || {comm_id};\n              var msg = {content, metadata}\n              msg_handler(msg);\n              return messages.next().then(processIteratorResult);\n            }\n            return messages.next().then(processIteratorResult);\n          }\n        }) \n        var sendClosure = (data, metadata, buffers, disposeOnDone) => {\n          return comm_promise.then((comm) => {\n            comm.send(data, metadata, buffers, disposeOnDone);\n          });\n        };\n        var comm = {\n          send: sendClosure\n        };\n      }\n      window.PyViz.comms[comm_id] = comm;\n      return comm;\n    }\n    window.PyViz.comm_manager = new JupyterCommManager();\n    \n\n\nvar JS_MIME_TYPE = 'application/javascript';\nvar HTML_MIME_TYPE = 'text/html';\nvar EXEC_MIME_TYPE = 'application/vnd.holoviews_exec.v0+json';\nvar CLASS_NAME = 'output';\n\n/**\n * Render data to the DOM node\n */\nfunction render(props, node) {\n  var div = document.createElement(\"div\");\n  var script = document.createElement(\"script\");\n  node.appendChild(div);\n  node.appendChild(script);\n}\n\n/**\n * Handle when a new output is added\n */\nfunction handle_add_output(event, handle) {\n  var output_area = handle.output_area;\n  var output = handle.output;\n  if ((output.data == undefined) || (!output.data.hasOwnProperty(EXEC_MIME_TYPE))) {\n    return\n  }\n  var id = output.metadata[EXEC_MIME_TYPE][\"id\"];\n  var toinsert = output_area.element.find(\".\" + CLASS_NAME.split(' ')[0]);\n  if (id !== undefined) {\n    var nchildren = toinsert.length;\n    var html_node = toinsert[nchildren-1].children[0];\n    html_node.innerHTML = output.data[HTML_MIME_TYPE];\n    var scripts = [];\n    var nodelist = html_node.querySelectorAll(\"script\");\n    for (var i in nodelist) {\n      if (nodelist.hasOwnProperty(i)) {\n        scripts.push(nodelist[i])\n      }\n    }\n\n    scripts.forEach( function (oldScript) {\n      var newScript = document.createElement(\"script\");\n      var attrs = [];\n      var nodemap = oldScript.attributes;\n      for (var j in nodemap) {\n        if (nodemap.hasOwnProperty(j)) {\n          attrs.push(nodemap[j])\n        }\n      }\n      attrs.forEach(function(attr) { newScript.setAttribute(attr.name, attr.value) });\n      newScript.appendChild(document.createTextNode(oldScript.innerHTML));\n      oldScript.parentNode.replaceChild(newScript, oldScript);\n    });\n    if (JS_MIME_TYPE in output.data) {\n      toinsert[nchildren-1].children[1].textContent = output.data[JS_MIME_TYPE];\n    }\n    output_area._hv_plot_id = id;\n    if ((window.Bokeh !== undefined) && (id in Bokeh.index)) {\n      window.PyViz.plot_index[id] = Bokeh.index[id];\n    } else {\n      window.PyViz.plot_index[id] = null;\n    }\n  } else if (output.metadata[EXEC_MIME_TYPE][\"server_id\"] !== undefined) {\n    var bk_div = document.createElement(\"div\");\n    bk_div.innerHTML = output.data[HTML_MIME_TYPE];\n    var script_attrs = bk_div.children[0].attributes;\n    for (var i = 0; i < script_attrs.length; i++) {\n      toinsert[toinsert.length - 1].childNodes[1].setAttribute(script_attrs[i].name, script_attrs[i].value);\n    }\n    // store reference to server id on output_area\n    output_area._bokeh_server_id = output.metadata[EXEC_MIME_TYPE][\"server_id\"];\n  }\n}\n\n/**\n * Handle when an output is cleared or removed\n */\nfunction handle_clear_output(event, handle) {\n  var id = handle.cell.output_area._hv_plot_id;\n  var server_id = handle.cell.output_area._bokeh_server_id;\n  if (((id === undefined) || !(id in PyViz.plot_index)) && (server_id !== undefined)) { return; }\n  var comm = window.PyViz.comm_manager.get_client_comm(\"hv-extension-comm\", \"hv-extension-comm\", function () {});\n  if (server_id !== null) {\n    comm.send({event_type: 'server_delete', 'id': server_id});\n    return;\n  } else if (comm !== null) {\n    comm.send({event_type: 'delete', 'id': id});\n  }\n  delete PyViz.plot_index[id];\n  if ((window.Bokeh !== undefined) & (id in window.Bokeh.index)) {\n    var doc = window.Bokeh.index[id].model.document\n    doc.clear();\n    const i = window.Bokeh.documents.indexOf(doc);\n    if (i > -1) {\n      window.Bokeh.documents.splice(i, 1);\n    }\n  }\n}\n\n/**\n * Handle kernel restart event\n */\nfunction handle_kernel_cleanup(event, handle) {\n  delete PyViz.comms[\"hv-extension-comm\"];\n  window.PyViz.plot_index = {}\n}\n\n/**\n * Handle update_display_data messages\n */\nfunction handle_update_output(event, handle) {\n  handle_clear_output(event, {cell: {output_area: handle.output_area}})\n  handle_add_output(event, handle)\n}\n\nfunction register_renderer(events, OutputArea) {\n  function append_mime(data, metadata, element) {\n    // create a DOM node to render to\n    var toinsert = this.create_output_subarea(\n    metadata,\n    CLASS_NAME,\n    EXEC_MIME_TYPE\n    );\n    this.keyboard_manager.register_events(toinsert);\n    // Render to node\n    var props = {data: data, metadata: metadata[EXEC_MIME_TYPE]};\n    render(props, toinsert[0]);\n    element.append(toinsert);\n    return toinsert\n  }\n\n  events.on('output_added.OutputArea', handle_add_output);\n  events.on('output_updated.OutputArea', handle_update_output);\n  events.on('clear_output.CodeCell', handle_clear_output);\n  events.on('delete.Cell', handle_clear_output);\n  events.on('kernel_ready.Kernel', handle_kernel_cleanup);\n\n  OutputArea.prototype.register_mime_type(EXEC_MIME_TYPE, append_mime, {\n    safe: true,\n    index: 0\n  });\n}\n\nif (window.Jupyter !== undefined) {\n  try {\n    var events = require('base/js/events');\n    var OutputArea = require('notebook/js/outputarea').OutputArea;\n    if (OutputArea.prototype.mime_types().indexOf(EXEC_MIME_TYPE) == -1) {\n      register_renderer(events, OutputArea);\n    }\n  } catch(err) {\n  }\n}\n",
      "application/vnd.holoviews_load.v0+json": ""
     },
     "metadata": {},
     "output_type": "display_data"
    },
    {
     "data": {
      "text/html": [
       "<style>*[data-root-id],\n",
       "*[data-root-id] > * {\n",
       "  box-sizing: border-box;\n",
       "  font-family: var(--jp-ui-font-family);\n",
       "  font-size: var(--jp-ui-font-size1);\n",
       "  color: var(--vscode-editor-foreground, var(--jp-ui-font-color1));\n",
       "}\n",
       "\n",
       "/* Override VSCode background color */\n",
       ".cell-output-ipywidget-background:has(\n",
       "    > .cell-output-ipywidget-background > .lm-Widget > *[data-root-id]\n",
       "  ),\n",
       ".cell-output-ipywidget-background:has(> .lm-Widget > *[data-root-id]) {\n",
       "  background-color: transparent !important;\n",
       "}\n",
       "</style>"
      ]
     },
     "metadata": {},
     "output_type": "display_data"
    },
    {
     "data": {
      "application/vnd.holoviews_exec.v0+json": "",
      "text/html": [
       "<div id='dd74365f-6c47-4f41-ae6a-8b4d319040df'>\n",
       "  <div id=\"afac8c36-a4ab-4ffa-a658-1fcf665ef28d\" data-root-id=\"dd74365f-6c47-4f41-ae6a-8b4d319040df\" style=\"display: contents;\"></div>\n",
       "</div>\n",
       "<script type=\"application/javascript\">(function(root) {\n",
       "  var docs_json = {\"f1272c19-845e-474b-8851-ea1da3f7a272\":{\"version\":\"3.4.0\",\"title\":\"Bokeh Application\",\"roots\":[{\"type\":\"object\",\"name\":\"panel.models.browser.BrowserInfo\",\"id\":\"dd74365f-6c47-4f41-ae6a-8b4d319040df\"},{\"type\":\"object\",\"name\":\"panel.models.comm_manager.CommManager\",\"id\":\"94c58039-a47e-4924-b16f-5e8af67c5af4\",\"attributes\":{\"plot_id\":\"dd74365f-6c47-4f41-ae6a-8b4d319040df\",\"comm_id\":\"1c52589eae6740dd96ee09eae081278c\",\"client_comm_id\":\"41fad5ff629f4fb3b5587ae0af24adf1\"}}],\"defs\":[{\"type\":\"model\",\"name\":\"ReactiveHTML1\"},{\"type\":\"model\",\"name\":\"FlexBox1\",\"properties\":[{\"name\":\"align_content\",\"kind\":\"Any\",\"default\":\"flex-start\"},{\"name\":\"align_items\",\"kind\":\"Any\",\"default\":\"flex-start\"},{\"name\":\"flex_direction\",\"kind\":\"Any\",\"default\":\"row\"},{\"name\":\"flex_wrap\",\"kind\":\"Any\",\"default\":\"wrap\"},{\"name\":\"justify_content\",\"kind\":\"Any\",\"default\":\"flex-start\"},{\"name\":\"gap\",\"kind\":\"Any\",\"default\":\"\"}]},{\"type\":\"model\",\"name\":\"FloatPanel1\",\"properties\":[{\"name\":\"config\",\"kind\":\"Any\",\"default\":{\"type\":\"map\"}},{\"name\":\"contained\",\"kind\":\"Any\",\"default\":true},{\"name\":\"position\",\"kind\":\"Any\",\"default\":\"right-top\"},{\"name\":\"offsetx\",\"kind\":\"Any\",\"default\":null},{\"name\":\"offsety\",\"kind\":\"Any\",\"default\":null},{\"name\":\"theme\",\"kind\":\"Any\",\"default\":\"primary\"},{\"name\":\"status\",\"kind\":\"Any\",\"default\":\"normalized\"}]},{\"type\":\"model\",\"name\":\"GridStack1\",\"properties\":[{\"name\":\"mode\",\"kind\":\"Any\",\"default\":\"warn\"},{\"name\":\"ncols\",\"kind\":\"Any\",\"default\":null},{\"name\":\"nrows\",\"kind\":\"Any\",\"default\":null},{\"name\":\"allow_resize\",\"kind\":\"Any\",\"default\":true},{\"name\":\"allow_drag\",\"kind\":\"Any\",\"default\":true},{\"name\":\"state\",\"kind\":\"Any\",\"default\":[]}]},{\"type\":\"model\",\"name\":\"drag1\",\"properties\":[{\"name\":\"slider_width\",\"kind\":\"Any\",\"default\":5},{\"name\":\"slider_color\",\"kind\":\"Any\",\"default\":\"black\"},{\"name\":\"value\",\"kind\":\"Any\",\"default\":50}]},{\"type\":\"model\",\"name\":\"click1\",\"properties\":[{\"name\":\"terminal_output\",\"kind\":\"Any\",\"default\":\"\"},{\"name\":\"debug_name\",\"kind\":\"Any\",\"default\":\"\"},{\"name\":\"clears\",\"kind\":\"Any\",\"default\":0}]},{\"type\":\"model\",\"name\":\"FastWrapper1\",\"properties\":[{\"name\":\"object\",\"kind\":\"Any\",\"default\":null},{\"name\":\"style\",\"kind\":\"Any\",\"default\":null}]},{\"type\":\"model\",\"name\":\"NotificationAreaBase1\",\"properties\":[{\"name\":\"js_events\",\"kind\":\"Any\",\"default\":{\"type\":\"map\"}},{\"name\":\"position\",\"kind\":\"Any\",\"default\":\"bottom-right\"},{\"name\":\"_clear\",\"kind\":\"Any\",\"default\":0}]},{\"type\":\"model\",\"name\":\"NotificationArea1\",\"properties\":[{\"name\":\"js_events\",\"kind\":\"Any\",\"default\":{\"type\":\"map\"}},{\"name\":\"notifications\",\"kind\":\"Any\",\"default\":[]},{\"name\":\"position\",\"kind\":\"Any\",\"default\":\"bottom-right\"},{\"name\":\"_clear\",\"kind\":\"Any\",\"default\":0},{\"name\":\"types\",\"kind\":\"Any\",\"default\":[{\"type\":\"map\",\"entries\":[[\"type\",\"warning\"],[\"background\",\"#ffc107\"],[\"icon\",{\"type\":\"map\",\"entries\":[[\"className\",\"fas fa-exclamation-triangle\"],[\"tagName\",\"i\"],[\"color\",\"white\"]]}]]},{\"type\":\"map\",\"entries\":[[\"type\",\"info\"],[\"background\",\"#007bff\"],[\"icon\",{\"type\":\"map\",\"entries\":[[\"className\",\"fas fa-info-circle\"],[\"tagName\",\"i\"],[\"color\",\"white\"]]}]]}]}]},{\"type\":\"model\",\"name\":\"Notification\",\"properties\":[{\"name\":\"background\",\"kind\":\"Any\",\"default\":null},{\"name\":\"duration\",\"kind\":\"Any\",\"default\":3000},{\"name\":\"icon\",\"kind\":\"Any\",\"default\":null},{\"name\":\"message\",\"kind\":\"Any\",\"default\":\"\"},{\"name\":\"notification_type\",\"kind\":\"Any\",\"default\":null},{\"name\":\"_destroyed\",\"kind\":\"Any\",\"default\":false}]},{\"type\":\"model\",\"name\":\"TemplateActions1\",\"properties\":[{\"name\":\"open_modal\",\"kind\":\"Any\",\"default\":0},{\"name\":\"close_modal\",\"kind\":\"Any\",\"default\":0}]},{\"type\":\"model\",\"name\":\"BootstrapTemplateActions1\",\"properties\":[{\"name\":\"open_modal\",\"kind\":\"Any\",\"default\":0},{\"name\":\"close_modal\",\"kind\":\"Any\",\"default\":0}]},{\"type\":\"model\",\"name\":\"TemplateEditor1\",\"properties\":[{\"name\":\"layout\",\"kind\":\"Any\",\"default\":[]}]},{\"type\":\"model\",\"name\":\"MaterialTemplateActions1\",\"properties\":[{\"name\":\"open_modal\",\"kind\":\"Any\",\"default\":0},{\"name\":\"close_modal\",\"kind\":\"Any\",\"default\":0}]},{\"type\":\"model\",\"name\":\"copy_to_clipboard1\",\"properties\":[{\"name\":\"fill\",\"kind\":\"Any\",\"default\":\"none\"},{\"name\":\"value\",\"kind\":\"Any\",\"default\":null}]}]}};\n",
       "  var render_items = [{\"docid\":\"f1272c19-845e-474b-8851-ea1da3f7a272\",\"roots\":{\"dd74365f-6c47-4f41-ae6a-8b4d319040df\":\"afac8c36-a4ab-4ffa-a658-1fcf665ef28d\"},\"root_ids\":[\"dd74365f-6c47-4f41-ae6a-8b4d319040df\"]}];\n",
       "  var docs = Object.values(docs_json)\n",
       "  if (!docs) {\n",
       "    return\n",
       "  }\n",
       "  const py_version = docs[0].version.replace('rc', '-rc.').replace('.dev', '-dev.')\n",
       "  function embed_document(root) {\n",
       "    var Bokeh = get_bokeh(root)\n",
       "    Bokeh.embed.embed_items_notebook(docs_json, render_items);\n",
       "    for (const render_item of render_items) {\n",
       "      for (const root_id of render_item.root_ids) {\n",
       "\tconst id_el = document.getElementById(root_id)\n",
       "\tif (id_el.children.length && (id_el.children[0].className === 'bk-root')) {\n",
       "\t  const root_el = id_el.children[0]\n",
       "\t  root_el.id = root_el.id + '-rendered'\n",
       "\t}\n",
       "      }\n",
       "    }\n",
       "  }\n",
       "  function get_bokeh(root) {\n",
       "    if (root.Bokeh === undefined) {\n",
       "      return null\n",
       "    } else if (root.Bokeh.version !== py_version) {\n",
       "      if (root.Bokeh.versions === undefined || !root.Bokeh.versions.has(py_version)) {\n",
       "\treturn null\n",
       "      }\n",
       "      return root.Bokeh.versions.get(py_version);\n",
       "    } else if (root.Bokeh.version === py_version) {\n",
       "      return root.Bokeh\n",
       "    }\n",
       "    return null\n",
       "  }\n",
       "  function is_loaded(root) {\n",
       "    var Bokeh = get_bokeh(root)\n",
       "    return (Bokeh != null && Bokeh.Panel !== undefined)\n",
       "  }\n",
       "  if (is_loaded(root)) {\n",
       "    embed_document(root);\n",
       "  } else {\n",
       "    var attempts = 0;\n",
       "    var timer = setInterval(function(root) {\n",
       "      if (is_loaded(root)) {\n",
       "        clearInterval(timer);\n",
       "        embed_document(root);\n",
       "      } else if (document.readyState == \"complete\") {\n",
       "        attempts++;\n",
       "        if (attempts > 200) {\n",
       "          clearInterval(timer);\n",
       "\t  var Bokeh = get_bokeh(root)\n",
       "\t  if (Bokeh == null || Bokeh.Panel == null) {\n",
       "            console.warn(\"Panel: ERROR: Unable to run Panel code because Bokeh or Panel library is missing\");\n",
       "\t  } else {\n",
       "\t    console.warn(\"Panel: WARNING: Attempting to render but not all required libraries could be resolved.\")\n",
       "\t    embed_document(root)\n",
       "\t  }\n",
       "        }\n",
       "      }\n",
       "    }, 25, root)\n",
       "  }\n",
       "})(window);</script>"
      ]
     },
     "metadata": {
      "application/vnd.holoviews_exec.v0+json": {
       "id": "dd74365f-6c47-4f41-ae6a-8b4d319040df"
      }
     },
     "output_type": "display_data"
    }
   ],
   "source": [
    "import param\n",
    "import panel as pn\n",
    "pn.extension()\n",
    "import datetime as dt\n",
    "import importlib\n",
    "from importlib import reload\n",
    "from tqdm import tqdm"
   ]
  },
  {
   "cell_type": "code",
   "execution_count": 5,
   "id": "b953ada0-a09f-4d69-8a01-5776b4539a73",
   "metadata": {},
   "outputs": [],
   "source": [
    "import graph as gr\n",
    "import params as par\n",
    "import py_lib as lib\n",
    "reload(gr)\n",
    "reload(par)\n",
    "reload(lib)\n",
    "import graph as gr\n",
    "import params as par\n",
    "import py_lib as lib"
   ]
  },
  {
   "cell_type": "code",
   "execution_count": 6,
   "id": "61b8d2c3-0e75-4c18-9302-f84c57178aed",
   "metadata": {},
   "outputs": [
    {
     "data": {
      "text/plain": [
       "{'Age': '{:.0f}',\n",
       " 'RestingBP': '{:.0f}',\n",
       " 'Cholesterol': '{:.0f}',\n",
       " 'MaxHR': '{:.0f}',\n",
       " 'FastingBS': '{:.1f}',\n",
       " 'HeartDisease': '{:.1f}',\n",
       " 'Oldpeak': '{:.2f}',\n",
       " 'Accuracy': '{:.1%}',\n",
       " 'Balanced Accuracy': '{:.1%}',\n",
       " 'F1 Score': '{:.1%}'}"
      ]
     },
     "execution_count": 6,
     "metadata": {},
     "output_type": "execute_result"
    }
   ],
   "source": [
    "format_dict = par.create_format_dict()\n",
    "format_dict"
   ]
  },
  {
   "cell_type": "markdown",
   "id": "0baaa7d0",
   "metadata": {},
   "source": [
    "# Local Parameters"
   ]
  },
  {
   "cell_type": "code",
   "execution_count": 84,
   "id": "564b77f3",
   "metadata": {},
   "outputs": [],
   "source": [
    "class NotebookParams(param.Parameterized):\n",
    "    lambda_multiple          = param.Number(1, bounds=(1,10), doc=\"lambda Lasso Multiple of 10^x\")\n",
    "    n_nodes                  = param.Integer(default=20, bounds=(1,100),doc=\"Number of nodes in hidden layer\")\n",
    "    lambda_power             = param.Integer(default=2, bounds=(1,7),doc=\"lambda Lasso exponent of 10^x\")\n",
    "    lr_multiple              = param.Number(5, bounds=(1,10), doc=\"Learning Rate Multiple of 10^x\")\n",
    "    lr_power                 = param.Integer(default=3, bounds=(1,9),doc=\"Learning Rate exponent of 10^x\")\n",
    "    epochs                   = param.Integer(default=20 ,bounds=(5,2000))\n",
    "    data_set                 = param.ObjectSelector(default=\"validation\",objects=['train', 'validation', 'train + validation', 'test'])\n",
    "    stand_features           = param.Boolean(True, doc=\"Whether we want to standardize numerical features\")\n",
    "    stand_embeddings         = param.Boolean(True, doc=\"Whether we want to standardize embeddings\")\n",
    "    use_lasso                = param.Boolean(False)\n",
    "    use_focal_loss           = param.Boolean(True)\n",
    "    iter_array               = param.Integer(default=5, bounds=(1,20),doc=\"How often to save loss and training data, in epochs\")\n",
    "    iter_printing            = param.Integer(default=5, bounds=(1,100),doc=\"How many epochs between printing\")\n",
    "    add_one_hot_encoded      = param.Boolean(False, doc=\"Whether to add one hot encoded columns from categorical variables\")\n",
    "    add_embeddings\t         = param.Boolean(True, doc=\"Whether to add embeddings from categorical variables\")\n",
    "    max_emb_dim\t\t\t\t\t\t\t = param.Integer(50, bounds=(10,100),doc=\"Maximum embedding dimension\")\n",
    "    test_size                = param.Number(0.2, bounds=(0.1,0.9), doc=\"Test size for train_test_split\")\n",
    "    random_state_test_train_split = param.Integer(42)\n",
    "# pn.Param(CustomExample.param, widgets={\n",
    "#     'select_string': {'type': pn.widgets.RadioButtonGroup, 'button_type': 'primary'},\n",
    "#     'select_number': pn.widgets.DiscretePlayer}\n",
    "# )\n",
    "base = NotebookParams()"
   ]
  },
  {
   "cell_type": "markdown",
   "id": "607e05bd-0726-41dd-bf81-4d428149a5ac",
   "metadata": {},
   "source": [
    "# Import Data"
   ]
  },
  {
   "cell_type": "code",
   "execution_count": 8,
   "id": "9418bc11-4422-477c-bdc6-9d0ce573c0e7",
   "metadata": {},
   "outputs": [],
   "source": [
    "df_heart = pd.read_csv('heart.csv')\n",
    "# df_heart_test = pd.read_csv('ml4h_data/project1/heart_failure/test_split.csv')\n",
    "# df_heart_train = pd.read_csv('ml4h_data/project1/heart_failure/train_val_split.csv')\n",
    "df_heart_test = pd.read_csv('test_split.csv')\n",
    "df_heart_train = pd.read_csv('train_val_split.csv')"
   ]
  },
  {
   "cell_type": "code",
   "execution_count": 9,
   "id": "62beaa62-7c99-4b98-bcdf-8345da39415b",
   "metadata": {},
   "outputs": [
    {
     "data": {
      "text/html": [
       "<div>\n",
       "<style scoped>\n",
       "    .dataframe tbody tr th:only-of-type {\n",
       "        vertical-align: middle;\n",
       "    }\n",
       "\n",
       "    .dataframe tbody tr th {\n",
       "        vertical-align: top;\n",
       "    }\n",
       "\n",
       "    .dataframe thead th {\n",
       "        text-align: right;\n",
       "    }\n",
       "</style>\n",
       "<table border=\"1\" class=\"dataframe\">\n",
       "  <thead>\n",
       "    <tr style=\"text-align: right;\">\n",
       "      <th></th>\n",
       "      <th>Age</th>\n",
       "      <th>Sex</th>\n",
       "      <th>ChestPainType</th>\n",
       "      <th>RestingBP</th>\n",
       "      <th>Cholesterol</th>\n",
       "      <th>FastingBS</th>\n",
       "      <th>RestingECG</th>\n",
       "      <th>MaxHR</th>\n",
       "      <th>ExerciseAngina</th>\n",
       "      <th>Oldpeak</th>\n",
       "      <th>ST_Slope</th>\n",
       "      <th>HeartDisease</th>\n",
       "    </tr>\n",
       "  </thead>\n",
       "  <tbody>\n",
       "    <tr>\n",
       "      <th>0</th>\n",
       "      <td>40</td>\n",
       "      <td>M</td>\n",
       "      <td>ATA</td>\n",
       "      <td>140</td>\n",
       "      <td>289</td>\n",
       "      <td>0</td>\n",
       "      <td>Normal</td>\n",
       "      <td>172</td>\n",
       "      <td>N</td>\n",
       "      <td>0.0</td>\n",
       "      <td>Up</td>\n",
       "      <td>0</td>\n",
       "    </tr>\n",
       "    <tr>\n",
       "      <th>1</th>\n",
       "      <td>49</td>\n",
       "      <td>F</td>\n",
       "      <td>NAP</td>\n",
       "      <td>160</td>\n",
       "      <td>180</td>\n",
       "      <td>0</td>\n",
       "      <td>Normal</td>\n",
       "      <td>156</td>\n",
       "      <td>N</td>\n",
       "      <td>1.0</td>\n",
       "      <td>Flat</td>\n",
       "      <td>1</td>\n",
       "    </tr>\n",
       "  </tbody>\n",
       "</table>\n",
       "</div>"
      ],
      "text/plain": [
       "   Age Sex ChestPainType  RestingBP  Cholesterol  FastingBS RestingECG  MaxHR  \\\n",
       "0   40   M           ATA        140          289          0     Normal    172   \n",
       "1   49   F           NAP        160          180          0     Normal    156   \n",
       "\n",
       "  ExerciseAngina  Oldpeak ST_Slope  HeartDisease  \n",
       "0              N      0.0       Up             0  \n",
       "1              N      1.0     Flat             1  "
      ]
     },
     "execution_count": 9,
     "metadata": {},
     "output_type": "execute_result"
    }
   ],
   "source": [
    "df_heart.head(2)"
   ]
  },
  {
   "cell_type": "code",
   "execution_count": 10,
   "id": "fb39c642-8f2c-41ab-bf64-6ee6784826ef",
   "metadata": {},
   "outputs": [
    {
     "data": {
      "text/html": [
       "<style type=\"text/css\">\n",
       "</style>\n",
       "<table id=\"T_41299\">\n",
       "  <thead>\n",
       "    <tr>\n",
       "      <th class=\"blank level0\" >&nbsp;</th>\n",
       "      <th id=\"T_41299_level0_col0\" class=\"col_heading level0 col0\" >Age</th>\n",
       "      <th id=\"T_41299_level0_col1\" class=\"col_heading level0 col1\" >RestingBP</th>\n",
       "      <th id=\"T_41299_level0_col2\" class=\"col_heading level0 col2\" >Cholesterol</th>\n",
       "      <th id=\"T_41299_level0_col3\" class=\"col_heading level0 col3\" >FastingBS</th>\n",
       "      <th id=\"T_41299_level0_col4\" class=\"col_heading level0 col4\" >MaxHR</th>\n",
       "      <th id=\"T_41299_level0_col5\" class=\"col_heading level0 col5\" >Oldpeak</th>\n",
       "      <th id=\"T_41299_level0_col6\" class=\"col_heading level0 col6\" >HeartDisease</th>\n",
       "    </tr>\n",
       "  </thead>\n",
       "  <tbody>\n",
       "    <tr>\n",
       "      <th id=\"T_41299_level0_row0\" class=\"row_heading level0 row0\" >count</th>\n",
       "      <td id=\"T_41299_row0_col0\" class=\"data row0 col0\" >918</td>\n",
       "      <td id=\"T_41299_row0_col1\" class=\"data row0 col1\" >918</td>\n",
       "      <td id=\"T_41299_row0_col2\" class=\"data row0 col2\" >918</td>\n",
       "      <td id=\"T_41299_row0_col3\" class=\"data row0 col3\" >918.0</td>\n",
       "      <td id=\"T_41299_row0_col4\" class=\"data row0 col4\" >918</td>\n",
       "      <td id=\"T_41299_row0_col5\" class=\"data row0 col5\" >918.00</td>\n",
       "      <td id=\"T_41299_row0_col6\" class=\"data row0 col6\" >918.0</td>\n",
       "    </tr>\n",
       "    <tr>\n",
       "      <th id=\"T_41299_level0_row1\" class=\"row_heading level0 row1\" >mean</th>\n",
       "      <td id=\"T_41299_row1_col0\" class=\"data row1 col0\" >54</td>\n",
       "      <td id=\"T_41299_row1_col1\" class=\"data row1 col1\" >132</td>\n",
       "      <td id=\"T_41299_row1_col2\" class=\"data row1 col2\" >199</td>\n",
       "      <td id=\"T_41299_row1_col3\" class=\"data row1 col3\" >0.2</td>\n",
       "      <td id=\"T_41299_row1_col4\" class=\"data row1 col4\" >137</td>\n",
       "      <td id=\"T_41299_row1_col5\" class=\"data row1 col5\" >0.89</td>\n",
       "      <td id=\"T_41299_row1_col6\" class=\"data row1 col6\" >0.6</td>\n",
       "    </tr>\n",
       "    <tr>\n",
       "      <th id=\"T_41299_level0_row2\" class=\"row_heading level0 row2\" >std</th>\n",
       "      <td id=\"T_41299_row2_col0\" class=\"data row2 col0\" >9</td>\n",
       "      <td id=\"T_41299_row2_col1\" class=\"data row2 col1\" >19</td>\n",
       "      <td id=\"T_41299_row2_col2\" class=\"data row2 col2\" >109</td>\n",
       "      <td id=\"T_41299_row2_col3\" class=\"data row2 col3\" >0.4</td>\n",
       "      <td id=\"T_41299_row2_col4\" class=\"data row2 col4\" >25</td>\n",
       "      <td id=\"T_41299_row2_col5\" class=\"data row2 col5\" >1.07</td>\n",
       "      <td id=\"T_41299_row2_col6\" class=\"data row2 col6\" >0.5</td>\n",
       "    </tr>\n",
       "    <tr>\n",
       "      <th id=\"T_41299_level0_row3\" class=\"row_heading level0 row3\" >min</th>\n",
       "      <td id=\"T_41299_row3_col0\" class=\"data row3 col0\" >28</td>\n",
       "      <td id=\"T_41299_row3_col1\" class=\"data row3 col1\" >0</td>\n",
       "      <td id=\"T_41299_row3_col2\" class=\"data row3 col2\" >0</td>\n",
       "      <td id=\"T_41299_row3_col3\" class=\"data row3 col3\" >0.0</td>\n",
       "      <td id=\"T_41299_row3_col4\" class=\"data row3 col4\" >60</td>\n",
       "      <td id=\"T_41299_row3_col5\" class=\"data row3 col5\" >-2.60</td>\n",
       "      <td id=\"T_41299_row3_col6\" class=\"data row3 col6\" >0.0</td>\n",
       "    </tr>\n",
       "    <tr>\n",
       "      <th id=\"T_41299_level0_row4\" class=\"row_heading level0 row4\" >25%</th>\n",
       "      <td id=\"T_41299_row4_col0\" class=\"data row4 col0\" >47</td>\n",
       "      <td id=\"T_41299_row4_col1\" class=\"data row4 col1\" >120</td>\n",
       "      <td id=\"T_41299_row4_col2\" class=\"data row4 col2\" >173</td>\n",
       "      <td id=\"T_41299_row4_col3\" class=\"data row4 col3\" >0.0</td>\n",
       "      <td id=\"T_41299_row4_col4\" class=\"data row4 col4\" >120</td>\n",
       "      <td id=\"T_41299_row4_col5\" class=\"data row4 col5\" >0.00</td>\n",
       "      <td id=\"T_41299_row4_col6\" class=\"data row4 col6\" >0.0</td>\n",
       "    </tr>\n",
       "    <tr>\n",
       "      <th id=\"T_41299_level0_row5\" class=\"row_heading level0 row5\" >50%</th>\n",
       "      <td id=\"T_41299_row5_col0\" class=\"data row5 col0\" >54</td>\n",
       "      <td id=\"T_41299_row5_col1\" class=\"data row5 col1\" >130</td>\n",
       "      <td id=\"T_41299_row5_col2\" class=\"data row5 col2\" >223</td>\n",
       "      <td id=\"T_41299_row5_col3\" class=\"data row5 col3\" >0.0</td>\n",
       "      <td id=\"T_41299_row5_col4\" class=\"data row5 col4\" >138</td>\n",
       "      <td id=\"T_41299_row5_col5\" class=\"data row5 col5\" >0.60</td>\n",
       "      <td id=\"T_41299_row5_col6\" class=\"data row5 col6\" >1.0</td>\n",
       "    </tr>\n",
       "    <tr>\n",
       "      <th id=\"T_41299_level0_row6\" class=\"row_heading level0 row6\" >75%</th>\n",
       "      <td id=\"T_41299_row6_col0\" class=\"data row6 col0\" >60</td>\n",
       "      <td id=\"T_41299_row6_col1\" class=\"data row6 col1\" >140</td>\n",
       "      <td id=\"T_41299_row6_col2\" class=\"data row6 col2\" >267</td>\n",
       "      <td id=\"T_41299_row6_col3\" class=\"data row6 col3\" >0.0</td>\n",
       "      <td id=\"T_41299_row6_col4\" class=\"data row6 col4\" >156</td>\n",
       "      <td id=\"T_41299_row6_col5\" class=\"data row6 col5\" >1.50</td>\n",
       "      <td id=\"T_41299_row6_col6\" class=\"data row6 col6\" >1.0</td>\n",
       "    </tr>\n",
       "    <tr>\n",
       "      <th id=\"T_41299_level0_row7\" class=\"row_heading level0 row7\" >max</th>\n",
       "      <td id=\"T_41299_row7_col0\" class=\"data row7 col0\" >77</td>\n",
       "      <td id=\"T_41299_row7_col1\" class=\"data row7 col1\" >200</td>\n",
       "      <td id=\"T_41299_row7_col2\" class=\"data row7 col2\" >603</td>\n",
       "      <td id=\"T_41299_row7_col3\" class=\"data row7 col3\" >1.0</td>\n",
       "      <td id=\"T_41299_row7_col4\" class=\"data row7 col4\" >202</td>\n",
       "      <td id=\"T_41299_row7_col5\" class=\"data row7 col5\" >6.20</td>\n",
       "      <td id=\"T_41299_row7_col6\" class=\"data row7 col6\" >1.0</td>\n",
       "    </tr>\n",
       "  </tbody>\n",
       "</table>\n"
      ],
      "text/plain": [
       "<pandas.io.formats.style.Styler at 0x7efec8eafbb0>"
      ]
     },
     "execution_count": 10,
     "metadata": {},
     "output_type": "execute_result"
    }
   ],
   "source": [
    "df_heart.describe().style.format(format_dict)"
   ]
  },
  {
   "cell_type": "markdown",
   "id": "aa842745-16a6-4d21-82b7-264604c07213",
   "metadata": {},
   "source": [
    "# Features Preprocessing"
   ]
  },
  {
   "cell_type": "code",
   "execution_count": 237,
   "id": "ccd58495",
   "metadata": {},
   "outputs": [],
   "source": [
    "num_features = ['Age', 'RestingBP', 'Cholesterol', 'MaxHR', 'Oldpeak']\n",
    "# num_features = ['Cholesterol']\n",
    "label_col = 'HeartDisease'\n",
    "categorical_features = ['Sex', 'ChestPainType', 'RestingECG', 'ExerciseAngina', 'ST_Slope', 'FastingBS']\n",
    "# categorical_features = ['Sex']\n",
    "for col in df_heart.columns:\n",
    "    if col not in num_features + [label_col] + categorical_features:\n",
    "        print(f'Column {col} is not in the list of features')"
   ]
  },
  {
   "cell_type": "code",
   "execution_count": 238,
   "id": "2955c902",
   "metadata": {},
   "outputs": [
    {
     "data": {
      "application/vnd.jupyter.widget-view+json": {
       "model_id": "6e726b0b633d4ba7a7f5f96fcd1ce62c",
       "version_major": 2,
       "version_minor": 0
      },
      "text/plain": [
       "BokehModel(combine_events=True, render_bundle={'docs_json': {'be91b77e-298b-41fb-ad06-2bed4d7c7f6b': {'version…"
      ]
     },
     "execution_count": 238,
     "metadata": {},
     "output_type": "execute_result"
    }
   ],
   "source": [
    "pn.Column(\n",
    "    pn.Row(base.param.add_embeddings, base.param.stand_features, base.param.stand_embeddings),\n",
    "    pn.Row(base.param.max_emb_dim, base.param.test_size)\n",
    "        )"
   ]
  },
  {
   "cell_type": "code",
   "execution_count": 247,
   "id": "394849dc",
   "metadata": {},
   "outputs": [],
   "source": [
    "import py_lib as lib\n",
    "reload(lib)\n",
    "import py_lib as lib"
   ]
  },
  {
   "cell_type": "code",
   "execution_count": 248,
   "id": "d6601a3c",
   "metadata": {},
   "outputs": [
    {
     "name": "stdout",
     "output_type": "stream",
     "text": [
      "adding embeddings\n"
     ]
    }
   ],
   "source": [
    "train_test_data, final_categorical_features, embeddings_output = lib.pre_process_features(\n",
    "        df_heart_train,\n",
    "        num_features=num_features,\n",
    "        categorical_features=categorical_features,\n",
    "        category_to_drop=None,\n",
    "        label_col=label_col,\n",
    "        add_embeddings=base.add_embeddings,\n",
    "        add_one_hot_encoded=base.add_one_hot_encoded,\n",
    "        stand_features=base.stand_features,\n",
    "        stand_embeddings=base.stand_embeddings,\n",
    "        test_size=base.test_size,\n",
    "        random_state=base.random_state_test_train_split,\n",
    ")\n",
    "X_train, X_test = train_test_data.tensors['X_train'], train_test_data.tensors['X_test']\n",
    "y_train, y_test = train_test_data.tensors['y_train'], train_test_data.tensors['y_test']\n",
    "X_train_df = train_test_data.dataframes['X_train']"
   ]
  },
  {
   "cell_type": "markdown",
   "id": "6b1a7759",
   "metadata": {},
   "source": [
    "## Working with the class imbalance"
   ]
  },
  {
   "cell_type": "code",
   "execution_count": 18,
   "id": "5b73ecfd",
   "metadata": {},
   "outputs": [],
   "source": [
    "# From ... https://saturncloud.io/blog/how-to-use-class-weights-with-focal-loss-in-pytorch-for-imbalanced-multiclass-classification/#focal-loss\n",
    "class_counts = np.bincount(y_train)\n",
    "num_classes = len(class_counts)\n",
    "total_samples = len(y_train)\n",
    "\n",
    "class_weights = []\n",
    "for count in class_counts:\n",
    "    weight = 1 / (count / total_samples)\n",
    "    class_weights.append(weight)\n",
    "\n",
    "class_weights_tensor = torch.FloatTensor(class_weights)"
   ]
  },
  {
   "cell_type": "code",
   "execution_count": 19,
   "id": "7a32d322",
   "metadata": {},
   "outputs": [
    {
     "data": {
      "text/plain": [
       "[2.2150943396226412, 1.8229813664596275]"
      ]
     },
     "execution_count": 19,
     "metadata": {},
     "output_type": "execute_result"
    }
   ],
   "source": [
    "class_weights"
   ]
  },
  {
   "cell_type": "markdown",
   "id": "3a41274c-45b0-4597-a576-df721716a3b0",
   "metadata": {},
   "source": [
    "# Model Building"
   ]
  },
  {
   "cell_type": "code",
   "execution_count": 255,
   "id": "7e596645",
   "metadata": {},
   "outputs": [],
   "source": [
    "class FocalLoss(torch.nn.Module):\n",
    "    def __init__(self, alpha=None, gamma=2):\n",
    "        super(FocalLoss, self).__init__()\n",
    "        self.alpha = alpha\n",
    "        self.gamma = gamma\n",
    "\n",
    "    def forward(self, inputs, targets):\n",
    "        be_loss = F.binary_cross_entropy(inputs, targets, reduction='none')\n",
    "        pt = torch.exp(-be_loss)\n",
    "        loss = (self.alpha[targets.long()] * (1 - pt) ** self.gamma * be_loss).mean()\n",
    "        return loss"
   ]
  },
  {
   "cell_type": "code",
   "execution_count": 256,
   "id": "66cf6ae2",
   "metadata": {},
   "outputs": [],
   "source": [
    "# From https://machinelearningmastery.com/building-a-binary-classification-model-in-pytorch/\n",
    "# From https://yashuseth.blog/2018/07/22/pytorch-neural-network-for-tabular-data-with-categorical-embeddings/\n",
    "\n",
    "class MLP(torch.nn.Module):\n",
    "\t'''\n",
    "\t\tMultilayer Perceptron.\n",
    "\t'''\n",
    "\n",
    "\tdef __init__(self, emb_dims, n_cont_features, lin_layer_sizes,\n",
    "\t\t\t  output_size, emb_dropout, lin_layer_dropouts):\n",
    "\t\t'''\n",
    "\t\tParameters\n",
    "\t\t----------\n",
    "\n",
    "\t\temb_dims: List of two element tuples\n",
    "\t\t\tThis list will contain a two element tuple for each\n",
    "\t\t\tcategorical feature. The first element of a tuple will\n",
    "\t\t\tdenote the number of unique values of the categorical\n",
    "\t\t\tfeature. The second element will denote the embedding\n",
    "\t\t\tdimension to be used for that feature.\n",
    "\n",
    "\t\tn_cont_features: Integer\n",
    "\t\t\tThe number of continuous features in the data.\n",
    "\n",
    "\t\tlin_layer_sizes: List of integers.\n",
    "\t\t\tThe size of each linear layer. The length will be equal\n",
    "\t\t\tto the total number\n",
    "\t\t\tof linear layers in the network.\n",
    "\n",
    "\t\toutput_size: Integer\n",
    "\t\t\tThe size of the final output.\n",
    "\n",
    "\t\temb_dropout: Float\n",
    "\t\t\tThe dropout to be used after the embedding layers.\n",
    "\n",
    "\t\tlin_layer_dropouts: List of floats\n",
    "\t\t\tThe dropouts to be used after each linear layer.\n",
    "\t\t'''\n",
    "\t\tsuper().__init__()\n",
    "    # Embedding layers\n",
    "\t\tself.emb_layers = torch.nn.ModuleList([torch.nn.Embedding(x, y) for x, y in emb_dims])\n",
    "\n",
    "\t\tn_embs = sum([y for x, y in emb_dims])\n",
    "\t\tself.n_embs = n_embs\n",
    "\t\tself.n_cont_features = n_cont_features\n",
    "\n",
    "\t\t# Linear Layers\n",
    "\t\tfirst_lin_layer = torch.nn.Linear(self.n_embs + self.n_cont_features, \n",
    "\t\t\t\t\t\t\t  lin_layer_sizes[0])\n",
    "\n",
    "\t\tself.lin_layers =\\\n",
    "\t\t\ttorch.nn.ModuleList([first_lin_layer] +\\\n",
    "\t\t\t\t\t[torch.nn.Linear(lin_layer_sizes[i], lin_layer_sizes[i + 1])\n",
    "\t\t\t\t\t\tfor i in range(len(lin_layer_sizes) - 1)])\n",
    "    \n",
    "\t\tfor lin_layer in self.lin_layers:\n",
    "\t\t\ttorch.nn.init.kaiming_normal_(lin_layer.weight.data) # TODO(jpinole): check if necessary\n",
    "\n",
    "\t\t# Output Layer\n",
    "\t\tself.output_layer = torch.nn.Linear(lin_layer_sizes[-1], output_size)\n",
    "\t\ttorch.nn.init.kaiming_normal_(self.output_layer.weight.data)\n",
    "\n",
    "\t\t# # Batch Norm Layers\n",
    "\t\t# self.first_bn_layer = torch.nn.BatchNorm1d(self.n_cont_features)\n",
    "\t\t# self.bn_layers = torch.nn.ModuleList([torch.nn.BatchNorm1d(size)\n",
    "\t\t# \t\t\t\t\t\t\t\t\t\t\t\t\t\t\t\tfor size in lin_layer_sizes])\n",
    "\n",
    "\t\t# Dropout Layers\n",
    "\t\tself.emb_dropout_layer = torch.nn.Dropout(emb_dropout)\n",
    "\t\tself.droput_layers = torch.nn.ModuleList([torch.nn.Dropout(size)\n",
    "\t\t\t\t\t\t\t\t\t\t\t\t\t\t\t\t\tfor size in lin_layer_dropouts])\n",
    "\t\t\n",
    "\t\t# Sigmoid Activation\n",
    "\t\tself.sigmoid = torch.nn.Sigmoid()\n",
    "\n",
    "\n",
    "\tdef forward(self, cont_data, cat_data):\n",
    "\n",
    "\t\tif self.n_embs != 0:\n",
    "\t\t\tx = [emb_layer(cat_data[:, i])\n",
    "\t\t\t\t\t\tfor i,emb_layer in enumerate(self.emb_layers)]\n",
    "\t\t\tx = torch.cat(x, 1)\n",
    "\t\t\tx = self.emb_dropout_layer(x)\n",
    "\n",
    "\t\tif self.n_cont_features != 0:\n",
    "\t\t\t# normalized_cont_data = self.first_bn_layer(cont_data)\n",
    "\n",
    "\t\t\tif self.n_embs != 0:\n",
    "\t\t\t\t# x = torch.cat([x, normalized_cont_data], 1) \n",
    "\t\t\t\tx = torch.cat([x, cont_data], 1) \n",
    "\t\t\telse:\n",
    "\t\t\t\t# x = normalized_cont_data\n",
    "\t\t\t\tx = cont_data\n",
    "\n",
    "\t\t# for lin_layer, dropout_layer, bn_layer in\\\n",
    "\t\t# \t\tzip(self.lin_layers, self.droput_layers, self.bn_layers):\n",
    "\t\tfor lin_layer, dropout_layer in\\\n",
    "\t\t\t\tzip(self.lin_layers, self.droput_layers):\n",
    "\t\t\tx = F.relu(lin_layer(x))\n",
    "\t\t\t# x = bn_layer(x)\n",
    "\t\t\tx = dropout_layer(x)\n",
    "\n",
    "\t\tx = self.sigmoid(self.output_layer(x))\n",
    "\n",
    "\t\treturn x"
   ]
  },
  {
   "cell_type": "markdown",
   "id": "049e021e-d147-4b73-ad18-85bdbec4b5da",
   "metadata": {},
   "source": [
    "# Training"
   ]
  },
  {
   "cell_type": "code",
   "execution_count": 257,
   "id": "270011f6",
   "metadata": {},
   "outputs": [
    {
     "data": {
      "application/vnd.jupyter.widget-view+json": {
       "model_id": "acd0df9b04404e0d8dbeb4dbd4f9ef5f",
       "version_major": 2,
       "version_minor": 0
      },
      "text/plain": [
       "BokehModel(combine_events=True, render_bundle={'docs_json': {'38d244e7-8823-4c1f-8a89-d773804e8180': {'version…"
      ]
     },
     "execution_count": 257,
     "metadata": {},
     "output_type": "execute_result"
    }
   ],
   "source": [
    "pn.Column(\n",
    "    pn.Row(base.param.use_lasso, base.param.use_focal_loss),\n",
    "    pn.Row(base.param.lr_power, base.param.lr_multiple),\n",
    "    pn.Row(base.param.lambda_power, base.param.lambda_multiple)\n",
    "    )"
   ]
  },
  {
   "cell_type": "code",
   "execution_count": 258,
   "id": "c9d45cf0",
   "metadata": {},
   "outputs": [
    {
     "name": "stdout",
     "output_type": "stream",
     "text": [
      "learning rate is 5 multiplied by 10 power -3, which yields 0.00500000\n",
      "lambda_lasso is 1 multiplied by 10 power -2, which yields 0.010000\n"
     ]
    }
   ],
   "source": [
    "lr = base.lr_multiple * 10**(-base.lr_power)\n",
    "print('learning rate is {} multiplied by 10 power {}, which yields {:.8f}'.format(base.lr_multiple, -base.lr_power, lr))\n",
    "lambda_lasso = base.lambda_multiple * 10**(-base.lambda_power)\n",
    "print('lambda_lasso is {} multiplied by 10 power {}, which yields {:.6f}'.format(base.lambda_multiple, -base.lambda_power, lambda_lasso))"
   ]
  },
  {
   "cell_type": "code",
   "execution_count": 260,
   "id": "b4396a13",
   "metadata": {},
   "outputs": [
    {
     "data": {
      "application/vnd.jupyter.widget-view+json": {
       "model_id": "b5aeda030bf24fa8a6d47ac604db7b30",
       "version_major": 2,
       "version_minor": 0
      },
      "text/plain": [
       "BokehModel(combine_events=True, render_bundle={'docs_json': {'bb74b5ba-ec76-4c03-a69b-1b49621ac9b1': {'version…"
      ]
     },
     "execution_count": 260,
     "metadata": {},
     "output_type": "execute_result"
    }
   ],
   "source": [
    "pn.Column(\n",
    "    pn.Row(base.param.epochs, base.param.iter_array, base.param.iter_printing),\n",
    "    )"
   ]
  },
  {
   "cell_type": "code",
   "execution_count": 261,
   "id": "70ec8dd7",
   "metadata": {},
   "outputs": [
    {
     "name": "stdout",
     "output_type": "stream",
     "text": [
      "iter_printing_effective is 237\n"
     ]
    }
   ],
   "source": [
    "input_dim = len(num_features + final_categorical_features)\n",
    "output_dim = 1 # Single binary output\n",
    "device = torch.device('cuda' if torch.cuda.is_available() else 'cpu')\n",
    "model = MLP(emb_dims=embeddings_output['emb_dims'], n_cont_features=len(num_features), lin_layer_sizes=[50,100],\n",
    "\t\t\t  output_size=1, emb_dropout=0.04, lin_layer_dropouts=[0.001, 0.01]).to(device)\n",
    "if base.use_focal_loss:\n",
    "    criterion = FocalLoss(alpha=class_weights_tensor.long(), gamma=2)\n",
    "else:\n",
    "    criterion = torch.nn.BCELoss()\n",
    "optimizer = torch.optim.SGD(model.parameters(), lr=lr)\n",
    "iter_printing_effective = int(base.epochs/base.iter_printing)\n",
    "print('iter_printing_effective is {}'.format(iter_printing_effective))\n",
    "# torch.manual_seed(0) # keep things reproducible"
   ]
  },
  {
   "cell_type": "code",
   "execution_count": 262,
   "id": "0c745700-33c9-4024-8b0e-2d59ce037122",
   "metadata": {},
   "outputs": [
    {
     "name": "stderr",
     "output_type": "stream",
     "text": [
      "Training Epochs: 100%|██████████| 1185/1185 [00:09<00:00, 118.92it/s]"
     ]
    },
    {
     "name": "stdout",
     "output_type": "stream",
     "text": [
      "Iteration: 1185. \n",
      "Test - Loss: 0.1400936096906662. Accuracy: 82.31292517006803\n",
      "Train -  Loss: 0.13494491577148438. Accuracy: 82.62350936967633\n",
      "\n"
     ]
    },
    {
     "name": "stderr",
     "output_type": "stream",
     "text": [
      "\n"
     ]
    }
   ],
   "source": [
    "losses = []\n",
    "losses_test = []\n",
    "Iterations = []\n",
    "iter = 0\n",
    "for epoch in tqdm(range(int(base.epochs)),desc='Training Epochs'):\n",
    "    x = X_train\n",
    "    labels = y_train\n",
    "    optimizer.zero_grad() # Setting our stored gradients equal to zero\n",
    "    outputs = model(X_train['num'], X_train['cat'])  # Perform forward pass\n",
    "    loss = criterion(torch.squeeze(outputs), labels) # Compute loss\n",
    "    loss.backward() # Computes the gradient of the given tensor w.r.t. the weights/bias\n",
    "\n",
    "    # Compute L1 loss component\n",
    "    # if base.use_lasso:\n",
    "    #     loss = add_l1_loss(model, loss, lambda_lasso=lambda_lasso)\n",
    "\n",
    "    optimizer.step() # Updates weights and biases with the optimizer (SGD)\n",
    "    \n",
    "    iter+=1\n",
    "    if iter%base.iter_array==0:\n",
    "        with torch.no_grad():\n",
    "            # Calculating the loss and accuracy for the test dataset\n",
    "            correct_test = 0\n",
    "            total_test = 0\n",
    "            outputs_test = torch.squeeze(model(X_test['num'], X_test['cat']))\n",
    "            loss_test = criterion(outputs_test, y_test)\n",
    "            # loss_test = add_l1_loss(model, loss_test, lambda_lasso=lambda_lasso)\n",
    "            \n",
    "            predicted_test = outputs_test.round().detach().numpy()\n",
    "            total_test += y_test.size(0)\n",
    "            correct_test += np.sum(predicted_test == y_test.detach().numpy())\n",
    "            accuracy_test = 100 * correct_test/total_test\n",
    "            losses_test.append(loss_test.item())\n",
    "            \n",
    "            \n",
    "            # Calculating the loss and accuracy for the train dataset\n",
    "            total = 0\n",
    "            correct = 0\n",
    "            total += y_train.size(0)\n",
    "            correct += np.sum(torch.squeeze(outputs).round().detach().numpy() == y_train.detach().numpy())\n",
    "            accuracy = 100 * correct/total\n",
    "            losses.append(loss.item())\n",
    "            Iterations.append(iter)\n",
    "\n",
    "            if iter%iter_printing_effective==0:\n",
    "                print(f\"Iteration: {iter}. \\nTest - Loss: {loss_test.item()}. Accuracy: {accuracy_test}\")\n",
    "                print(f\"Train -  Loss: {loss.item()}. Accuracy: {accuracy}\\n\")"
   ]
  },
  {
   "cell_type": "code",
   "execution_count": 263,
   "id": "7d029d9f-0d53-418c-b435-d271985fbc2e",
   "metadata": {},
   "outputs": [
    {
     "data": {
      "text/plain": [
       "Text(0, 0.5, 'Focal Loss')"
      ]
     },
     "execution_count": 263,
     "metadata": {},
     "output_type": "execute_result"
    },
    {
     "data": {
      "image/png": "[encoded data removed]",
      "text/plain": [
       "<Figure size 700x400 with 1 Axes>"
      ]
     },
     "metadata": {},
     "output_type": "display_data"
    }
   ],
   "source": [
    "fig, ax = plt.subplots(nrows=1, ncols=1, figsize = (7,4))\n",
    "ax.plot(Iterations,losses, label='train')\n",
    "ax.plot(Iterations,losses_test, label='test')\n",
    "ax.legend()\n",
    "ax.set_xlabel('Epoch')\n",
    "loss_type = 'Focal Loss' if base.use_focal_loss else 'BCE Loss'\n",
    "ax.set_ylabel(loss_type)\n",
    "# fig.show()"
   ]
  },
  {
   "cell_type": "markdown",
   "id": "af392b83",
   "metadata": {},
   "source": [
    "# Evaluation"
   ]
  },
  {
   "cell_type": "markdown",
   "id": "15d89cd5",
   "metadata": {},
   "source": [
    "## Predictions performances"
   ]
  },
  {
   "cell_type": "code",
   "execution_count": null,
   "id": "ef0fc4d7",
   "metadata": {},
   "outputs": [],
   "source": []
  },
  {
   "cell_type": "code",
   "execution_count": 264,
   "id": "14596b6f",
   "metadata": {},
   "outputs": [
    {
     "data": {
      "application/vnd.jupyter.widget-view+json": {
       "model_id": "90fa32b915bc4eb49af8b8710f7a9be9",
       "version_major": 2,
       "version_minor": 0
      },
      "text/plain": [
       "BokehModel(combine_events=True, render_bundle={'docs_json': {'3ed874db-f7e8-4e6f-afdf-f36522470ae5': {'version…"
      ]
     },
     "execution_count": 264,
     "metadata": {},
     "output_type": "execute_result"
    }
   ],
   "source": [
    "pn.Row(base.param.data_set)"
   ]
  },
  {
   "cell_type": "code",
   "execution_count": 265,
   "id": "06dedb3d",
   "metadata": {},
   "outputs": [
    {
     "name": "stdout",
     "output_type": "stream",
     "text": [
      "We are displaying evaluation over the TEST dataset\n"
     ]
    }
   ],
   "source": [
    "dataset_choice = {\n",
    "    'train': {\n",
    "        'data': {\n",
    "            'x': train_test_data.tensors['X_train']['all'],\n",
    "            'y': train_test_data.tensors['y_train'],\n",
    "        },\n",
    "        'already_processed': True,\n",
    "    },\n",
    "    'validation': {\n",
    "        'data': {\n",
    "            'x': train_test_data.tensors['X_test']['all'],\n",
    "            'y': train_test_data.tensors['y_test'],\n",
    "        },\n",
    "        'already_processed': True,\n",
    "    },\n",
    "    'train + validation': {\n",
    "        'data': df_heart_train,\n",
    "        'already_processed': False,\n",
    "    },\n",
    "    'test': {\n",
    "        'data': df_heart_test,\n",
    "        'already_processed': False,\n",
    "    },\n",
    "    'all': {\n",
    "        'data': df_heart,\n",
    "        'already_processed': False,\n",
    "    },\n",
    "}\n",
    "print('We are displaying evaluation over the {} dataset'.format(base.data_set.upper()))\n",
    "data_specs = dataset_choice[base.data_set]"
   ]
  },
  {
   "cell_type": "code",
   "execution_count": null,
   "id": "581ff519",
   "metadata": {},
   "outputs": [],
   "source": [
    "train_test_data, final_categorical_features, embeddings_output = lib.pre_process_features(\n",
    "        df_heart_train,\n",
    "        num_features=num_features,\n",
    "        categorical_features=categorical_features,\n",
    "        category_to_drop=None,\n",
    "        label_col=label_col,\n",
    "        add_embeddings=base.add_embeddings,\n",
    "        add_one_hot_encoded=base.add_one_hot_encoded,\n",
    "        stand_features=base.stand_features,\n",
    "        stand_embeddings=base.stand_embeddings,\n",
    "        test_size=base.test_size,\n",
    "        random_state=base.random_state_test_train_split,\n",
    ")\n",
    "X_train, X_test = train_test_data.tensors['X_train'], train_test_data.tensors['X_test']\n",
    "y_train, y_test = train_test_data.tensors['y_train'], train_test_data.tensors['y_test']\n",
    "X_train_df = train_test_data.dataframes['X_train']"
   ]
  },
  {
   "cell_type": "code",
   "execution_count": 267,
   "id": "417c053b",
   "metadata": {},
   "outputs": [
    {
     "name": "stdout",
     "output_type": "stream",
     "text": [
      "Processing data\n",
      "adding embeddings\n"
     ]
    }
   ],
   "source": [
    "if data_specs['already_processed']:\n",
    "    print('Data were already processed for training.')\n",
    "    x_features = data_specs['data']['x'] # A dictionary\n",
    "    y_true = data_specs['data']['y']\n",
    "else:\n",
    "        print('Processing data')\n",
    "        processed_data, _, _ = lib.pre_process_features(\n",
    "                data_specs['data'],\n",
    "                num_features=num_features,\n",
    "                categorical_features=categorical_features,\n",
    "                category_to_drop=None,\n",
    "                label_col=label_col,\n",
    "                add_one_hot_encoded=base.add_one_hot_encoded,\n",
    "                add_embeddings=base.add_embeddings,\n",
    "                stand_features=base.stand_features,\n",
    "        \t\t\t\tstand_embeddings=base.stand_embeddings,\n",
    "                test_size=base.test_size,\n",
    "                random_state=base.random_state_test_train_split,\n",
    "                split_data=False,\n",
    "        )\n",
    "        x_features = processed_data.tensors['X_train'] # Now importing a dictionary\n",
    "        y_true = processed_data.tensors['y_train']"
   ]
  },
  {
   "cell_type": "code",
   "execution_count": 268,
   "id": "aaef760d",
   "metadata": {},
   "outputs": [],
   "source": [
    "y_pred_tensor = torch.squeeze(model(x_features['num'], x_features['cat']))\n",
    "y_pred_round_tensor = y_pred_tensor.round()\n",
    "y_pred = y_pred_tensor.detach().numpy()\n",
    "y_pred_round = y_pred_round_tensor.detach().numpy()"
   ]
  },
  {
   "cell_type": "code",
   "execution_count": 269,
   "id": "be7445f7",
   "metadata": {},
   "outputs": [],
   "source": [
    "from torchmetrics.classification import BinaryF1Score\n",
    "from sklearn.metrics import accuracy_score, balanced_accuracy_score\n",
    "acc = accuracy_score(y_true, y_pred_round, normalize = True)  \n",
    "bal_acc=balanced_accuracy_score(y_true,y_pred_round)\n",
    "f1_score = BinaryF1Score()\n",
    "f1 = f1_score(y_pred_round_tensor, y_true).numpy()\n",
    "summary_metrics = pd.DataFrame(data=[acc, bal_acc, f1], index=['Accuracy', 'Balanced Accuracy', 'F1 Score'], columns=['metrics']).T"
   ]
  },
  {
   "cell_type": "code",
   "execution_count": 270,
   "id": "330465c6",
   "metadata": {},
   "outputs": [
    {
     "data": {
      "text/html": [
       "<style type=\"text/css\">\n",
       "</style>\n",
       "<table id=\"T_5c218\">\n",
       "  <thead>\n",
       "    <tr>\n",
       "      <th class=\"blank level0\" >&nbsp;</th>\n",
       "      <th id=\"T_5c218_level0_col0\" class=\"col_heading level0 col0\" >Accuracy</th>\n",
       "      <th id=\"T_5c218_level0_col1\" class=\"col_heading level0 col1\" >Balanced Accuracy</th>\n",
       "      <th id=\"T_5c218_level0_col2\" class=\"col_heading level0 col2\" >F1 Score</th>\n",
       "    </tr>\n",
       "  </thead>\n",
       "  <tbody>\n",
       "    <tr>\n",
       "      <th id=\"T_5c218_level0_row0\" class=\"row_heading level0 row0\" >metrics</th>\n",
       "      <td id=\"T_5c218_row0_col0\" class=\"data row0 col0\" >77.2%</td>\n",
       "      <td id=\"T_5c218_row0_col1\" class=\"data row0 col1\" >77.6%</td>\n",
       "      <td id=\"T_5c218_row0_col2\" class=\"data row0 col2\" >79.8%</td>\n",
       "    </tr>\n",
       "  </tbody>\n",
       "</table>\n"
      ],
      "text/plain": [
       "<pandas.io.formats.style.Styler at 0x7efe2c66ad10>"
      ]
     },
     "execution_count": 270,
     "metadata": {},
     "output_type": "execute_result"
    }
   ],
   "source": [
    "summary_metrics.style.format(format_dict)"
   ]
  },
  {
   "cell_type": "code",
   "execution_count": 271,
   "id": "3371a8fa",
   "metadata": {},
   "outputs": [
    {
     "data": {
      "text/plain": [
       "Text(0.5, 1.0, 'Confusion Matrix, dataset = test')"
      ]
     },
     "execution_count": 271,
     "metadata": {},
     "output_type": "execute_result"
    },
    {
     "data": {
      "image/png": "[encoded data removed]",
      "text/plain": [
       "<Figure size 600x500 with 2 Axes>"
      ]
     },
     "metadata": {},
     "output_type": "display_data"
    }
   ],
   "source": [
    "logreg_conf_matrix = confusion_matrix(y_true, y_pred_round)\n",
    "plt.figure(figsize = (6,5)) \n",
    "sns.set(font_scale=1.1) \n",
    "ax = sns.heatmap(\n",
    "    logreg_conf_matrix,\n",
    "    cmap='Blues',\n",
    "    annot=True,\n",
    "    fmt='d',\n",
    "    square=True,\n",
    "    xticklabels=['NO Heart Disease (0)', 'Heart Disease (1)'],\n",
    "    yticklabels=['NO Heart Disease (0)', 'Heart Disease (1)'])\n",
    "ax.set(xlabel='Predicted', ylabel='Actual')\n",
    "ax.invert_yaxis()\n",
    "ax.invert_xaxis()\n",
    "ax.set_title('Confusion Matrix, dataset = {}'.format(base.data_set))"
   ]
  },
  {
   "cell_type": "code",
   "execution_count": 275,
   "id": "17723cc5",
   "metadata": {},
   "outputs": [
    {
     "data": {
      "text/plain": [
       "array([[59, 15],\n",
       "       [27, 83]])"
      ]
     },
     "execution_count": 275,
     "metadata": {},
     "output_type": "execute_result"
    }
   ],
   "source": [
    "logreg_conf_matrix"
   ]
  },
  {
   "cell_type": "code",
   "execution_count": 272,
   "id": "a9db32ce",
   "metadata": {},
   "outputs": [
    {
     "data": {
      "text/plain": [
       "0.818918918918919"
      ]
     },
     "execution_count": 272,
     "metadata": {},
     "output_type": "execute_result"
    }
   ],
   "source": [
    "tpr_manual = 88 / (88+22)\n",
    "tnr_manual = 62 / (62+12)\n",
    "(tpr_manual + tnr_manual) / 2"
   ]
  },
  {
   "cell_type": "code",
   "execution_count": 273,
   "id": "b89a6e7c",
   "metadata": {},
   "outputs": [],
   "source": [
    "fpr, tpr, thresholds = roc_curve(y_true, y_pred)\n",
    "auc_performance = auc(fpr, tpr)"
   ]
  },
  {
   "cell_type": "code",
   "execution_count": 274,
   "id": "f17d1064",
   "metadata": {},
   "outputs": [
    {
     "name": "stderr",
     "output_type": "stream",
     "text": [
      "/home/pinolej/eth/healthcare/heart/graph.py:75: UserWarning: set_ticklabels() should only be used with a fixed number of ticks, i.e. after set_ticks() or using a FixedLocator.\n",
      "  ax.set_yticklabels(['{:,.0%}'.format(x) for x in vals], fontsize=9)\n",
      "/home/pinolej/eth/healthcare/heart/graph.py:77: UserWarning: set_ticklabels() should only be used with a fixed number of ticks, i.e. after set_ticks() or using a FixedLocator.\n",
      "  ax.set_xticklabels(['{:,.0%}'.format(x) for x in vals], fontsize=9)\n"
     ]
    },
    {
     "data": {
      "image/png": "[encoded data removed]",
      "text/plain": [
       "<Figure size 600x600 with 1 Axes>"
      ]
     },
     "metadata": {},
     "output_type": "display_data"
    }
   ],
   "source": [
    "gr.custom_roc_curve(\n",
    "        fpr,\n",
    "        tpr,\n",
    "        thresholds,\n",
    "        thresholds_to_plot=[0.5],\n",
    "        figsize=(6,6),\n",
    "        fontsize={\n",
    "            'ax_title': 12,\n",
    "        },\n",
    "        dataset_type=base.data_set,\n",
    "        auc_performance=auc_performance,\n",
    "        y_text_margin=0.05,\n",
    "        x_text_margin=0.1,\n",
    "        plot_threshold=True,\n",
    ")"
   ]
  },
  {
   "cell_type": "markdown",
   "id": "f153e863",
   "metadata": {},
   "source": [
    "# Shap"
   ]
  },
  {
   "cell_type": "code",
   "execution_count": 280,
   "id": "426c9bd6",
   "metadata": {},
   "outputs": [
    {
     "data": {
      "application/vnd.jupyter.widget-view+json": {
       "model_id": "c06297fcbfa049f5830fbf21ed9e3741",
       "version_major": 2,
       "version_minor": 0
      },
      "text/plain": [
       "BokehModel(combine_events=True, render_bundle={'docs_json': {'a6c2171d-4161-4424-807e-f7323f8e7177': {'version…"
      ]
     },
     "execution_count": 280,
     "metadata": {},
     "output_type": "execute_result"
    }
   ],
   "source": [
    "pn.Row(base.param.data_set)"
   ]
  },
  {
   "cell_type": "code",
   "execution_count": 281,
   "id": "d93a1ae6",
   "metadata": {},
   "outputs": [
    {
     "name": "stdout",
     "output_type": "stream",
     "text": [
      "adding embeddings\n"
     ]
    }
   ],
   "source": [
    "\n",
    "train_test_data, final_categorical_features, embeddings_output = lib.pre_process_features(\n",
    "        df_heart_train,\n",
    "        num_features=num_features,\n",
    "        categorical_features=categorical_features,\n",
    "        category_to_drop=None,\n",
    "        label_col=label_col,\n",
    "        add_embeddings=base.add_embeddings,\n",
    "        add_one_hot_encoded=base.add_one_hot_encoded,\n",
    "        stand_features=base.stand_features,\n",
    "        stand_embeddings=base.stand_embeddings,\n",
    "        test_size=base.test_size,\n",
    "        random_state=base.random_state_test_train_split,\n",
    ")\n",
    "X_train, X_test = train_test_data.tensors['X_train'], train_test_data.tensors['X_test']\n",
    "y_train, y_test = train_test_data.tensors['y_train'], train_test_data.tensors['y_test']\n",
    "X_train_df = train_test_data.dataframes['X_train']"
   ]
  },
  {
   "cell_type": "code",
   "execution_count": 276,
   "id": "887aab07",
   "metadata": {},
   "outputs": [],
   "source": [
    "import shap"
   ]
  },
  {
   "cell_type": "code",
   "execution_count": 277,
   "id": "2125281e",
   "metadata": {},
   "outputs": [
    {
     "data": {
      "text/plain": [
       "dict_keys(['num', 'cat', 'all'])"
      ]
     },
     "execution_count": 277,
     "metadata": {},
     "output_type": "execute_result"
    }
   ],
   "source": [
    "# X_train, X_test = train_test_data.tensors['X_train'], train_test_data.tensors['X_test']\n",
    "# y_train, y_test = train_test_data.tensors['y_train'], train_test_data.tensors['y_test']\n",
    "# X_train_df = train_test_data.dataframes['X_train']\n",
    "X_test.keys()"
   ]
  },
  {
   "cell_type": "code",
   "execution_count": 284,
   "id": "0e0bbe01",
   "metadata": {},
   "outputs": [
    {
     "data": {
      "text/plain": [
       "tensor([[0.4375, 0.7000, 0.4367, 0.5926, 0.8537]])"
      ]
     },
     "execution_count": 284,
     "metadata": {},
     "output_type": "execute_result"
    }
   ],
   "source": [
    "X_train['num'][0:1]"
   ]
  },
  {
   "cell_type": "code",
   "execution_count": 283,
   "id": "090bfe4a",
   "metadata": {},
   "outputs": [
    {
     "ename": "TypeError",
     "evalue": "'tuple' object is not callable",
     "output_type": "error",
     "traceback": [
      "\u001b[0;31m---------------------------------------------------------------------------\u001b[0m",
      "\u001b[0;31mTypeError\u001b[0m                                 Traceback (most recent call last)",
      "Cell \u001b[0;32mIn[283], line 3\u001b[0m\n\u001b[1;32m      1\u001b[0m \u001b[38;5;66;03m# compute the SHAP values for the linear model\u001b[39;00m\n\u001b[1;32m      2\u001b[0m explainer \u001b[38;5;241m=\u001b[39m shap\u001b[38;5;241m.\u001b[39mExplainer(model, (X_train[\u001b[38;5;124m'\u001b[39m\u001b[38;5;124mnum\u001b[39m\u001b[38;5;124m'\u001b[39m], X_train[\u001b[38;5;124m'\u001b[39m\u001b[38;5;124mcat\u001b[39m\u001b[38;5;124m'\u001b[39m]))\n\u001b[0;32m----> 3\u001b[0m shap_values \u001b[38;5;241m=\u001b[39m \u001b[43mexplainer\u001b[49m\u001b[43m(\u001b[49m\u001b[43m(\u001b[49m\u001b[43mX_train\u001b[49m\u001b[43m[\u001b[49m\u001b[38;5;124;43m'\u001b[39;49m\u001b[38;5;124;43mnum\u001b[39;49m\u001b[38;5;124;43m'\u001b[39;49m\u001b[43m]\u001b[49m\u001b[43m[\u001b[49m\u001b[38;5;241;43m0\u001b[39;49m\u001b[43m:\u001b[49m\u001b[38;5;241;43m1\u001b[39;49m\u001b[43m]\u001b[49m\u001b[43m,\u001b[49m\u001b[43m \u001b[49m\u001b[43mX_train\u001b[49m\u001b[43m[\u001b[49m\u001b[38;5;124;43m'\u001b[39;49m\u001b[38;5;124;43mcat\u001b[39;49m\u001b[38;5;124;43m'\u001b[39;49m\u001b[43m]\u001b[49m\u001b[43m[\u001b[49m\u001b[38;5;241;43m0\u001b[39;49m\u001b[43m:\u001b[49m\u001b[38;5;241;43m1\u001b[39;49m\u001b[43m]\u001b[49m\u001b[43m)\u001b[49m\u001b[43m)\u001b[49m\n",
      "File \u001b[0;32m~/.venv/lib/python3.10/site-packages/shap/explainers/_permutation.py:77\u001b[0m, in \u001b[0;36mPermutationExplainer.__call__\u001b[0;34m(self, max_evals, main_effects, error_bounds, batch_size, outputs, silent, *args)\u001b[0m\n\u001b[1;32m     74\u001b[0m \u001b[38;5;28;01mdef\u001b[39;00m \u001b[38;5;21m__call__\u001b[39m(\u001b[38;5;28mself\u001b[39m, \u001b[38;5;241m*\u001b[39margs, max_evals\u001b[38;5;241m=\u001b[39m\u001b[38;5;241m500\u001b[39m, main_effects\u001b[38;5;241m=\u001b[39m\u001b[38;5;28;01mFalse\u001b[39;00m, error_bounds\u001b[38;5;241m=\u001b[39m\u001b[38;5;28;01mFalse\u001b[39;00m, batch_size\u001b[38;5;241m=\u001b[39m\u001b[38;5;124m\"\u001b[39m\u001b[38;5;124mauto\u001b[39m\u001b[38;5;124m\"\u001b[39m,\n\u001b[1;32m     75\u001b[0m              outputs\u001b[38;5;241m=\u001b[39m\u001b[38;5;28;01mNone\u001b[39;00m, silent\u001b[38;5;241m=\u001b[39m\u001b[38;5;28;01mFalse\u001b[39;00m):\n\u001b[1;32m     76\u001b[0m \u001b[38;5;250m    \u001b[39m\u001b[38;5;124;03m\"\"\"Explain the output of the model on the given arguments.\"\"\"\u001b[39;00m\n\u001b[0;32m---> 77\u001b[0m     \u001b[38;5;28;01mreturn\u001b[39;00m \u001b[38;5;28;43msuper\u001b[39;49m\u001b[43m(\u001b[49m\u001b[43m)\u001b[49m\u001b[38;5;241;43m.\u001b[39;49m\u001b[38;5;21;43m__call__\u001b[39;49m\u001b[43m(\u001b[49m\n\u001b[1;32m     78\u001b[0m \u001b[43m        \u001b[49m\u001b[38;5;241;43m*\u001b[39;49m\u001b[43margs\u001b[49m\u001b[43m,\u001b[49m\u001b[43m \u001b[49m\u001b[43mmax_evals\u001b[49m\u001b[38;5;241;43m=\u001b[39;49m\u001b[43mmax_evals\u001b[49m\u001b[43m,\u001b[49m\u001b[43m \u001b[49m\u001b[43mmain_effects\u001b[49m\u001b[38;5;241;43m=\u001b[39;49m\u001b[43mmain_effects\u001b[49m\u001b[43m,\u001b[49m\u001b[43m \u001b[49m\u001b[43merror_bounds\u001b[49m\u001b[38;5;241;43m=\u001b[39;49m\u001b[43merror_bounds\u001b[49m\u001b[43m,\u001b[49m\u001b[43m \u001b[49m\u001b[43mbatch_size\u001b[49m\u001b[38;5;241;43m=\u001b[39;49m\u001b[43mbatch_size\u001b[49m\u001b[43m,\u001b[49m\n\u001b[1;32m     79\u001b[0m \u001b[43m        \u001b[49m\u001b[43moutputs\u001b[49m\u001b[38;5;241;43m=\u001b[39;49m\u001b[43moutputs\u001b[49m\u001b[43m,\u001b[49m\u001b[43m \u001b[49m\u001b[43msilent\u001b[49m\u001b[38;5;241;43m=\u001b[39;49m\u001b[43msilent\u001b[49m\n\u001b[1;32m     80\u001b[0m \u001b[43m    \u001b[49m\u001b[43m)\u001b[49m\n",
      "File \u001b[0;32m~/.venv/lib/python3.10/site-packages/shap/explainers/_explainer.py:266\u001b[0m, in \u001b[0;36mExplainer.__call__\u001b[0;34m(self, max_evals, main_effects, error_bounds, batch_size, outputs, silent, *args, **kwargs)\u001b[0m\n\u001b[1;32m    264\u001b[0m     feature_names \u001b[38;5;241m=\u001b[39m [[] \u001b[38;5;28;01mfor\u001b[39;00m _ \u001b[38;5;129;01min\u001b[39;00m \u001b[38;5;28mrange\u001b[39m(\u001b[38;5;28mlen\u001b[39m(args))]\n\u001b[1;32m    265\u001b[0m \u001b[38;5;28;01mfor\u001b[39;00m row_args \u001b[38;5;129;01min\u001b[39;00m show_progress(\u001b[38;5;28mzip\u001b[39m(\u001b[38;5;241m*\u001b[39margs), num_rows, \u001b[38;5;28mself\u001b[39m\u001b[38;5;241m.\u001b[39m\u001b[38;5;18m__class__\u001b[39m\u001b[38;5;241m.\u001b[39m\u001b[38;5;18m__name__\u001b[39m\u001b[38;5;241m+\u001b[39m\u001b[38;5;124m\"\u001b[39m\u001b[38;5;124m explainer\u001b[39m\u001b[38;5;124m\"\u001b[39m, silent):\n\u001b[0;32m--> 266\u001b[0m     row_result \u001b[38;5;241m=\u001b[39m \u001b[38;5;28;43mself\u001b[39;49m\u001b[38;5;241;43m.\u001b[39;49m\u001b[43mexplain_row\u001b[49m\u001b[43m(\u001b[49m\n\u001b[1;32m    267\u001b[0m \u001b[43m        \u001b[49m\u001b[38;5;241;43m*\u001b[39;49m\u001b[43mrow_args\u001b[49m\u001b[43m,\u001b[49m\u001b[43m \u001b[49m\u001b[43mmax_evals\u001b[49m\u001b[38;5;241;43m=\u001b[39;49m\u001b[43mmax_evals\u001b[49m\u001b[43m,\u001b[49m\u001b[43m \u001b[49m\u001b[43mmain_effects\u001b[49m\u001b[38;5;241;43m=\u001b[39;49m\u001b[43mmain_effects\u001b[49m\u001b[43m,\u001b[49m\u001b[43m \u001b[49m\u001b[43merror_bounds\u001b[49m\u001b[38;5;241;43m=\u001b[39;49m\u001b[43merror_bounds\u001b[49m\u001b[43m,\u001b[49m\n\u001b[1;32m    268\u001b[0m \u001b[43m        \u001b[49m\u001b[43mbatch_size\u001b[49m\u001b[38;5;241;43m=\u001b[39;49m\u001b[43mbatch_size\u001b[49m\u001b[43m,\u001b[49m\u001b[43m \u001b[49m\u001b[43moutputs\u001b[49m\u001b[38;5;241;43m=\u001b[39;49m\u001b[43moutputs\u001b[49m\u001b[43m,\u001b[49m\u001b[43m \u001b[49m\u001b[43msilent\u001b[49m\u001b[38;5;241;43m=\u001b[39;49m\u001b[43msilent\u001b[49m\u001b[43m,\u001b[49m\u001b[43m \u001b[49m\u001b[38;5;241;43m*\u001b[39;49m\u001b[38;5;241;43m*\u001b[39;49m\u001b[43mkwargs\u001b[49m\n\u001b[1;32m    269\u001b[0m \u001b[43m    \u001b[49m\u001b[43m)\u001b[49m\n\u001b[1;32m    270\u001b[0m     values\u001b[38;5;241m.\u001b[39mappend(row_result\u001b[38;5;241m.\u001b[39mget(\u001b[38;5;124m\"\u001b[39m\u001b[38;5;124mvalues\u001b[39m\u001b[38;5;124m\"\u001b[39m, \u001b[38;5;28;01mNone\u001b[39;00m))\n\u001b[1;32m    271\u001b[0m     output_indices\u001b[38;5;241m.\u001b[39mappend(row_result\u001b[38;5;241m.\u001b[39mget(\u001b[38;5;124m\"\u001b[39m\u001b[38;5;124moutput_indices\u001b[39m\u001b[38;5;124m\"\u001b[39m, \u001b[38;5;28;01mNone\u001b[39;00m))\n",
      "File \u001b[0;32m~/.venv/lib/python3.10/site-packages/shap/explainers/_permutation.py:133\u001b[0m, in \u001b[0;36mPermutationExplainer.explain_row\u001b[0;34m(self, max_evals, main_effects, error_bounds, batch_size, outputs, silent, *row_args)\u001b[0m\n\u001b[1;32m    130\u001b[0m     i \u001b[38;5;241m+\u001b[39m\u001b[38;5;241m=\u001b[39m \u001b[38;5;241m1\u001b[39m\n\u001b[1;32m    132\u001b[0m \u001b[38;5;66;03m# evaluate the masked model\u001b[39;00m\n\u001b[0;32m--> 133\u001b[0m outputs \u001b[38;5;241m=\u001b[39m \u001b[43mfm\u001b[49m\u001b[43m(\u001b[49m\u001b[43mmasks\u001b[49m\u001b[43m,\u001b[49m\u001b[43m \u001b[49m\u001b[43mzero_index\u001b[49m\u001b[38;5;241;43m=\u001b[39;49m\u001b[38;5;241;43m0\u001b[39;49m\u001b[43m,\u001b[49m\u001b[43m \u001b[49m\u001b[43mbatch_size\u001b[49m\u001b[38;5;241;43m=\u001b[39;49m\u001b[43mbatch_size\u001b[49m\u001b[43m)\u001b[49m\n\u001b[1;32m    135\u001b[0m \u001b[38;5;28;01mif\u001b[39;00m row_values \u001b[38;5;129;01mis\u001b[39;00m \u001b[38;5;28;01mNone\u001b[39;00m:\n\u001b[1;32m    136\u001b[0m     row_values \u001b[38;5;241m=\u001b[39m np\u001b[38;5;241m.\u001b[39mzeros((\u001b[38;5;28mlen\u001b[39m(fm),) \u001b[38;5;241m+\u001b[39m outputs\u001b[38;5;241m.\u001b[39mshape[\u001b[38;5;241m1\u001b[39m:])\n",
      "File \u001b[0;32m~/.venv/lib/python3.10/site-packages/shap/utils/_masked_model.py:67\u001b[0m, in \u001b[0;36mMaskedModel.__call__\u001b[0;34m(self, masks, zero_index, batch_size)\u001b[0m\n\u001b[1;32m     65\u001b[0m         full_masks \u001b[38;5;241m=\u001b[39m np\u001b[38;5;241m.\u001b[39mzeros((\u001b[38;5;28mint\u001b[39m(np\u001b[38;5;241m.\u001b[39msum(masks \u001b[38;5;241m>\u001b[39m\u001b[38;5;241m=\u001b[39m \u001b[38;5;241m0\u001b[39m)), \u001b[38;5;28mself\u001b[39m\u001b[38;5;241m.\u001b[39m_masker_cols), dtype\u001b[38;5;241m=\u001b[39m\u001b[38;5;28mbool\u001b[39m)\n\u001b[1;32m     66\u001b[0m         _convert_delta_mask_to_full(masks, full_masks)\n\u001b[0;32m---> 67\u001b[0m         \u001b[38;5;28;01mreturn\u001b[39;00m \u001b[38;5;28;43mself\u001b[39;49m\u001b[38;5;241;43m.\u001b[39;49m\u001b[43m_full_masking_call\u001b[49m\u001b[43m(\u001b[49m\u001b[43mfull_masks\u001b[49m\u001b[43m,\u001b[49m\u001b[43m \u001b[49m\u001b[43mzero_index\u001b[49m\u001b[38;5;241;43m=\u001b[39;49m\u001b[43mzero_index\u001b[49m\u001b[43m,\u001b[49m\u001b[43m \u001b[49m\u001b[43mbatch_size\u001b[49m\u001b[38;5;241;43m=\u001b[39;49m\u001b[43mbatch_size\u001b[49m\u001b[43m)\u001b[49m\n\u001b[1;32m     69\u001b[0m \u001b[38;5;28;01melse\u001b[39;00m:\n\u001b[1;32m     70\u001b[0m     \u001b[38;5;28;01mreturn\u001b[39;00m \u001b[38;5;28mself\u001b[39m\u001b[38;5;241m.\u001b[39m_full_masking_call(masks, batch_size\u001b[38;5;241m=\u001b[39mbatch_size)\n",
      "File \u001b[0;32m~/.venv/lib/python3.10/site-packages/shap/utils/_masked_model.py:96\u001b[0m, in \u001b[0;36mMaskedModel._full_masking_call\u001b[0;34m(self, masks, zero_index, batch_size)\u001b[0m\n\u001b[1;32m     94\u001b[0m     masked_inputs \u001b[38;5;241m=\u001b[39m \u001b[38;5;28mself\u001b[39m\u001b[38;5;241m.\u001b[39mmasker(delta_ind, \u001b[38;5;241m*\u001b[39m\u001b[38;5;28mself\u001b[39m\u001b[38;5;241m.\u001b[39margs)\u001b[38;5;241m.\u001b[39mcopy()\n\u001b[1;32m     95\u001b[0m \u001b[38;5;28;01melse\u001b[39;00m:\n\u001b[0;32m---> 96\u001b[0m     masked_inputs \u001b[38;5;241m=\u001b[39m \u001b[38;5;28;43mself\u001b[39;49m\u001b[38;5;241;43m.\u001b[39;49m\u001b[43mmasker\u001b[49m\u001b[43m(\u001b[49m\u001b[43mmask\u001b[49m\u001b[43m,\u001b[49m\u001b[43m \u001b[49m\u001b[38;5;241;43m*\u001b[39;49m\u001b[38;5;28;43mself\u001b[39;49m\u001b[38;5;241;43m.\u001b[39;49m\u001b[43margs\u001b[49m\u001b[43m)\u001b[49m\n\u001b[1;32m     98\u001b[0m \u001b[38;5;66;03m# get a copy that won't get overwritten by the next iteration\u001b[39;00m\n\u001b[1;32m     99\u001b[0m \u001b[38;5;28;01mif\u001b[39;00m \u001b[38;5;129;01mnot\u001b[39;00m \u001b[38;5;28mgetattr\u001b[39m(\u001b[38;5;28mself\u001b[39m\u001b[38;5;241m.\u001b[39mmasker, \u001b[38;5;124m\"\u001b[39m\u001b[38;5;124mimmutable_outputs\u001b[39m\u001b[38;5;124m\"\u001b[39m, \u001b[38;5;28;01mFalse\u001b[39;00m):\n",
      "\u001b[0;31mTypeError\u001b[0m: 'tuple' object is not callable"
     ]
    }
   ],
   "source": [
    "# compute the SHAP values for the linear model\n",
    "explainer = shap.Explainer(model, (X_train['num'], X_train['cat']))\n",
    "shap_values = explainer((X_train['num'][0:1], X_train['cat'][0:1]))"
   ]
  },
  {
   "cell_type": "code",
   "execution_count": null,
   "id": "9525d049",
   "metadata": {},
   "outputs": [],
   "source": []
  },
  {
   "cell_type": "code",
   "execution_count": null,
   "id": "cbec83dd",
   "metadata": {},
   "outputs": [],
   "source": []
  },
  {
   "cell_type": "code",
   "execution_count": null,
   "id": "04f7a96d",
   "metadata": {},
   "outputs": [],
   "source": []
  },
  {
   "cell_type": "markdown",
   "id": "d5e949e6-129b-4019-80a2-2e0f2b58e58d",
   "metadata": {},
   "source": [
    "# Appendix"
   ]
  },
  {
   "cell_type": "code",
   "execution_count": 43,
   "id": "2d3fcfc9-689b-4320-a2b5-600271c98422",
   "metadata": {},
   "outputs": [
    {
     "name": "stdout",
     "output_type": "stream",
     "text": [
      "tensor([[0.3709],\n",
      "        [0.4930],\n",
      "        [0.4063],\n",
      "        [0.3934]], grad_fn=<AddmmBackward0>)\n"
     ]
    }
   ],
   "source": [
    "model_2 = torch.nn.Sequential(\n",
    "    torch.nn.Linear(3, 6),\n",
    "    torch.nn.ReLU(),\n",
    "    torch.nn.Linear(6, 6),\n",
    "    torch.nn.ReLU(),\n",
    "    torch.nn.Linear(6, 6),\n",
    "    torch.nn.ReLU(),\n",
    "    torch.nn.Linear(6, 1),\n",
    ")\n",
    "\n",
    "print(model_2(torch.randn(4, 3))) # feed it 4 random 3-dim. vectors"
   ]
  },
  {
   "cell_type": "code",
   "execution_count": null,
   "id": "b4a7ceb1-ab24-464c-9cc6-2f9c62972445",
   "metadata": {},
   "outputs": [],
   "source": [
    "# class Example(BaseClass):\n",
    "#     \"\"\"An example Parameterized class\"\"\"\n",
    "#     timestamps = []\n",
    "\n",
    "#     boolean                 = param.Boolean(True, doc=\"A sample Boolean parameter\")\n",
    "#     color                   = param.Color(default='#FFFFFF')\n",
    "#     date                    = param.Date(dt.datetime(2017, 1, 1),\n",
    "#                                          bounds=(dt.datetime(2017, 1, 1), dt.datetime(2017, 2, 1)))\n",
    "#     select_string           = param.ObjectSelector(default=\"yellow\",objects=[\"red\",\"yellow\",\"green\"])\n",
    "#     select_fn               = param.ObjectSelector(default=list,objects=[list,set,dict])\n",
    "#     int_list                = param.ListSelector(default=[3,5], objects=[1,3,5,7,9],precedence=0.5)\n",
    "#     single_file             = param.FileSelector(path='../../*/*.py*',precedence=0.5)\n",
    "#     multiple_files          = param.MultiFileSelector(path='../../*/*.py?',precedence=0.5)\n",
    "#     record_timestamp        = param.Action(lambda x: x.timestamps.append(dt.datetime.now()),\n",
    "#                                            doc=\"\"\"Record timestamp.\"\"\",precedence=0.7)"
   ]
  },
  {
   "cell_type": "code",
   "execution_count": null,
   "id": "b98de99b-6460-4bec-87a3-4f654a880262",
   "metadata": {},
   "outputs": [],
   "source": []
  },
  {
   "cell_type": "code",
   "execution_count": null,
   "id": "f8c2d0ae",
   "metadata": {},
   "outputs": [],
   "source": [
    "class FocalLoss(torch.nn.Module):\n",
    "    def __init__(self, alpha=None, gamma=2):\n",
    "        super(FocalLoss, self).__init__()\n",
    "        self.alpha = alpha\n",
    "        self.gamma = gamma\n",
    "\n",
    "    def forward(self, inputs, targets):\n",
    "        be_loss = F.binary_cross_entropy(inputs, targets, reduction='none')\n",
    "        pt = torch.exp(-be_loss)\n",
    "        print('be loss is {}'.format(be_loss))\n",
    "        print('pt is {}'.format(pt))\n",
    "        loss = (self.alpha[targets] * (1 - pt) ** self.gamma * be_loss).mean()\n",
    "        return loss"
   ]
  },
  {
   "cell_type": "code",
   "execution_count": null,
   "id": "b61ef9a5",
   "metadata": {},
   "outputs": [],
   "source": [
    "# From https://machinelearningmastery.com/building-a-binary-classification-model-in-pytorch/\n",
    "\n",
    "class Wide(nn.Module):\n",
    "    def __init__(self):\n",
    "        super().__init__()\n",
    "        self.hidden = nn.Linear(60, 180)\n",
    "        self.relu = nn.ReLU()\n",
    "        self.output = nn.Linear(180, 1)\n",
    "        self.sigmoid = nn.Sigmoid()\n",
    " \n",
    "    def forward(self, x):\n",
    "        x = self.relu(self.hidden(x))\n",
    "        x = self.sigmoid(self.output(x))\n",
    "        return x\n",
    "\n",
    "\n",
    "class Deep(nn.Module):\n",
    "    def __init__(self):\n",
    "        super().__init__()\n",
    "        self.layer1 = nn.Linear(60, 60)\n",
    "        self.act1 = nn.ReLU()\n",
    "        self.layer2 = nn.Linear(60, 60)\n",
    "        self.act2 = nn.ReLU()\n",
    "        self.layer3 = nn.Linear(60, 60)\n",
    "        self.act3 = nn.ReLU()\n",
    "        self.output = nn.Linear(60, 1)\n",
    "        self.sigmoid = nn.Sigmoid()\n",
    " \n",
    "    def forward(self, x):\n",
    "        x = self.act1(self.layer1(x))\n",
    "        x = self.act2(self.layer2(x))\n",
    "        x = self.act3(self.layer3(x))\n",
    "        x = self.sigmoid(self.output(x))\n",
    "        return x"
   ]
  },
  {
   "cell_type": "code",
   "execution_count": null,
   "id": "afd20ec9",
   "metadata": {},
   "outputs": [],
   "source": [
    "class LogisticRegression(torch.nn.Module):\n",
    "     \n",
    "     def __init__(self, input_dim, output_dim):\n",
    "         super(LogisticRegression, self).__init__()\n",
    "         self.linear = torch.nn.Linear(input_dim, output_dim)\n",
    "         \n",
    "\n",
    "     def forward(self, x):\n",
    "         outputs = torch.sigmoid(self.linear(x))\n",
    "         return outputs\n",
    "     \n",
    "\n",
    "     def compute_loss(self, y_pred, y_true):\n",
    "         return F.binary_cross_entropy(y_pred, y_true)\n",
    "\n",
    "\n",
    "     def compute_l1_loss(self, w):\n",
    "         return torch.abs(w).sum()\n",
    "\n",
    "\n",
    "def add_l1_loss( model, loss, lambda_lasso: float = 0.01):\n",
    "    # TODO(pinolej): Check whether can be added to the class\n",
    "    l1_parameters = []\n",
    "    for parameter in model.parameters():\n",
    "        l1_parameters.append(parameter.view(-1))\n",
    "    l1 = lambda_lasso * model.compute_l1_loss(torch.cat(l1_parameters))\n",
    "    # Add L1 loss component\n",
    "    loss += l1\n",
    "    return loss"
   ]
  },
  {
   "cell_type": "code",
   "execution_count": null,
   "id": "d558f07d",
   "metadata": {},
   "outputs": [],
   "source": [
    "# Inspired from https://towardsdatascience.com/the-secret-to-improved-nlp-an-in-depth-look-at-the-nn-embedding-layer-in-pytorch-6e901e193e16\n",
    "\n",
    "# Define the embedding layer with 10 vocab size and 50 vector embeddings.\n",
    "embedding = torch.nn.Embedding(10, 50)\n",
    "\n",
    "embedding(torch.LongTensor([2]))\n",
    "\n",
    "# Load a pre-trained embedding model\n",
    "pretrained_embeddings = torch.randn(10, 50) # Example only, not actual pre-trained embeddings\n",
    "\n",
    "# Initialize the embedding layer with the pre-trained embeddings\n",
    "embedding.weight.data.copy_(pretrained_embeddings)"
   ]
  }
 ],
 "metadata": {
  "kernelspec": {
   "display_name": "Python 3 (ipykernel)",
   "language": "python",
   "name": "python3"
  },
  "language_info": {
   "codemirror_mode": {
    "name": "ipython",
    "version": 3
   },
   "file_extension": ".py",
   "mimetype": "text/x-python",
   "name": "python",
   "nbconvert_exporter": "python",
   "pygments_lexer": "ipython3",
   "version": "3.10.12"
  }
 },
 "nbformat": 4,
 "nbformat_minor": 5
}
