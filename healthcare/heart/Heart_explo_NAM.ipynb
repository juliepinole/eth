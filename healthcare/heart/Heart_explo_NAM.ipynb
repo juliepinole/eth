{
 "cells": [
  {
   "cell_type": "markdown",
   "id": "6c20ca57-2a9b-4511-8b89-593f94a630ee",
   "metadata": {},
   "source": [
    "Heart Failures - ML in healthcare - NAM\n",
    "===\n",
    "\n",
    "Inspired from:\n",
    "*  Colab: https://colab.research.google.com/drive/1E3_t7Inhol-qVPmFNq1Otj9sWt1vU_DQ?usp=sharing#scrollTo=ZobUtLyQ-M9r\n",
    "*  Git repository: https://github.com/agarwl/google-research#egg=neural_additive_models&subdirectory=neural_additive_models\n",
    "*  Graph builder: https://github.com/agarwl/google-research/blob/master/neural_additive_models/graph_builder.py\n",
    "*  Models: https://github.com/agarwl/google-research/blob/master/neural_additive_models/models.py\n",
    "*  Data Utils: https://github.com/agarwl/google-research/blob/master/neural_additive_models/data_utils.py\n",
    "*  ExU in Pytorch: https://github.com/lemeln/nam/tree/main/nam/models/activation\n",
    "\n",
    "\n"
   ]
  },
  {
   "cell_type": "markdown",
   "id": "4249dc2f",
   "metadata": {},
   "source": []
  },
  {
   "cell_type": "code",
   "execution_count": 1,
   "id": "73c334c9",
   "metadata": {},
   "outputs": [],
   "source": [
    "import pandas as pd\n",
    "import numpy as np\n",
    "import matplotlib.pyplot as plt\n",
    "import seaborn as sns"
   ]
  },
  {
   "cell_type": "code",
   "execution_count": 43,
   "id": "2dec4db4-a964-4878-93c3-480a3191919f",
   "metadata": {},
   "outputs": [],
   "source": [
    "# from scipy.stats import norm\n",
    "# from sklearn.preprocessing import StandardScaler\n",
    "# from scipy import stats\n",
    "# import warnings\n",
    "# warnings.filterwarnings('ignore')\n",
    "%matplotlib inline\n",
    "import torch\n",
    "import torch.nn.functional as F\n",
    "from typing import Sequence\n",
    "from typing import Tuple"
   ]
  },
  {
   "cell_type": "code",
   "execution_count": 3,
   "id": "86be1e0e-6a7d-42e8-9c37-a5a9f3da9bf9",
   "metadata": {},
   "outputs": [],
   "source": [
    "# import sklearn as sk\n",
    "# import scipy\n",
    "from sklearn.preprocessing import MinMaxScaler\n",
    "from sklearn.model_selection import train_test_split\n",
    "from sklearn.metrics import confusion_matrix\n",
    "from sklearn.metrics import roc_curve, auc\n",
    "\n",
    "\n",
    "# , precision_score, recall_score, auc, roc_curve, roc_auc_score, accuracy_score, classification_report "
   ]
  },
  {
   "cell_type": "code",
   "execution_count": 4,
   "id": "da4974d8-5377-4c12-8ce7-4f9f720951d0",
   "metadata": {},
   "outputs": [
    {
     "data": {
      "application/javascript": "(function(root) {\n  function now() {\n    return new Date();\n  }\n\n  var force = true;\n  var py_version = '3.4.0'.replace('rc', '-rc.').replace('.dev', '-dev.');\n  var reloading = false;\n  var Bokeh = root.Bokeh;\n\n  if (typeof (root._bokeh_timeout) === \"undefined\" || force) {\n    root._bokeh_timeout = Date.now() + 5000;\n    root._bokeh_failed_load = false;\n  }\n\n  function run_callbacks() {\n    try {\n      root._bokeh_onload_callbacks.forEach(function(callback) {\n        if (callback != null)\n          callback();\n      });\n    } finally {\n      delete root._bokeh_onload_callbacks;\n    }\n    console.debug(\"Bokeh: all callbacks have finished\");\n  }\n\n  function load_libs(css_urls, js_urls, js_modules, js_exports, callback) {\n    if (css_urls == null) css_urls = [];\n    if (js_urls == null) js_urls = [];\n    if (js_modules == null) js_modules = [];\n    if (js_exports == null) js_exports = {};\n\n    root._bokeh_onload_callbacks.push(callback);\n\n    if (root._bokeh_is_loading > 0) {\n      console.debug(\"Bokeh: BokehJS is being loaded, scheduling callback at\", now());\n      return null;\n    }\n    if (js_urls.length === 0 && js_modules.length === 0 && Object.keys(js_exports).length === 0) {\n      run_callbacks();\n      return null;\n    }\n    if (!reloading) {\n      console.debug(\"Bokeh: BokehJS not loaded, scheduling load and callback at\", now());\n    }\n\n    function on_load() {\n      root._bokeh_is_loading--;\n      if (root._bokeh_is_loading === 0) {\n        console.debug(\"Bokeh: all BokehJS libraries/stylesheets loaded\");\n        run_callbacks()\n      }\n    }\n    window._bokeh_on_load = on_load\n\n    function on_error() {\n      console.error(\"failed to load \" + url);\n    }\n\n    var skip = [];\n    if (window.requirejs) {\n      window.requirejs.config({'packages': {}, 'paths': {}, 'shim': {}});\n      root._bokeh_is_loading = css_urls.length + 0;\n    } else {\n      root._bokeh_is_loading = css_urls.length + js_urls.length + js_modules.length + Object.keys(js_exports).length;\n    }\n\n    var existing_stylesheets = []\n    var links = document.getElementsByTagName('link')\n    for (var i = 0; i < links.length; i++) {\n      var link = links[i]\n      if (link.href != null) {\n\texisting_stylesheets.push(link.href)\n      }\n    }\n    for (var i = 0; i < css_urls.length; i++) {\n      var url = css_urls[i];\n      if (existing_stylesheets.indexOf(url) !== -1) {\n\ton_load()\n\tcontinue;\n      }\n      const element = document.createElement(\"link\");\n      element.onload = on_load;\n      element.onerror = on_error;\n      element.rel = \"stylesheet\";\n      element.type = \"text/css\";\n      element.href = url;\n      console.debug(\"Bokeh: injecting link tag for BokehJS stylesheet: \", url);\n      document.body.appendChild(element);\n    }    var existing_scripts = []\n    var scripts = document.getElementsByTagName('script')\n    for (var i = 0; i < scripts.length; i++) {\n      var script = scripts[i]\n      if (script.src != null) {\n\texisting_scripts.push(script.src)\n      }\n    }\n    for (var i = 0; i < js_urls.length; i++) {\n      var url = js_urls[i];\n      if (skip.indexOf(url) !== -1 || existing_scripts.indexOf(url) !== -1) {\n\tif (!window.requirejs) {\n\t  on_load();\n\t}\n\tcontinue;\n      }\n      var element = document.createElement('script');\n      element.onload = on_load;\n      element.onerror = on_error;\n      element.async = false;\n      element.src = url;\n      console.debug(\"Bokeh: injecting script tag for BokehJS library: \", url);\n      document.head.appendChild(element);\n    }\n    for (var i = 0; i < js_modules.length; i++) {\n      var url = js_modules[i];\n      if (skip.indexOf(url) !== -1 || existing_scripts.indexOf(url) !== -1) {\n\tif (!window.requirejs) {\n\t  on_load();\n\t}\n\tcontinue;\n      }\n      var element = document.createElement('script');\n      element.onload = on_load;\n      element.onerror = on_error;\n      element.async = false;\n      element.src = url;\n      element.type = \"module\";\n      console.debug(\"Bokeh: injecting script tag for BokehJS library: \", url);\n      document.head.appendChild(element);\n    }\n    for (const name in js_exports) {\n      var url = js_exports[name];\n      if (skip.indexOf(url) >= 0 || root[name] != null) {\n\tif (!window.requirejs) {\n\t  on_load();\n\t}\n\tcontinue;\n      }\n      var element = document.createElement('script');\n      element.onerror = on_error;\n      element.async = false;\n      element.type = \"module\";\n      console.debug(\"Bokeh: injecting script tag for BokehJS library: \", url);\n      element.textContent = `\n      import ${name} from \"${url}\"\n      window.${name} = ${name}\n      window._bokeh_on_load()\n      `\n      document.head.appendChild(element);\n    }\n    if (!js_urls.length && !js_modules.length) {\n      on_load()\n    }\n  };\n\n  function inject_raw_css(css) {\n    const element = document.createElement(\"style\");\n    element.appendChild(document.createTextNode(css));\n    document.body.appendChild(element);\n  }\n\n  var js_urls = [\"https://cdn.bokeh.org/bokeh/release/bokeh-3.4.0.min.js\", \"https://cdn.bokeh.org/bokeh/release/bokeh-gl-3.4.0.min.js\", \"https://cdn.bokeh.org/bokeh/release/bokeh-widgets-3.4.0.min.js\", \"https://cdn.bokeh.org/bokeh/release/bokeh-tables-3.4.0.min.js\", \"https://cdn.holoviz.org/panel/1.4.0/dist/panel.min.js\"];\n  var js_modules = [];\n  var js_exports = {};\n  var css_urls = [];\n  var inline_js = [    function(Bokeh) {\n      Bokeh.set_log_level(\"info\");\n    },\nfunction(Bokeh) {} // ensure no trailing comma for IE\n  ];\n\n  function run_inline_js() {\n    if ((root.Bokeh !== undefined) || (force === true)) {\n      for (var i = 0; i < inline_js.length; i++) {\n\ttry {\n          inline_js[i].call(root, root.Bokeh);\n\t} catch(e) {\n\t  if (!reloading) {\n\t    throw e;\n\t  }\n\t}\n      }\n      // Cache old bokeh versions\n      if (Bokeh != undefined && !reloading) {\n\tvar NewBokeh = root.Bokeh;\n\tif (Bokeh.versions === undefined) {\n\t  Bokeh.versions = new Map();\n\t}\n\tif (NewBokeh.version !== Bokeh.version) {\n\t  Bokeh.versions.set(NewBokeh.version, NewBokeh)\n\t}\n\troot.Bokeh = Bokeh;\n      }} else if (Date.now() < root._bokeh_timeout) {\n      setTimeout(run_inline_js, 100);\n    } else if (!root._bokeh_failed_load) {\n      console.log(\"Bokeh: BokehJS failed to load within specified timeout.\");\n      root._bokeh_failed_load = true;\n    }\n    root._bokeh_is_initializing = false\n  }\n\n  function load_or_wait() {\n    // Implement a backoff loop that tries to ensure we do not load multiple\n    // versions of Bokeh and its dependencies at the same time.\n    // In recent versions we use the root._bokeh_is_initializing flag\n    // to determine whether there is an ongoing attempt to initialize\n    // bokeh, however for backward compatibility we also try to ensure\n    // that we do not start loading a newer (Panel>=1.0 and Bokeh>3) version\n    // before older versions are fully initialized.\n    if (root._bokeh_is_initializing && Date.now() > root._bokeh_timeout) {\n      root._bokeh_is_initializing = false;\n      root._bokeh_onload_callbacks = undefined;\n      console.log(\"Bokeh: BokehJS was loaded multiple times but one version failed to initialize.\");\n      load_or_wait();\n    } else if (root._bokeh_is_initializing || (typeof root._bokeh_is_initializing === \"undefined\" && root._bokeh_onload_callbacks !== undefined)) {\n      setTimeout(load_or_wait, 100);\n    } else {\n      root._bokeh_is_initializing = true\n      root._bokeh_onload_callbacks = []\n      var bokeh_loaded = Bokeh != null && (Bokeh.version === py_version || (Bokeh.versions !== undefined && Bokeh.versions.has(py_version)));\n      if (!reloading && !bokeh_loaded) {\n\troot.Bokeh = undefined;\n      }\n      load_libs(css_urls, js_urls, js_modules, js_exports, function() {\n\tconsole.debug(\"Bokeh: BokehJS plotting callback run at\", now());\n\trun_inline_js();\n      });\n    }\n  }\n  // Give older versions of the autoload script a head-start to ensure\n  // they initialize before we start loading newer version.\n  setTimeout(load_or_wait, 100)\n}(window));",
      "application/vnd.holoviews_load.v0+json": ""
     },
     "metadata": {},
     "output_type": "display_data"
    },
    {
     "data": {
      "application/javascript": "\nif ((window.PyViz === undefined) || (window.PyViz instanceof HTMLElement)) {\n  window.PyViz = {comms: {}, comm_status:{}, kernels:{}, receivers: {}, plot_index: []}\n}\n\n\n    function JupyterCommManager() {\n    }\n\n    JupyterCommManager.prototype.register_target = function(plot_id, comm_id, msg_handler) {\n      if (window.comm_manager || ((window.Jupyter !== undefined) && (Jupyter.notebook.kernel != null))) {\n        var comm_manager = window.comm_manager || Jupyter.notebook.kernel.comm_manager;\n        comm_manager.register_target(comm_id, function(comm) {\n          comm.on_msg(msg_handler);\n        });\n      } else if ((plot_id in window.PyViz.kernels) && (window.PyViz.kernels[plot_id])) {\n        window.PyViz.kernels[plot_id].registerCommTarget(comm_id, function(comm) {\n          comm.onMsg = msg_handler;\n        });\n      } else if (typeof google != 'undefined' && google.colab.kernel != null) {\n        google.colab.kernel.comms.registerTarget(comm_id, (comm) => {\n          var messages = comm.messages[Symbol.asyncIterator]();\n          function processIteratorResult(result) {\n            var message = result.value;\n            console.log(message)\n            var content = {data: message.data, comm_id};\n            var buffers = []\n            for (var buffer of message.buffers || []) {\n              buffers.push(new DataView(buffer))\n            }\n            var metadata = message.metadata || {};\n            var msg = {content, buffers, metadata}\n            msg_handler(msg);\n            return messages.next().then(processIteratorResult);\n          }\n          return messages.next().then(processIteratorResult);\n        })\n      }\n    }\n\n    JupyterCommManager.prototype.get_client_comm = function(plot_id, comm_id, msg_handler) {\n      if (comm_id in window.PyViz.comms) {\n        return window.PyViz.comms[comm_id];\n      } else if (window.comm_manager || ((window.Jupyter !== undefined) && (Jupyter.notebook.kernel != null))) {\n        var comm_manager = window.comm_manager || Jupyter.notebook.kernel.comm_manager;\n        var comm = comm_manager.new_comm(comm_id, {}, {}, {}, comm_id);\n        if (msg_handler) {\n          comm.on_msg(msg_handler);\n        }\n      } else if ((plot_id in window.PyViz.kernels) && (window.PyViz.kernels[plot_id])) {\n        var comm = window.PyViz.kernels[plot_id].connectToComm(comm_id);\n        comm.open();\n        if (msg_handler) {\n          comm.onMsg = msg_handler;\n        }\n      } else if (typeof google != 'undefined' && google.colab.kernel != null) {\n        var comm_promise = google.colab.kernel.comms.open(comm_id)\n        comm_promise.then((comm) => {\n          window.PyViz.comms[comm_id] = comm;\n          if (msg_handler) {\n            var messages = comm.messages[Symbol.asyncIterator]();\n            function processIteratorResult(result) {\n              var message = result.value;\n              var content = {data: message.data};\n              var metadata = message.metadata || {comm_id};\n              var msg = {content, metadata}\n              msg_handler(msg);\n              return messages.next().then(processIteratorResult);\n            }\n            return messages.next().then(processIteratorResult);\n          }\n        }) \n        var sendClosure = (data, metadata, buffers, disposeOnDone) => {\n          return comm_promise.then((comm) => {\n            comm.send(data, metadata, buffers, disposeOnDone);\n          });\n        };\n        var comm = {\n          send: sendClosure\n        };\n      }\n      window.PyViz.comms[comm_id] = comm;\n      return comm;\n    }\n    window.PyViz.comm_manager = new JupyterCommManager();\n    \n\n\nvar JS_MIME_TYPE = 'application/javascript';\nvar HTML_MIME_TYPE = 'text/html';\nvar EXEC_MIME_TYPE = 'application/vnd.holoviews_exec.v0+json';\nvar CLASS_NAME = 'output';\n\n/**\n * Render data to the DOM node\n */\nfunction render(props, node) {\n  var div = document.createElement(\"div\");\n  var script = document.createElement(\"script\");\n  node.appendChild(div);\n  node.appendChild(script);\n}\n\n/**\n * Handle when a new output is added\n */\nfunction handle_add_output(event, handle) {\n  var output_area = handle.output_area;\n  var output = handle.output;\n  if ((output.data == undefined) || (!output.data.hasOwnProperty(EXEC_MIME_TYPE))) {\n    return\n  }\n  var id = output.metadata[EXEC_MIME_TYPE][\"id\"];\n  var toinsert = output_area.element.find(\".\" + CLASS_NAME.split(' ')[0]);\n  if (id !== undefined) {\n    var nchildren = toinsert.length;\n    var html_node = toinsert[nchildren-1].children[0];\n    html_node.innerHTML = output.data[HTML_MIME_TYPE];\n    var scripts = [];\n    var nodelist = html_node.querySelectorAll(\"script\");\n    for (var i in nodelist) {\n      if (nodelist.hasOwnProperty(i)) {\n        scripts.push(nodelist[i])\n      }\n    }\n\n    scripts.forEach( function (oldScript) {\n      var newScript = document.createElement(\"script\");\n      var attrs = [];\n      var nodemap = oldScript.attributes;\n      for (var j in nodemap) {\n        if (nodemap.hasOwnProperty(j)) {\n          attrs.push(nodemap[j])\n        }\n      }\n      attrs.forEach(function(attr) { newScript.setAttribute(attr.name, attr.value) });\n      newScript.appendChild(document.createTextNode(oldScript.innerHTML));\n      oldScript.parentNode.replaceChild(newScript, oldScript);\n    });\n    if (JS_MIME_TYPE in output.data) {\n      toinsert[nchildren-1].children[1].textContent = output.data[JS_MIME_TYPE];\n    }\n    output_area._hv_plot_id = id;\n    if ((window.Bokeh !== undefined) && (id in Bokeh.index)) {\n      window.PyViz.plot_index[id] = Bokeh.index[id];\n    } else {\n      window.PyViz.plot_index[id] = null;\n    }\n  } else if (output.metadata[EXEC_MIME_TYPE][\"server_id\"] !== undefined) {\n    var bk_div = document.createElement(\"div\");\n    bk_div.innerHTML = output.data[HTML_MIME_TYPE];\n    var script_attrs = bk_div.children[0].attributes;\n    for (var i = 0; i < script_attrs.length; i++) {\n      toinsert[toinsert.length - 1].childNodes[1].setAttribute(script_attrs[i].name, script_attrs[i].value);\n    }\n    // store reference to server id on output_area\n    output_area._bokeh_server_id = output.metadata[EXEC_MIME_TYPE][\"server_id\"];\n  }\n}\n\n/**\n * Handle when an output is cleared or removed\n */\nfunction handle_clear_output(event, handle) {\n  var id = handle.cell.output_area._hv_plot_id;\n  var server_id = handle.cell.output_area._bokeh_server_id;\n  if (((id === undefined) || !(id in PyViz.plot_index)) && (server_id !== undefined)) { return; }\n  var comm = window.PyViz.comm_manager.get_client_comm(\"hv-extension-comm\", \"hv-extension-comm\", function () {});\n  if (server_id !== null) {\n    comm.send({event_type: 'server_delete', 'id': server_id});\n    return;\n  } else if (comm !== null) {\n    comm.send({event_type: 'delete', 'id': id});\n  }\n  delete PyViz.plot_index[id];\n  if ((window.Bokeh !== undefined) & (id in window.Bokeh.index)) {\n    var doc = window.Bokeh.index[id].model.document\n    doc.clear();\n    const i = window.Bokeh.documents.indexOf(doc);\n    if (i > -1) {\n      window.Bokeh.documents.splice(i, 1);\n    }\n  }\n}\n\n/**\n * Handle kernel restart event\n */\nfunction handle_kernel_cleanup(event, handle) {\n  delete PyViz.comms[\"hv-extension-comm\"];\n  window.PyViz.plot_index = {}\n}\n\n/**\n * Handle update_display_data messages\n */\nfunction handle_update_output(event, handle) {\n  handle_clear_output(event, {cell: {output_area: handle.output_area}})\n  handle_add_output(event, handle)\n}\n\nfunction register_renderer(events, OutputArea) {\n  function append_mime(data, metadata, element) {\n    // create a DOM node to render to\n    var toinsert = this.create_output_subarea(\n    metadata,\n    CLASS_NAME,\n    EXEC_MIME_TYPE\n    );\n    this.keyboard_manager.register_events(toinsert);\n    // Render to node\n    var props = {data: data, metadata: metadata[EXEC_MIME_TYPE]};\n    render(props, toinsert[0]);\n    element.append(toinsert);\n    return toinsert\n  }\n\n  events.on('output_added.OutputArea', handle_add_output);\n  events.on('output_updated.OutputArea', handle_update_output);\n  events.on('clear_output.CodeCell', handle_clear_output);\n  events.on('delete.Cell', handle_clear_output);\n  events.on('kernel_ready.Kernel', handle_kernel_cleanup);\n\n  OutputArea.prototype.register_mime_type(EXEC_MIME_TYPE, append_mime, {\n    safe: true,\n    index: 0\n  });\n}\n\nif (window.Jupyter !== undefined) {\n  try {\n    var events = require('base/js/events');\n    var OutputArea = require('notebook/js/outputarea').OutputArea;\n    if (OutputArea.prototype.mime_types().indexOf(EXEC_MIME_TYPE) == -1) {\n      register_renderer(events, OutputArea);\n    }\n  } catch(err) {\n  }\n}\n",
      "application/vnd.holoviews_load.v0+json": ""
     },
     "metadata": {},
     "output_type": "display_data"
    },
    {
     "data": {
      "text/html": [
       "<style>*[data-root-id],\n",
       "*[data-root-id] > * {\n",
       "  box-sizing: border-box;\n",
       "  font-family: var(--jp-ui-font-family);\n",
       "  font-size: var(--jp-ui-font-size1);\n",
       "  color: var(--vscode-editor-foreground, var(--jp-ui-font-color1));\n",
       "}\n",
       "\n",
       "/* Override VSCode background color */\n",
       ".cell-output-ipywidget-background:has(\n",
       "    > .cell-output-ipywidget-background > .lm-Widget > *[data-root-id]\n",
       "  ),\n",
       ".cell-output-ipywidget-background:has(> .lm-Widget > *[data-root-id]) {\n",
       "  background-color: transparent !important;\n",
       "}\n",
       "</style>"
      ]
     },
     "metadata": {},
     "output_type": "display_data"
    },
    {
     "data": {
      "application/vnd.holoviews_exec.v0+json": "",
      "text/html": [
       "<div id='15ba2d8f-2223-4255-abe3-55e8fc88549f'>\n",
       "  <div id=\"ceffa0e2-ed8d-4baa-b25c-686b5643b359\" data-root-id=\"15ba2d8f-2223-4255-abe3-55e8fc88549f\" style=\"display: contents;\"></div>\n",
       "</div>\n",
       "<script type=\"application/javascript\">(function(root) {\n",
       "  var docs_json = {\"1d458af9-6780-4496-9ad9-acb204dbe349\":{\"version\":\"3.4.0\",\"title\":\"Bokeh Application\",\"roots\":[{\"type\":\"object\",\"name\":\"panel.models.browser.BrowserInfo\",\"id\":\"15ba2d8f-2223-4255-abe3-55e8fc88549f\"},{\"type\":\"object\",\"name\":\"panel.models.comm_manager.CommManager\",\"id\":\"0bd90bb1-ebe7-4f8c-9a49-a8975ed691fe\",\"attributes\":{\"plot_id\":\"15ba2d8f-2223-4255-abe3-55e8fc88549f\",\"comm_id\":\"b9ffefe36b5e41af8a8374af9fd19090\",\"client_comm_id\":\"9b8aad1c82c64941b05dfea3d24a4722\"}}],\"defs\":[{\"type\":\"model\",\"name\":\"ReactiveHTML1\"},{\"type\":\"model\",\"name\":\"FlexBox1\",\"properties\":[{\"name\":\"align_content\",\"kind\":\"Any\",\"default\":\"flex-start\"},{\"name\":\"align_items\",\"kind\":\"Any\",\"default\":\"flex-start\"},{\"name\":\"flex_direction\",\"kind\":\"Any\",\"default\":\"row\"},{\"name\":\"flex_wrap\",\"kind\":\"Any\",\"default\":\"wrap\"},{\"name\":\"justify_content\",\"kind\":\"Any\",\"default\":\"flex-start\"},{\"name\":\"gap\",\"kind\":\"Any\",\"default\":\"\"}]},{\"type\":\"model\",\"name\":\"FloatPanel1\",\"properties\":[{\"name\":\"config\",\"kind\":\"Any\",\"default\":{\"type\":\"map\"}},{\"name\":\"contained\",\"kind\":\"Any\",\"default\":true},{\"name\":\"position\",\"kind\":\"Any\",\"default\":\"right-top\"},{\"name\":\"offsetx\",\"kind\":\"Any\",\"default\":null},{\"name\":\"offsety\",\"kind\":\"Any\",\"default\":null},{\"name\":\"theme\",\"kind\":\"Any\",\"default\":\"primary\"},{\"name\":\"status\",\"kind\":\"Any\",\"default\":\"normalized\"}]},{\"type\":\"model\",\"name\":\"GridStack1\",\"properties\":[{\"name\":\"mode\",\"kind\":\"Any\",\"default\":\"warn\"},{\"name\":\"ncols\",\"kind\":\"Any\",\"default\":null},{\"name\":\"nrows\",\"kind\":\"Any\",\"default\":null},{\"name\":\"allow_resize\",\"kind\":\"Any\",\"default\":true},{\"name\":\"allow_drag\",\"kind\":\"Any\",\"default\":true},{\"name\":\"state\",\"kind\":\"Any\",\"default\":[]}]},{\"type\":\"model\",\"name\":\"drag1\",\"properties\":[{\"name\":\"slider_width\",\"kind\":\"Any\",\"default\":5},{\"name\":\"slider_color\",\"kind\":\"Any\",\"default\":\"black\"},{\"name\":\"value\",\"kind\":\"Any\",\"default\":50}]},{\"type\":\"model\",\"name\":\"click1\",\"properties\":[{\"name\":\"terminal_output\",\"kind\":\"Any\",\"default\":\"\"},{\"name\":\"debug_name\",\"kind\":\"Any\",\"default\":\"\"},{\"name\":\"clears\",\"kind\":\"Any\",\"default\":0}]},{\"type\":\"model\",\"name\":\"FastWrapper1\",\"properties\":[{\"name\":\"object\",\"kind\":\"Any\",\"default\":null},{\"name\":\"style\",\"kind\":\"Any\",\"default\":null}]},{\"type\":\"model\",\"name\":\"NotificationAreaBase1\",\"properties\":[{\"name\":\"js_events\",\"kind\":\"Any\",\"default\":{\"type\":\"map\"}},{\"name\":\"position\",\"kind\":\"Any\",\"default\":\"bottom-right\"},{\"name\":\"_clear\",\"kind\":\"Any\",\"default\":0}]},{\"type\":\"model\",\"name\":\"NotificationArea1\",\"properties\":[{\"name\":\"js_events\",\"kind\":\"Any\",\"default\":{\"type\":\"map\"}},{\"name\":\"notifications\",\"kind\":\"Any\",\"default\":[]},{\"name\":\"position\",\"kind\":\"Any\",\"default\":\"bottom-right\"},{\"name\":\"_clear\",\"kind\":\"Any\",\"default\":0},{\"name\":\"types\",\"kind\":\"Any\",\"default\":[{\"type\":\"map\",\"entries\":[[\"type\",\"warning\"],[\"background\",\"#ffc107\"],[\"icon\",{\"type\":\"map\",\"entries\":[[\"className\",\"fas fa-exclamation-triangle\"],[\"tagName\",\"i\"],[\"color\",\"white\"]]}]]},{\"type\":\"map\",\"entries\":[[\"type\",\"info\"],[\"background\",\"#007bff\"],[\"icon\",{\"type\":\"map\",\"entries\":[[\"className\",\"fas fa-info-circle\"],[\"tagName\",\"i\"],[\"color\",\"white\"]]}]]}]}]},{\"type\":\"model\",\"name\":\"Notification\",\"properties\":[{\"name\":\"background\",\"kind\":\"Any\",\"default\":null},{\"name\":\"duration\",\"kind\":\"Any\",\"default\":3000},{\"name\":\"icon\",\"kind\":\"Any\",\"default\":null},{\"name\":\"message\",\"kind\":\"Any\",\"default\":\"\"},{\"name\":\"notification_type\",\"kind\":\"Any\",\"default\":null},{\"name\":\"_destroyed\",\"kind\":\"Any\",\"default\":false}]},{\"type\":\"model\",\"name\":\"TemplateActions1\",\"properties\":[{\"name\":\"open_modal\",\"kind\":\"Any\",\"default\":0},{\"name\":\"close_modal\",\"kind\":\"Any\",\"default\":0}]},{\"type\":\"model\",\"name\":\"BootstrapTemplateActions1\",\"properties\":[{\"name\":\"open_modal\",\"kind\":\"Any\",\"default\":0},{\"name\":\"close_modal\",\"kind\":\"Any\",\"default\":0}]},{\"type\":\"model\",\"name\":\"TemplateEditor1\",\"properties\":[{\"name\":\"layout\",\"kind\":\"Any\",\"default\":[]}]},{\"type\":\"model\",\"name\":\"MaterialTemplateActions1\",\"properties\":[{\"name\":\"open_modal\",\"kind\":\"Any\",\"default\":0},{\"name\":\"close_modal\",\"kind\":\"Any\",\"default\":0}]},{\"type\":\"model\",\"name\":\"copy_to_clipboard1\",\"properties\":[{\"name\":\"fill\",\"kind\":\"Any\",\"default\":\"none\"},{\"name\":\"value\",\"kind\":\"Any\",\"default\":null}]}]}};\n",
       "  var render_items = [{\"docid\":\"1d458af9-6780-4496-9ad9-acb204dbe349\",\"roots\":{\"15ba2d8f-2223-4255-abe3-55e8fc88549f\":\"ceffa0e2-ed8d-4baa-b25c-686b5643b359\"},\"root_ids\":[\"15ba2d8f-2223-4255-abe3-55e8fc88549f\"]}];\n",
       "  var docs = Object.values(docs_json)\n",
       "  if (!docs) {\n",
       "    return\n",
       "  }\n",
       "  const py_version = docs[0].version.replace('rc', '-rc.').replace('.dev', '-dev.')\n",
       "  function embed_document(root) {\n",
       "    var Bokeh = get_bokeh(root)\n",
       "    Bokeh.embed.embed_items_notebook(docs_json, render_items);\n",
       "    for (const render_item of render_items) {\n",
       "      for (const root_id of render_item.root_ids) {\n",
       "\tconst id_el = document.getElementById(root_id)\n",
       "\tif (id_el.children.length && (id_el.children[0].className === 'bk-root')) {\n",
       "\t  const root_el = id_el.children[0]\n",
       "\t  root_el.id = root_el.id + '-rendered'\n",
       "\t}\n",
       "      }\n",
       "    }\n",
       "  }\n",
       "  function get_bokeh(root) {\n",
       "    if (root.Bokeh === undefined) {\n",
       "      return null\n",
       "    } else if (root.Bokeh.version !== py_version) {\n",
       "      if (root.Bokeh.versions === undefined || !root.Bokeh.versions.has(py_version)) {\n",
       "\treturn null\n",
       "      }\n",
       "      return root.Bokeh.versions.get(py_version);\n",
       "    } else if (root.Bokeh.version === py_version) {\n",
       "      return root.Bokeh\n",
       "    }\n",
       "    return null\n",
       "  }\n",
       "  function is_loaded(root) {\n",
       "    var Bokeh = get_bokeh(root)\n",
       "    return (Bokeh != null && Bokeh.Panel !== undefined)\n",
       "  }\n",
       "  if (is_loaded(root)) {\n",
       "    embed_document(root);\n",
       "  } else {\n",
       "    var attempts = 0;\n",
       "    var timer = setInterval(function(root) {\n",
       "      if (is_loaded(root)) {\n",
       "        clearInterval(timer);\n",
       "        embed_document(root);\n",
       "      } else if (document.readyState == \"complete\") {\n",
       "        attempts++;\n",
       "        if (attempts > 200) {\n",
       "          clearInterval(timer);\n",
       "\t  var Bokeh = get_bokeh(root)\n",
       "\t  if (Bokeh == null || Bokeh.Panel == null) {\n",
       "            console.warn(\"Panel: ERROR: Unable to run Panel code because Bokeh or Panel library is missing\");\n",
       "\t  } else {\n",
       "\t    console.warn(\"Panel: WARNING: Attempting to render but not all required libraries could be resolved.\")\n",
       "\t    embed_document(root)\n",
       "\t  }\n",
       "        }\n",
       "      }\n",
       "    }, 25, root)\n",
       "  }\n",
       "})(window);</script>"
      ]
     },
     "metadata": {
      "application/vnd.holoviews_exec.v0+json": {
       "id": "15ba2d8f-2223-4255-abe3-55e8fc88549f"
      }
     },
     "output_type": "display_data"
    }
   ],
   "source": [
    "import param\n",
    "import panel as pn\n",
    "pn.extension()\n",
    "import datetime as dt\n",
    "import importlib\n",
    "from importlib import reload\n",
    "from tqdm import tqdm"
   ]
  },
  {
   "cell_type": "code",
   "execution_count": 5,
   "id": "b953ada0-a09f-4d69-8a01-5776b4539a73",
   "metadata": {},
   "outputs": [],
   "source": [
    "import graph as gr\n",
    "import params as par\n",
    "import py_lib as lib\n",
    "reload(gr)\n",
    "reload(par)\n",
    "reload(lib)\n",
    "import graph as gr\n",
    "import params as par\n",
    "import py_lib as lib"
   ]
  },
  {
   "cell_type": "code",
   "execution_count": 6,
   "id": "61b8d2c3-0e75-4c18-9302-f84c57178aed",
   "metadata": {},
   "outputs": [
    {
     "data": {
      "text/plain": [
       "{'Age': '{:.0f}',\n",
       " 'RestingBP': '{:.0f}',\n",
       " 'Cholesterol': '{:.0f}',\n",
       " 'MaxHR': '{:.0f}',\n",
       " 'FastingBS': '{:.1f}',\n",
       " 'HeartDisease': '{:.1f}',\n",
       " 'Oldpeak': '{:.2f}',\n",
       " 'Accuracy': '{:.1%}',\n",
       " 'Balanced Accuracy': '{:.1%}',\n",
       " 'F1 Score': '{:.1%}'}"
      ]
     },
     "execution_count": 6,
     "metadata": {},
     "output_type": "execute_result"
    }
   ],
   "source": [
    "format_dict = par.create_format_dict()\n",
    "format_dict"
   ]
  },
  {
   "cell_type": "markdown",
   "id": "0baaa7d0",
   "metadata": {},
   "source": [
    "# Local Parameters"
   ]
  },
  {
   "cell_type": "code",
   "execution_count": 141,
   "id": "564b77f3",
   "metadata": {},
   "outputs": [],
   "source": [
    "class NotebookParams(param.Parameterized):\n",
    "\t\tlambda_multiple          = param.Number(1, bounds=(1,10), doc=\"lambda Lasso Multiple of 10^x\")\n",
    "\t\tn_nodes                  = param.Integer(default=20, bounds=(1,100),doc=\"Number of nodes in hidden layer\")\n",
    "\t\tlambda_power             = param.Integer(default=2, bounds=(1,7),doc=\"lambda Lasso exponent of 10^x\")\n",
    "\t\tlr_multiple              = param.Number(5, bounds=(1,10), doc=\"Learning Rate Multiple of 10^x\")\n",
    "\t\tlr_power                 = param.Integer(default=3, bounds=(1,9),doc=\"Learning Rate exponent of 10^x\")\n",
    "\t\tepochs                   = param.Integer(default=50 ,bounds=(20,2000))\n",
    "\t\tdata_set                 = param.ObjectSelector(default=\"validation\",objects=['train', 'validation', 'train + validation', 'test'])\n",
    "\t\tstand_features           = param.Boolean(False, doc=\"Whether we want to standardize numerical features\")\n",
    "\t\tstand_embeddings         = param.Boolean(False, doc=\"Whether we want to standardize embeddings\")\n",
    "\t\tuse_lasso                = param.Boolean(False)\n",
    "\t\tuse_focal_loss           = param.Boolean(True)\n",
    "\t\tuse_exu\t                 = param.Boolean(True)\n",
    "\t\titer_array               = param.Integer(default=5, bounds=(1,20),doc=\"How often to save loss and training data, in epochs\")\n",
    "\t\titer_printing            = param.Integer(default=5, bounds=(1,100),doc=\"How many epochs between printing\")\n",
    "\t\tadd_one_hot_encoded      = param.Boolean(True, doc=\"Whether to add one hot encoded columns from categorical variables\")\n",
    "\t\tadd_embeddings\t         = param.Boolean(False, doc=\"Whether to add embeddings from categorical variables\")\n",
    "\t\tmax_emb_dim\t\t\t\t\t\t\t = param.Integer(50, bounds=(10,100),doc=\"Maximum embedding dimension\")\n",
    "\t\ttest_size                = param.Number(0.2, bounds=(0.1,0.9), doc=\"Test size for train_test_split\")\n",
    "\t\trandom_state_test_train_split = param.Integer(42)\n",
    "# pn.Param(CustomExample.param, widgets={\n",
    "#     'select_string': {'type': pn.widgets.RadioButtonGroup, 'button_type': 'primary'},\n",
    "#     'select_number': pn.widgets.DiscretePlayer}\n",
    "# )\n",
    "base = NotebookParams()"
   ]
  },
  {
   "cell_type": "markdown",
   "id": "607e05bd-0726-41dd-bf81-4d428149a5ac",
   "metadata": {},
   "source": [
    "# Import Data"
   ]
  },
  {
   "cell_type": "code",
   "execution_count": 21,
   "id": "9418bc11-4422-477c-bdc6-9d0ce573c0e7",
   "metadata": {},
   "outputs": [],
   "source": [
    "df_heart = pd.read_csv('heart.csv')\n",
    "# df_heart_test = pd.read_csv('ml4h_data/project1/heart_failure/test_split.csv')\n",
    "# df_heart_train = pd.read_csv('ml4h_data/project1/heart_failure/train_val_split.csv')\n",
    "df_heart_test = pd.read_csv('test_split.csv')\n",
    "df_heart_train = pd.read_csv('train_val_split.csv')"
   ]
  },
  {
   "cell_type": "code",
   "execution_count": 22,
   "id": "62beaa62-7c99-4b98-bcdf-8345da39415b",
   "metadata": {},
   "outputs": [
    {
     "data": {
      "text/html": [
       "<div>\n",
       "<style scoped>\n",
       "    .dataframe tbody tr th:only-of-type {\n",
       "        vertical-align: middle;\n",
       "    }\n",
       "\n",
       "    .dataframe tbody tr th {\n",
       "        vertical-align: top;\n",
       "    }\n",
       "\n",
       "    .dataframe thead th {\n",
       "        text-align: right;\n",
       "    }\n",
       "</style>\n",
       "<table border=\"1\" class=\"dataframe\">\n",
       "  <thead>\n",
       "    <tr style=\"text-align: right;\">\n",
       "      <th></th>\n",
       "      <th>Age</th>\n",
       "      <th>Sex</th>\n",
       "      <th>ChestPainType</th>\n",
       "      <th>RestingBP</th>\n",
       "      <th>Cholesterol</th>\n",
       "      <th>FastingBS</th>\n",
       "      <th>RestingECG</th>\n",
       "      <th>MaxHR</th>\n",
       "      <th>ExerciseAngina</th>\n",
       "      <th>Oldpeak</th>\n",
       "      <th>ST_Slope</th>\n",
       "      <th>HeartDisease</th>\n",
       "    </tr>\n",
       "  </thead>\n",
       "  <tbody>\n",
       "    <tr>\n",
       "      <th>0</th>\n",
       "      <td>40</td>\n",
       "      <td>M</td>\n",
       "      <td>ATA</td>\n",
       "      <td>140</td>\n",
       "      <td>289</td>\n",
       "      <td>0</td>\n",
       "      <td>Normal</td>\n",
       "      <td>172</td>\n",
       "      <td>N</td>\n",
       "      <td>0.0</td>\n",
       "      <td>Up</td>\n",
       "      <td>0</td>\n",
       "    </tr>\n",
       "    <tr>\n",
       "      <th>1</th>\n",
       "      <td>49</td>\n",
       "      <td>F</td>\n",
       "      <td>NAP</td>\n",
       "      <td>160</td>\n",
       "      <td>180</td>\n",
       "      <td>0</td>\n",
       "      <td>Normal</td>\n",
       "      <td>156</td>\n",
       "      <td>N</td>\n",
       "      <td>1.0</td>\n",
       "      <td>Flat</td>\n",
       "      <td>1</td>\n",
       "    </tr>\n",
       "  </tbody>\n",
       "</table>\n",
       "</div>"
      ],
      "text/plain": [
       "   Age Sex ChestPainType  RestingBP  Cholesterol  FastingBS RestingECG  MaxHR  \\\n",
       "0   40   M           ATA        140          289          0     Normal    172   \n",
       "1   49   F           NAP        160          180          0     Normal    156   \n",
       "\n",
       "  ExerciseAngina  Oldpeak ST_Slope  HeartDisease  \n",
       "0              N      0.0       Up             0  \n",
       "1              N      1.0     Flat             1  "
      ]
     },
     "execution_count": 22,
     "metadata": {},
     "output_type": "execute_result"
    }
   ],
   "source": [
    "df_heart.head(2)"
   ]
  },
  {
   "cell_type": "code",
   "execution_count": 23,
   "id": "fb39c642-8f2c-41ab-bf64-6ee6784826ef",
   "metadata": {},
   "outputs": [
    {
     "data": {
      "text/html": [
       "<style type=\"text/css\">\n",
       "</style>\n",
       "<table id=\"T_10e77\">\n",
       "  <thead>\n",
       "    <tr>\n",
       "      <th class=\"blank level0\" >&nbsp;</th>\n",
       "      <th id=\"T_10e77_level0_col0\" class=\"col_heading level0 col0\" >Age</th>\n",
       "      <th id=\"T_10e77_level0_col1\" class=\"col_heading level0 col1\" >RestingBP</th>\n",
       "      <th id=\"T_10e77_level0_col2\" class=\"col_heading level0 col2\" >Cholesterol</th>\n",
       "      <th id=\"T_10e77_level0_col3\" class=\"col_heading level0 col3\" >FastingBS</th>\n",
       "      <th id=\"T_10e77_level0_col4\" class=\"col_heading level0 col4\" >MaxHR</th>\n",
       "      <th id=\"T_10e77_level0_col5\" class=\"col_heading level0 col5\" >Oldpeak</th>\n",
       "      <th id=\"T_10e77_level0_col6\" class=\"col_heading level0 col6\" >HeartDisease</th>\n",
       "    </tr>\n",
       "  </thead>\n",
       "  <tbody>\n",
       "    <tr>\n",
       "      <th id=\"T_10e77_level0_row0\" class=\"row_heading level0 row0\" >count</th>\n",
       "      <td id=\"T_10e77_row0_col0\" class=\"data row0 col0\" >918</td>\n",
       "      <td id=\"T_10e77_row0_col1\" class=\"data row0 col1\" >918</td>\n",
       "      <td id=\"T_10e77_row0_col2\" class=\"data row0 col2\" >918</td>\n",
       "      <td id=\"T_10e77_row0_col3\" class=\"data row0 col3\" >918.0</td>\n",
       "      <td id=\"T_10e77_row0_col4\" class=\"data row0 col4\" >918</td>\n",
       "      <td id=\"T_10e77_row0_col5\" class=\"data row0 col5\" >918.00</td>\n",
       "      <td id=\"T_10e77_row0_col6\" class=\"data row0 col6\" >918.0</td>\n",
       "    </tr>\n",
       "    <tr>\n",
       "      <th id=\"T_10e77_level0_row1\" class=\"row_heading level0 row1\" >mean</th>\n",
       "      <td id=\"T_10e77_row1_col0\" class=\"data row1 col0\" >54</td>\n",
       "      <td id=\"T_10e77_row1_col1\" class=\"data row1 col1\" >132</td>\n",
       "      <td id=\"T_10e77_row1_col2\" class=\"data row1 col2\" >199</td>\n",
       "      <td id=\"T_10e77_row1_col3\" class=\"data row1 col3\" >0.2</td>\n",
       "      <td id=\"T_10e77_row1_col4\" class=\"data row1 col4\" >137</td>\n",
       "      <td id=\"T_10e77_row1_col5\" class=\"data row1 col5\" >0.89</td>\n",
       "      <td id=\"T_10e77_row1_col6\" class=\"data row1 col6\" >0.6</td>\n",
       "    </tr>\n",
       "    <tr>\n",
       "      <th id=\"T_10e77_level0_row2\" class=\"row_heading level0 row2\" >std</th>\n",
       "      <td id=\"T_10e77_row2_col0\" class=\"data row2 col0\" >9</td>\n",
       "      <td id=\"T_10e77_row2_col1\" class=\"data row2 col1\" >19</td>\n",
       "      <td id=\"T_10e77_row2_col2\" class=\"data row2 col2\" >109</td>\n",
       "      <td id=\"T_10e77_row2_col3\" class=\"data row2 col3\" >0.4</td>\n",
       "      <td id=\"T_10e77_row2_col4\" class=\"data row2 col4\" >25</td>\n",
       "      <td id=\"T_10e77_row2_col5\" class=\"data row2 col5\" >1.07</td>\n",
       "      <td id=\"T_10e77_row2_col6\" class=\"data row2 col6\" >0.5</td>\n",
       "    </tr>\n",
       "    <tr>\n",
       "      <th id=\"T_10e77_level0_row3\" class=\"row_heading level0 row3\" >min</th>\n",
       "      <td id=\"T_10e77_row3_col0\" class=\"data row3 col0\" >28</td>\n",
       "      <td id=\"T_10e77_row3_col1\" class=\"data row3 col1\" >0</td>\n",
       "      <td id=\"T_10e77_row3_col2\" class=\"data row3 col2\" >0</td>\n",
       "      <td id=\"T_10e77_row3_col3\" class=\"data row3 col3\" >0.0</td>\n",
       "      <td id=\"T_10e77_row3_col4\" class=\"data row3 col4\" >60</td>\n",
       "      <td id=\"T_10e77_row3_col5\" class=\"data row3 col5\" >-2.60</td>\n",
       "      <td id=\"T_10e77_row3_col6\" class=\"data row3 col6\" >0.0</td>\n",
       "    </tr>\n",
       "    <tr>\n",
       "      <th id=\"T_10e77_level0_row4\" class=\"row_heading level0 row4\" >25%</th>\n",
       "      <td id=\"T_10e77_row4_col0\" class=\"data row4 col0\" >47</td>\n",
       "      <td id=\"T_10e77_row4_col1\" class=\"data row4 col1\" >120</td>\n",
       "      <td id=\"T_10e77_row4_col2\" class=\"data row4 col2\" >173</td>\n",
       "      <td id=\"T_10e77_row4_col3\" class=\"data row4 col3\" >0.0</td>\n",
       "      <td id=\"T_10e77_row4_col4\" class=\"data row4 col4\" >120</td>\n",
       "      <td id=\"T_10e77_row4_col5\" class=\"data row4 col5\" >0.00</td>\n",
       "      <td id=\"T_10e77_row4_col6\" class=\"data row4 col6\" >0.0</td>\n",
       "    </tr>\n",
       "    <tr>\n",
       "      <th id=\"T_10e77_level0_row5\" class=\"row_heading level0 row5\" >50%</th>\n",
       "      <td id=\"T_10e77_row5_col0\" class=\"data row5 col0\" >54</td>\n",
       "      <td id=\"T_10e77_row5_col1\" class=\"data row5 col1\" >130</td>\n",
       "      <td id=\"T_10e77_row5_col2\" class=\"data row5 col2\" >223</td>\n",
       "      <td id=\"T_10e77_row5_col3\" class=\"data row5 col3\" >0.0</td>\n",
       "      <td id=\"T_10e77_row5_col4\" class=\"data row5 col4\" >138</td>\n",
       "      <td id=\"T_10e77_row5_col5\" class=\"data row5 col5\" >0.60</td>\n",
       "      <td id=\"T_10e77_row5_col6\" class=\"data row5 col6\" >1.0</td>\n",
       "    </tr>\n",
       "    <tr>\n",
       "      <th id=\"T_10e77_level0_row6\" class=\"row_heading level0 row6\" >75%</th>\n",
       "      <td id=\"T_10e77_row6_col0\" class=\"data row6 col0\" >60</td>\n",
       "      <td id=\"T_10e77_row6_col1\" class=\"data row6 col1\" >140</td>\n",
       "      <td id=\"T_10e77_row6_col2\" class=\"data row6 col2\" >267</td>\n",
       "      <td id=\"T_10e77_row6_col3\" class=\"data row6 col3\" >0.0</td>\n",
       "      <td id=\"T_10e77_row6_col4\" class=\"data row6 col4\" >156</td>\n",
       "      <td id=\"T_10e77_row6_col5\" class=\"data row6 col5\" >1.50</td>\n",
       "      <td id=\"T_10e77_row6_col6\" class=\"data row6 col6\" >1.0</td>\n",
       "    </tr>\n",
       "    <tr>\n",
       "      <th id=\"T_10e77_level0_row7\" class=\"row_heading level0 row7\" >max</th>\n",
       "      <td id=\"T_10e77_row7_col0\" class=\"data row7 col0\" >77</td>\n",
       "      <td id=\"T_10e77_row7_col1\" class=\"data row7 col1\" >200</td>\n",
       "      <td id=\"T_10e77_row7_col2\" class=\"data row7 col2\" >603</td>\n",
       "      <td id=\"T_10e77_row7_col3\" class=\"data row7 col3\" >1.0</td>\n",
       "      <td id=\"T_10e77_row7_col4\" class=\"data row7 col4\" >202</td>\n",
       "      <td id=\"T_10e77_row7_col5\" class=\"data row7 col5\" >6.20</td>\n",
       "      <td id=\"T_10e77_row7_col6\" class=\"data row7 col6\" >1.0</td>\n",
       "    </tr>\n",
       "  </tbody>\n",
       "</table>\n"
      ],
      "text/plain": [
       "<pandas.io.formats.style.Styler at 0x7f926898f4c0>"
      ]
     },
     "execution_count": 23,
     "metadata": {},
     "output_type": "execute_result"
    }
   ],
   "source": [
    "df_heart.describe().style.format(format_dict)"
   ]
  },
  {
   "cell_type": "markdown",
   "id": "aa842745-16a6-4d21-82b7-264604c07213",
   "metadata": {},
   "source": [
    "# Features Preprocessing"
   ]
  },
  {
   "cell_type": "code",
   "execution_count": 34,
   "id": "ccd58495",
   "metadata": {},
   "outputs": [],
   "source": [
    "num_features = ['Age', 'RestingBP', 'Cholesterol', 'MaxHR', 'Oldpeak', 'FastingBS']\n",
    "# num_features = ['Cholesterol']\n",
    "label_col = 'HeartDisease'\n",
    "categorical_features = ['Sex', 'ChestPainType', 'RestingECG', 'ExerciseAngina', 'ST_Slope']\n",
    "# Benchmark to be dropped for each categorical variable\n",
    "category_to_drop = {}\n",
    "# categorical_features = ['Sex']\n",
    "for col in df_heart.columns:\n",
    "    if col not in num_features + [label_col] + categorical_features:\n",
    "        print(f'Column {col} is not in the list of features')"
   ]
  },
  {
   "cell_type": "code",
   "execution_count": 36,
   "id": "2955c902",
   "metadata": {},
   "outputs": [
    {
     "data": {
      "application/vnd.jupyter.widget-view+json": {
       "model_id": "5cd0cbfed59f428781db1d3b29d6fe1e",
       "version_major": 2,
       "version_minor": 0
      },
      "text/plain": [
       "BokehModel(combine_events=True, render_bundle={'docs_json': {'60921860-0971-466e-afc0-1538422e0edb': {'version…"
      ]
     },
     "execution_count": 36,
     "metadata": {},
     "output_type": "execute_result"
    }
   ],
   "source": [
    "pn.Column(\n",
    "    pn.Row(base.param.add_one_hot_encoded, base.param.stand_features, base.param.test_size, base.param.add_embeddings),\n",
    "        )"
   ]
  },
  {
   "cell_type": "code",
   "execution_count": 37,
   "id": "394849dc",
   "metadata": {},
   "outputs": [],
   "source": [
    "import py_lib as lib\n",
    "reload(lib)\n",
    "import py_lib as lib"
   ]
  },
  {
   "cell_type": "code",
   "execution_count": 38,
   "id": "d6601a3c",
   "metadata": {},
   "outputs": [
    {
     "name": "stdout",
     "output_type": "stream",
     "text": [
      "adding One Hot Encoded\n"
     ]
    }
   ],
   "source": [
    "train_test_data, final_categorical_features, embeddings_output = lib.pre_process_features(\n",
    "        df_heart_train,\n",
    "        num_features=num_features,\n",
    "        categorical_features=categorical_features,\n",
    "        category_to_drop=None,\n",
    "        label_col=label_col,\n",
    "        add_embeddings=base.add_embeddings,\n",
    "        add_one_hot_encoded=base.add_one_hot_encoded,\n",
    "        stand_features=base.stand_features,\n",
    "        stand_embeddings=base.stand_embeddings,\n",
    "        test_size=base.test_size,\n",
    "        random_state=base.random_state_test_train_split,\n",
    ")\n",
    "X_train, X_test = train_test_data.tensors['X_train'], train_test_data.tensors['X_test']\n",
    "y_train, y_test = train_test_data.tensors['y_train'], train_test_data.tensors['y_test']\n",
    "X_train_df = train_test_data.dataframes['X_train']"
   ]
  },
  {
   "cell_type": "markdown",
   "id": "6b1a7759",
   "metadata": {},
   "source": [
    "## Working with the class imbalance"
   ]
  },
  {
   "cell_type": "code",
   "execution_count": 39,
   "id": "5b73ecfd",
   "metadata": {},
   "outputs": [],
   "source": [
    "# From ... https://saturncloud.io/blog/how-to-use-class-weights-with-focal-loss-in-pytorch-for-imbalanced-multiclass-classification/#focal-loss\n",
    "class_counts = np.bincount(y_train)\n",
    "num_classes = len(class_counts)\n",
    "total_samples = len(y_train)\n",
    "\n",
    "class_weights = []\n",
    "for count in class_counts:\n",
    "    weight = 1 / (count / total_samples)\n",
    "    class_weights.append(weight)\n",
    "\n",
    "class_weights_tensor = torch.FloatTensor(class_weights)"
   ]
  },
  {
   "cell_type": "code",
   "execution_count": 40,
   "id": "7a32d322",
   "metadata": {},
   "outputs": [
    {
     "data": {
      "text/plain": [
       "[2.2150943396226412, 1.8229813664596275]"
      ]
     },
     "execution_count": 40,
     "metadata": {},
     "output_type": "execute_result"
    }
   ],
   "source": [
    "class_weights"
   ]
  },
  {
   "cell_type": "markdown",
   "id": "3a41274c-45b0-4597-a576-df721716a3b0",
   "metadata": {},
   "source": [
    "# Model Building"
   ]
  },
  {
   "cell_type": "code",
   "execution_count": 41,
   "id": "7e596645",
   "metadata": {},
   "outputs": [],
   "source": [
    "class FocalLoss(torch.nn.Module):\n",
    "    def __init__(self, alpha=None, gamma=2):\n",
    "        super(FocalLoss, self).__init__()\n",
    "        self.alpha = alpha\n",
    "        self.gamma = gamma\n",
    "\n",
    "    def forward(self, inputs, targets):\n",
    "        be_loss = F.binary_cross_entropy(inputs, targets, reduction='none')\n",
    "        pt = torch.exp(-be_loss)\n",
    "        loss = (self.alpha[targets.long()] * (1 - pt) ** self.gamma * be_loss).mean()\n",
    "        return loss"
   ]
  },
  {
   "cell_type": "code",
   "execution_count": 56,
   "id": "66cf6ae2",
   "metadata": {},
   "outputs": [],
   "source": []
  },
  {
   "cell_type": "markdown",
   "id": "049e021e-d147-4b73-ad18-85bdbec4b5da",
   "metadata": {},
   "source": [
    "# Training"
   ]
  },
  {
   "cell_type": "code",
   "execution_count": 142,
   "id": "270011f6",
   "metadata": {},
   "outputs": [
    {
     "data": {
      "application/vnd.jupyter.widget-view+json": {
       "model_id": "df270138235c45c0a21203eb58709898",
       "version_major": 2,
       "version_minor": 0
      },
      "text/plain": [
       "BokehModel(combine_events=True, render_bundle={'docs_json': {'7d96fbcb-86b2-41c4-bbe0-5d09742da8a0': {'version…"
      ]
     },
     "execution_count": 142,
     "metadata": {},
     "output_type": "execute_result"
    }
   ],
   "source": [
    "pn.Column(\n",
    "    pn.Row(base.param.use_exu, base.param.use_focal_loss),\n",
    "    pn.Row(base.param.lr_power, base.param.lr_multiple),\n",
    "    )"
   ]
  },
  {
   "cell_type": "code",
   "execution_count": 143,
   "id": "c9d45cf0",
   "metadata": {},
   "outputs": [
    {
     "name": "stdout",
     "output_type": "stream",
     "text": [
      "learning rate is 5 multiplied by 10 power -3, which yields 0.00500000\n",
      "lambda_lasso is 1 multiplied by 10 power -2, which yields 0.010000\n"
     ]
    }
   ],
   "source": [
    "lr = base.lr_multiple * 10**(-base.lr_power)\n",
    "print('learning rate is {} multiplied by 10 power {}, which yields {:.8f}'.format(base.lr_multiple, -base.lr_power, lr))\n",
    "lambda_lasso = base.lambda_multiple * 10**(-base.lambda_power)\n",
    "print('lambda_lasso is {} multiplied by 10 power {}, which yields {:.6f}'.format(base.lambda_multiple, -base.lambda_power, lambda_lasso))"
   ]
  },
  {
   "cell_type": "code",
   "execution_count": 159,
   "id": "b4396a13",
   "metadata": {},
   "outputs": [
    {
     "data": {
      "application/vnd.jupyter.widget-view+json": {
       "model_id": "ff70e74a7ffa41d0b05e85a79fe3ed27",
       "version_major": 2,
       "version_minor": 0
      },
      "text/plain": [
       "BokehModel(combine_events=True, render_bundle={'docs_json': {'d9cabeb9-7d28-42f8-84eb-8b02c3e41009': {'version…"
      ]
     },
     "execution_count": 159,
     "metadata": {},
     "output_type": "execute_result"
    }
   ],
   "source": [
    "pn.Column(\n",
    "    pn.Row(base.param.epochs, base.param.iter_array, base.param.iter_printing),\n",
    "    )"
   ]
  },
  {
   "cell_type": "code",
   "execution_count": 160,
   "id": "e5cebbbe",
   "metadata": {},
   "outputs": [],
   "source": [
    "from torch.nn.parameter import Parameter"
   ]
  },
  {
   "cell_type": "code",
   "execution_count": 161,
   "id": "9471354c",
   "metadata": {},
   "outputs": [],
   "source": [
    "class LinReLU(torch.nn.Module):\n",
    "    __constants__ = ['bias']\n",
    "\n",
    "    def __init__(\n",
    "        self,\n",
    "        in_features: int,\n",
    "        out_features: int,\n",
    "    ) -> None:\n",
    "        super(LinReLU, self).__init__()\n",
    "        self.in_features = in_features\n",
    "        self.out_features = out_features\n",
    "        self.weight = Parameter(torch.Tensor(in_features, out_features))\n",
    "        self.bias = Parameter(torch.Tensor(in_features))\n",
    "\n",
    "        self.reset_parameters()\n",
    "\n",
    "    def reset_parameters(self) -> None:\n",
    "        torch.nn.init.xavier_uniform_(self.weight)\n",
    "        torch.nn.init.trunc_normal_(self.bias, std=0.5)\n",
    "\n",
    "    def forward(\n",
    "        self,\n",
    "        inputs: torch.Tensor,\n",
    "    ) -> torch.Tensor:\n",
    "        output = (inputs - self.bias) @ self.weight\n",
    "        output = F.relu(output)\n",
    "\n",
    "        return output\n",
    "\n",
    "    def extra_repr(self):\n",
    "        return f'in_features={self.in_features}, out_features={self.out_features}'\n",
    "\n",
    "\n",
    "class ExU(torch.nn.Module):\n",
    "\n",
    "    def __init__(\n",
    "        self,\n",
    "        in_features: int,\n",
    "        out_features: int,\n",
    "    ) -> None:\n",
    "        super(ExU, self).__init__()\n",
    "        self.in_features = in_features\n",
    "        self.out_features = out_features\n",
    "        self.weight = Parameter(torch.Tensor(in_features, out_features))\n",
    "        self.bias = Parameter(torch.Tensor(in_features))\n",
    "        self.reset_parameters()\n",
    "\n",
    "    def reset_parameters(self) -> None:\n",
    "        ## Page(4): initializing the weights using a normal distribution\n",
    "        ##          N(x; 0:5) with x 2 [3; 4] works well in practice.\n",
    "        torch.nn.init.trunc_normal_(self.weight, mean=4.0, std=0.5)\n",
    "        torch.nn.init.trunc_normal_(self.bias, std=0.5)\n",
    "\n",
    "    def forward(\n",
    "        self,\n",
    "        inputs: torch.Tensor,\n",
    "        n: int = 1,\n",
    "    ) -> torch.Tensor:\n",
    "        output = (inputs - self.bias).matmul(torch.exp(self.weight))\n",
    "\n",
    "        # ReLU activations capped at n (ReLU-n)\n",
    "        output = F.relu(output)\n",
    "        output = torch.clamp(output, 0, n)\n",
    "\n",
    "        return output\n",
    "\n",
    "    def extra_repr(self):\n",
    "        return f'in_features={self.in_features}, out_features={self.out_features}'"
   ]
  },
  {
   "cell_type": "code",
   "execution_count": 162,
   "id": "8eeef3be",
   "metadata": {},
   "outputs": [],
   "source": [
    "class NumericalFeatureNN(torch.nn.Module):\n",
    "\t'''\n",
    "\t\tNeural Network for a single categorical feature.\n",
    "\t'''\n",
    "\n",
    "\tdef __init__(\n",
    "\t\t\tself,\n",
    "\t\t\tfeature_num: int,\n",
    "\t\t\tlin_layer_sizes: list,\n",
    "\t\t\tlin_layer_dropouts: list,\n",
    "\t\t\tactivation = 'exu',\n",
    "\t\t\t):\n",
    "\t\t'''\n",
    "\t\tParameters\n",
    "\t\t----------\n",
    "\n",
    "\t\tfeature_num: Feature Index used for naming the hidden layers.\n",
    "\t\t\n",
    "\t\tlin_layer_sizes: List of integers.\n",
    "\t\t\tThe size of each linear layer. The length will be equal\n",
    "\t\t\tto the total number\n",
    "\t\t\tof linear layers in the network.\n",
    "\n",
    "\t\tlin_layer_dropouts: List of floats\n",
    "\t\t\tThe dropouts to be used after each linear layer.\n",
    "\n",
    "\t\tactivation: Activation and type of hidden unit(ExUs/Standard) used in the \n",
    "\t\t\tfirst hidden layer.\n",
    "\t\t'''\n",
    "\t\tsuper().__init__()\n",
    "\n",
    "\t\tself._feature_num = feature_num\n",
    "\t\tself._activation = activation\n",
    "\t\tself.lin_layer_sizes = lin_layer_sizes\n",
    "\n",
    "\t\t# Linear Layers\n",
    "\t\t# first_lin_layer = torch.nn.Linear(1, lin_layer_sizes[0]) # 1 as input size as we are building one NN by feature.\n",
    "\n",
    "\t\t## First layer is ExU\n",
    "\t\tif self._activation == \"exu\":\n",
    "\t\t\t\tfirst_lin_layer = (ExU(in_features=1, out_features=self.lin_layer_sizes[0]))\n",
    "\t\telse:\n",
    "\t\t\t\tfirst_lin_layer = LinReLU(in_features=1, out_features=self.lin_layer_sizes[0])\n",
    "\n",
    "\n",
    "\t\tself.lin_layers =\\\n",
    "\t\t\ttorch.nn.ModuleList([first_lin_layer] +\\\n",
    "\t\t\t\t\t[torch.nn.Linear(lin_layer_sizes[i], lin_layer_sizes[i + 1])\n",
    "\t\t\t\t\t\tfor i in range(len(lin_layer_sizes) - 1)])\n",
    "    \n",
    "\t\tfor lin_layer in self.lin_layers:\n",
    "\t\t\ttorch.nn.init.kaiming_normal_(lin_layer.weight.data) # TODO(jpinole): check if necessary\n",
    "\n",
    "\t\t# Output Layer\n",
    "\t\tself.output_layer = torch.nn.Linear(lin_layer_sizes[-1], 1)\n",
    "\t\ttorch.nn.init.kaiming_normal_(self.output_layer.weight.data)\n",
    "\n",
    "\t\t# Dropout Layers\n",
    "\t\tself.dropout_layers = torch.nn.ModuleList(\n",
    "\t\t\t[torch.nn.Dropout(size) for size in lin_layer_dropouts]\n",
    "\t\t\t)\n",
    "\n",
    "\n",
    "\tdef forward(self, cont_data):\n",
    "\n",
    "\t\tx = cont_data\n",
    "\n",
    "\t\tfor lin_layer, dropout_layer in\\\n",
    "\t\t\t\tzip(self.lin_layers, self.dropout_layers):\n",
    "\t\t\tx = F.relu(lin_layer(x))\n",
    "\t\t\tx = dropout_layer(x)\n",
    "\t\t\n",
    "\t\tx = self.output_layer(x)\n",
    "\n",
    "\t\treturn x\n",
    "\n",
    "\n",
    "class NAM(torch.nn.Module):\n",
    "\t\"\"\"Neural additive model.\n",
    "\n",
    "\tAttributes:\n",
    "\t\tfeature_nns: List of FeatureNN, one per input feature.\n",
    "\t\"\"\"\n",
    "\tdef __init__(\n",
    "\t\t\tself,\n",
    "\t\t\tnum_inputs: int,\n",
    "\t\t\t# num_units: list,\n",
    "\t\t\t# hidden_sizes: list,\n",
    "\t\t\t# dropout: float,\n",
    "\t\t\tfeature_dropout: float,\n",
    "\t\t\tlin_layer_sizes: list,\n",
    "\t\t\tlin_layer_dropouts: list,\n",
    "\t) -> None:\n",
    "\t\t'''\n",
    "\t\tParameters\n",
    "\t\t----------\n",
    "\n",
    "\t\temb_dims: List of two element tuples\n",
    "\t\t\tThis list will contain a two element tuple for each\n",
    "\t\t\tcategorical feature. The first element of a tuple will\n",
    "\t\t\tdenote the number of unique values of the categorical\n",
    "\t\t\tfeature. The second element will denote the embedding\n",
    "\t\t\tdimension to be used for that feature.\n",
    "\n",
    "\t\tn_cont_features: Integer\n",
    "\t\t\tThe number of continuous features in the data.\n",
    "\n",
    "\t\tlin_layer_sizes: List of integers.\n",
    "\t\t\tThe size of each linear layer. The length will be equal\n",
    "\t\t\tto the total number\n",
    "\t\t\tof linear layers in the network.\n",
    "\n",
    "\t\toutput_size: Integer\n",
    "\t\t\tThe size of the final output.\n",
    "\n",
    "\t\temb_dropout: Float\n",
    "\t\t\tThe dropout to be used after the embedding layers.\n",
    "\n",
    "\t\tlin_layer_dropouts: List of floats\n",
    "\t\t\tThe dropouts to be used after each linear layer.\n",
    "\t\t\t'''\n",
    "\n",
    "\t\t''' \n",
    "\t\tCOMMENT. In the original implementation, if there is more than one hidden layer,\n",
    "\t\tauthors use an exU activation function instead of ReLu for the first hidden layer.\n",
    "\t\tI will skip this implementation for now.\n",
    "\t\tTODO(juliepinole): implement the exU activation to see if results/ optimization improve.\n",
    "\t\t'''\n",
    "\n",
    "\t\tsuper(NAM, self).__init__()\n",
    "\t\tself.num_inputs = num_inputs\n",
    "\t\t# self.num_units = num_units\n",
    "\t\t# self.hidden_sizes = hidden_sizes\n",
    "\t\t# self.dropout = dropout\n",
    "\t\tself.feature_dropout = feature_dropout\n",
    "\t\tself.lin_layer_sizes = lin_layer_sizes\n",
    "\t\tself.lin_layer_dropouts = lin_layer_dropouts\n",
    "\n",
    "\t\tself.dropout_layer = torch.nn.Dropout(p=self.feature_dropout)\n",
    "\n",
    "\t\t# Output Layer\n",
    "\t\tself.output_layer = torch.nn.Linear(self.num_inputs, 1)\n",
    "\n",
    "\t\t# Sigmoid Activation\n",
    "\t\tself.sigmoid = torch.nn.Sigmoid()\n",
    "\n",
    "\t\t## Builds the FeatureNNs on the first call.\n",
    "\t\tself.feature_nns = torch.nn.ModuleList([\n",
    "\t\t\t\tNumericalFeatureNN(\n",
    "\t\t\t\t\t\tlin_layer_sizes = self.lin_layer_sizes, \n",
    "\t\t\t\t\t\tlin_layer_dropouts=self.lin_layer_dropouts,\n",
    "\t\t\t\t\t\tfeature_num=i,\n",
    "\t\t\t\t)\n",
    "\t\t\t\tfor i in range(num_inputs)\n",
    "\t\t])\n",
    "\n",
    "\t\tself._bias = torch.nn.Parameter(data=torch.zeros(1))\n",
    "\n",
    "\n",
    "\tdef calc_outputs(self, inputs: torch.Tensor) -> Sequence[torch.Tensor]:\n",
    "\t\t\t\"\"\"Returns the output computed by each feature net.\"\"\"\n",
    "\t\t\tn_examples = inputs.shape[0]\n",
    "\t\t\treturn [self.feature_nns[i](inputs[:, i].view(n_examples, 1)) for i in range(self.num_inputs)]\n",
    "\n",
    "\t\t\t# x_train = x_train.view(101, 1)\n",
    "\n",
    "\tdef forward(self, inputs: torch.Tensor) -> Tuple[torch.Tensor, torch.Tensor]:\n",
    "\t\t\tindividual_outputs = self.calc_outputs(inputs)\n",
    "\t\t\tconc_out = torch.cat(individual_outputs, dim=-1)\n",
    "\t\t\tdropout_out = self.dropout_layer(conc_out)\n",
    "\t\t\t# out = torch.sum(dropout_out, dim=-1)\n",
    "\t\t\t# print(f'lin_layer shape is {lin_layer.weight.shape}')\n",
    "\t\t\t# print(f'lin_layer weights are {lin_layer.weight}')\t\n",
    "\t\t\tout = self.sigmoid(self.output_layer(dropout_out) + self._bias)\n",
    "\t\t\treturn out, dropout_out\n",
    "\t\t\t# return out + self._bias, dropout_out"
   ]
  },
  {
   "cell_type": "code",
   "execution_count": 163,
   "id": "70ec8dd7",
   "metadata": {},
   "outputs": [
    {
     "name": "stdout",
     "output_type": "stream",
     "text": [
      "iter_printing_effective is 32\n"
     ]
    }
   ],
   "source": [
    "num_inputs = len(num_features + final_categorical_features)\n",
    "output_dim = 1 # Single binary output\n",
    "device = torch.device('cuda' if torch.cuda.is_available() else 'cpu')\n",
    "model = NAM(\n",
    "        num_inputs=num_inputs,\n",
    "\t\t\t\tfeature_dropout=0.01,\n",
    "\t\t\t\tlin_layer_sizes=[50,80],\n",
    "\t\t\t\tlin_layer_dropouts=[0.001, 0.01],\n",
    ").to(device)\n",
    "if base.use_focal_loss:\n",
    "    criterion = FocalLoss(alpha=class_weights_tensor.long(), gamma=2)\n",
    "else:\n",
    "    criterion = torch.nn.BCELoss()\n",
    "optimizer = torch.optim.SGD(model.parameters(), lr=lr)\n",
    "iter_printing_effective = int(base.epochs/base.iter_printing)\n",
    "print('iter_printing_effective is {}'.format(iter_printing_effective))\n",
    "# torch.manual_seed(0) # keep things reproducible"
   ]
  },
  {
   "cell_type": "code",
   "execution_count": 165,
   "id": "0c745700-33c9-4024-8b0e-2d59ce037122",
   "metadata": {},
   "outputs": [
    {
     "name": "stderr",
     "output_type": "stream",
     "text": [
      "Training Epochs:  99%|█████████▉| 161/163 [00:17<00:00, 14.15it/s]"
     ]
    },
    {
     "name": "stdout",
     "output_type": "stream",
     "text": [
      "Iteration: 160. \n",
      "Test - Loss: 0.19033147394657135. Accuracy: 7239.455782312925\n",
      "Train -  Loss: 0.19580493867397308. Accuracy: 65.58773424190801\n",
      "\n"
     ]
    },
    {
     "name": "stderr",
     "output_type": "stream",
     "text": [
      "Training Epochs: 100%|██████████| 163/163 [00:17<00:00,  9.19it/s]\n"
     ]
    }
   ],
   "source": [
    "losses = []\n",
    "losses_test = []\n",
    "Iterations = []\n",
    "iter = 0\n",
    "for epoch in tqdm(range(int(base.epochs)),desc='Training Epochs'):\n",
    "    x = X_train\n",
    "    labels = y_train\n",
    "    optimizer.zero_grad() # Setting our stored gradients equal to zero\n",
    "    outputs, fnn_out = model(X_train['all'])  # Perform forward pass\n",
    "    loss = criterion(torch.squeeze(outputs), labels) # Compute loss\n",
    "    loss.backward() # Computes the gradient of the given tensor w.r.t. the weights/bias\n",
    "\n",
    "    # Compute L1 loss component\n",
    "    # if base.use_lasso:\n",
    "    #     loss = add_l1_loss(model, loss, lambda_lasso=lambda_lasso)\n",
    "\n",
    "    optimizer.step() # Updates weights and biases with the optimizer (SGD)\n",
    "    \n",
    "    iter+=1\n",
    "    if iter%base.iter_array==0:\n",
    "        with torch.no_grad():\n",
    "            # Calculating the loss and accuracy for the test dataset\n",
    "            correct_test = 0\n",
    "            total_test = 0\n",
    "            outputs_test, fnn_out_test = model(X_test['all'])\n",
    "            loss_test = criterion(torch.squeeze(outputs_test), y_test)\n",
    "            # loss_test = add_l1_loss(model, loss_test, lambda_lasso=lambda_lasso)\n",
    "            \n",
    "            predicted_test = outputs_test.round().detach().numpy()\n",
    "            total_test += y_test.size(0)\n",
    "            correct_test += np.sum(predicted_test == y_test.detach().numpy())\n",
    "            accuracy_test = 100 * correct_test/total_test\n",
    "            losses_test.append(loss_test.item())\n",
    "            \n",
    "            \n",
    "            # Calculating the loss and accuracy for the train dataset\n",
    "            total = 0\n",
    "            correct = 0\n",
    "            total += y_train.size(0)\n",
    "            correct += np.sum(torch.squeeze(outputs).round().detach().numpy() == y_train.detach().numpy())\n",
    "            accuracy = 100 * correct/total\n",
    "            losses.append(loss.item())\n",
    "            Iterations.append(iter)\n",
    "\n",
    "            if iter%iter_printing_effective==0:\n",
    "                print(f\"Iteration: {iter}. \\nTest - Loss: {loss_test.item()}. Accuracy: {accuracy_test}\")\n",
    "                print(f\"Train -  Loss: {loss.item()}. Accuracy: {accuracy}\\n\")"
   ]
  },
  {
   "cell_type": "code",
   "execution_count": 166,
   "id": "7d029d9f-0d53-418c-b435-d271985fbc2e",
   "metadata": {},
   "outputs": [
    {
     "data": {
      "text/plain": [
       "Text(0, 0.5, 'Focal Loss')"
      ]
     },
     "execution_count": 166,
     "metadata": {},
     "output_type": "execute_result"
    },
    {
     "data": {
      "image/png": "[encoded data removed]",
      "text/plain": [
       "<Figure size 700x400 with 1 Axes>"
      ]
     },
     "metadata": {},
     "output_type": "display_data"
    }
   ],
   "source": [
    "fig, ax = plt.subplots(nrows=1, ncols=1, figsize = (7,4))\n",
    "ax.plot(Iterations,losses, label='train')\n",
    "ax.plot(Iterations,losses_test, label='test')\n",
    "ax.legend()\n",
    "ax.set_xlabel('Epoch')\n",
    "loss_type = 'Focal Loss' if base.use_focal_loss else 'BCE Loss'\n",
    "ax.set_ylabel(loss_type)\n",
    "# fig.show()"
   ]
  },
  {
   "cell_type": "markdown",
   "id": "af392b83",
   "metadata": {},
   "source": [
    "# Evaluation"
   ]
  },
  {
   "cell_type": "markdown",
   "id": "15d89cd5",
   "metadata": {},
   "source": [
    "## Predictions performances"
   ]
  },
  {
   "cell_type": "code",
   "execution_count": 177,
   "id": "14596b6f",
   "metadata": {},
   "outputs": [
    {
     "data": {
      "application/vnd.jupyter.widget-view+json": {
       "model_id": "db1bd34134484f7c97e9cc6b75a99a16",
       "version_major": 2,
       "version_minor": 0
      },
      "text/plain": [
       "BokehModel(combine_events=True, render_bundle={'docs_json': {'0b02965e-f1ef-4c4e-960d-79f76eba61a4': {'version…"
      ]
     },
     "execution_count": 177,
     "metadata": {},
     "output_type": "execute_result"
    }
   ],
   "source": [
    "pn.Row(base.param.data_set)"
   ]
  },
  {
   "cell_type": "code",
   "execution_count": 178,
   "id": "06dedb3d",
   "metadata": {},
   "outputs": [
    {
     "name": "stdout",
     "output_type": "stream",
     "text": [
      "We are displaying evaluation over the TEST dataset\n"
     ]
    }
   ],
   "source": [
    "dataset_choice = {\n",
    "    'train': {\n",
    "        'data': {\n",
    "            'x': train_test_data.tensors['X_train']['all'],\n",
    "            'y': train_test_data.tensors['y_train'],\n",
    "        },\n",
    "        'already_processed': True,\n",
    "    },\n",
    "    'validation': {\n",
    "        'data': {\n",
    "            'x': train_test_data.tensors['X_test']['all'],\n",
    "            'y': train_test_data.tensors['y_test'],\n",
    "        },\n",
    "        'already_processed': True,\n",
    "    },\n",
    "    'train + validation': {\n",
    "        'data': df_heart_train,\n",
    "        'already_processed': False,\n",
    "    },\n",
    "    'test': {\n",
    "        'data': df_heart_test,\n",
    "        'already_processed': False,\n",
    "    },\n",
    "    'all': {\n",
    "        'data': df_heart,\n",
    "        'already_processed': False,\n",
    "    },\n",
    "}\n",
    "print('We are displaying evaluation over the {} dataset'.format(base.data_set.upper()))\n",
    "data_specs = dataset_choice[base.data_set]"
   ]
  },
  {
   "cell_type": "code",
   "execution_count": 180,
   "id": "417c053b",
   "metadata": {},
   "outputs": [
    {
     "name": "stdout",
     "output_type": "stream",
     "text": [
      "Processing data\n",
      "adding One Hot Encoded\n"
     ]
    }
   ],
   "source": [
    "if data_specs['already_processed']:\n",
    "    print('Data were already processed for training.')\n",
    "    x_features = data_specs['data']['x'] # A dictionary\n",
    "    y_true = data_specs['data']['y']\n",
    "else:\n",
    "        print('Processing data')\n",
    "        processed_data, _, _ = lib.pre_process_features(\n",
    "                data_specs['data'],\n",
    "                num_features=num_features,\n",
    "                categorical_features=categorical_features,\n",
    "                category_to_drop=None,\n",
    "                label_col=label_col,\n",
    "                add_one_hot_encoded=base.add_one_hot_encoded,\n",
    "                add_embeddings=base.add_embeddings,\n",
    "                stand_features=base.stand_features,\n",
    "        \t\t\t\tstand_embeddings=base.stand_embeddings,\n",
    "                test_size=base.test_size,\n",
    "                random_state=base.random_state_test_train_split,\n",
    "                split_data=False,\n",
    "        )\n",
    "        x_features = processed_data.tensors['X_train'] # Now importing a dictionary\n",
    "        y_true = processed_data.tensors['y_train']"
   ]
  },
  {
   "cell_type": "code",
   "execution_count": 181,
   "id": "aaef760d",
   "metadata": {},
   "outputs": [],
   "source": [
    "outputs, fnn_out = model(x_features['all'])\n",
    "y_pred_tensor = torch.squeeze(outputs)\n",
    "y_pred_round_tensor = y_pred_tensor.round()\n",
    "y_pred = y_pred_tensor.detach().numpy()\n",
    "y_pred_round = y_pred_round_tensor.detach().numpy()"
   ]
  },
  {
   "cell_type": "code",
   "execution_count": null,
   "id": "c89a9e95",
   "metadata": {},
   "outputs": [],
   "source": []
  },
  {
   "cell_type": "code",
   "execution_count": null,
   "id": "579b8a71",
   "metadata": {},
   "outputs": [],
   "source": []
  },
  {
   "cell_type": "code",
   "execution_count": null,
   "id": "c67046e2",
   "metadata": {},
   "outputs": [],
   "source": []
  },
  {
   "cell_type": "code",
   "execution_count": null,
   "id": "1ef73019",
   "metadata": {},
   "outputs": [],
   "source": []
  },
  {
   "cell_type": "code",
   "execution_count": null,
   "id": "1398ab70",
   "metadata": {},
   "outputs": [],
   "source": []
  },
  {
   "cell_type": "code",
   "execution_count": null,
   "id": "1d0e065a",
   "metadata": {},
   "outputs": [],
   "source": []
  },
  {
   "cell_type": "code",
   "execution_count": null,
   "id": "40b25a72",
   "metadata": {},
   "outputs": [],
   "source": []
  },
  {
   "cell_type": "code",
   "execution_count": null,
   "id": "45a6b6a5",
   "metadata": {},
   "outputs": [],
   "source": []
  },
  {
   "cell_type": "code",
   "execution_count": 183,
   "id": "be7445f7",
   "metadata": {},
   "outputs": [],
   "source": [
    "from torchmetrics.classification import BinaryF1Score\n",
    "from sklearn.metrics import accuracy_score, balanced_accuracy_score\n",
    "acc = accuracy_score(y_true, y_pred_round, normalize = True)  \n",
    "bal_acc=balanced_accuracy_score(y_true,y_pred_round)\n",
    "f1_score = BinaryF1Score()\n",
    "f1 = f1_score(y_pred_round_tensor, y_true).numpy()\n",
    "summary_metrics = pd.DataFrame(data=[acc, bal_acc, f1], index=['Accuracy', 'Balanced Accuracy', 'F1 Score'], columns=['metrics']).T"
   ]
  },
  {
   "cell_type": "code",
   "execution_count": 184,
   "id": "330465c6",
   "metadata": {},
   "outputs": [
    {
     "data": {
      "text/html": [
       "<style type=\"text/css\">\n",
       "</style>\n",
       "<table id=\"T_a2005\">\n",
       "  <thead>\n",
       "    <tr>\n",
       "      <th class=\"blank level0\" >&nbsp;</th>\n",
       "      <th id=\"T_a2005_level0_col0\" class=\"col_heading level0 col0\" >Accuracy</th>\n",
       "      <th id=\"T_a2005_level0_col1\" class=\"col_heading level0 col1\" >Balanced Accuracy</th>\n",
       "      <th id=\"T_a2005_level0_col2\" class=\"col_heading level0 col2\" >F1 Score</th>\n",
       "    </tr>\n",
       "  </thead>\n",
       "  <tbody>\n",
       "    <tr>\n",
       "      <th id=\"T_a2005_level0_row0\" class=\"row_heading level0 row0\" >metrics</th>\n",
       "      <td id=\"T_a2005_row0_col0\" class=\"data row0 col0\" >69.0%</td>\n",
       "      <td id=\"T_a2005_row0_col1\" class=\"data row0 col1\" >72.3%</td>\n",
       "      <td id=\"T_a2005_row0_col2\" class=\"data row0 col2\" >68.2%</td>\n",
       "    </tr>\n",
       "  </tbody>\n",
       "</table>\n"
      ],
      "text/plain": [
       "<pandas.io.formats.style.Styler at 0x7f9253a55ea0>"
      ]
     },
     "execution_count": 184,
     "metadata": {},
     "output_type": "execute_result"
    }
   ],
   "source": [
    "summary_metrics.style.format(format_dict)"
   ]
  },
  {
   "cell_type": "code",
   "execution_count": 185,
   "id": "3371a8fa",
   "metadata": {},
   "outputs": [
    {
     "data": {
      "text/plain": [
       "Text(0.5, 1.0, 'Confusion Matrix, dataset = test')"
      ]
     },
     "execution_count": 185,
     "metadata": {},
     "output_type": "execute_result"
    },
    {
     "data": {
      "image/png": "[encoded data removed]",
      "text/plain": [
       "<Figure size 600x500 with 2 Axes>"
      ]
     },
     "metadata": {},
     "output_type": "display_data"
    }
   ],
   "source": [
    "logreg_conf_matrix = confusion_matrix(y_true, y_pred_round)\n",
    "plt.figure(figsize = (6,5)) \n",
    "sns.set(font_scale=1.1) \n",
    "ax = sns.heatmap(\n",
    "    logreg_conf_matrix,\n",
    "    cmap='Blues',\n",
    "    annot=True,\n",
    "    fmt='d',\n",
    "    square=True,\n",
    "    xticklabels=['NO Heart Disease (0)', 'Heart Disease (1)'],\n",
    "    yticklabels=['NO Heart Disease (0)', 'Heart Disease (1)'])\n",
    "ax.set(xlabel='Predicted', ylabel='Actual')\n",
    "ax.invert_yaxis()\n",
    "ax.invert_xaxis()\n",
    "ax.set_title('Confusion Matrix, dataset = {}'.format(base.data_set))"
   ]
  },
  {
   "cell_type": "code",
   "execution_count": 186,
   "id": "17723cc5",
   "metadata": {},
   "outputs": [
    {
     "data": {
      "text/plain": [
       "array([[66,  8],\n",
       "       [49, 61]])"
      ]
     },
     "execution_count": 186,
     "metadata": {},
     "output_type": "execute_result"
    }
   ],
   "source": [
    "logreg_conf_matrix"
   ]
  },
  {
   "cell_type": "code",
   "execution_count": 188,
   "id": "b89a6e7c",
   "metadata": {},
   "outputs": [],
   "source": [
    "fpr, tpr, thresholds = roc_curve(y_true, y_pred)\n",
    "auc_performance = auc(fpr, tpr)"
   ]
  },
  {
   "cell_type": "code",
   "execution_count": 189,
   "id": "f17d1064",
   "metadata": {},
   "outputs": [
    {
     "name": "stderr",
     "output_type": "stream",
     "text": [
      "/home/pinolej/eth/healthcare/heart/graph.py:75: UserWarning: set_ticklabels() should only be used with a fixed number of ticks, i.e. after set_ticks() or using a FixedLocator.\n",
      "  ax.set_yticklabels(['{:,.0%}'.format(x) for x in vals], fontsize=9)\n",
      "/home/pinolej/eth/healthcare/heart/graph.py:77: UserWarning: set_ticklabels() should only be used with a fixed number of ticks, i.e. after set_ticks() or using a FixedLocator.\n",
      "  ax.set_xticklabels(['{:,.0%}'.format(x) for x in vals], fontsize=9)\n"
     ]
    },
    {
     "data": {
      "image/png": "[encoded data removed]",
      "text/plain": [
       "<Figure size 600x600 with 1 Axes>"
      ]
     },
     "metadata": {},
     "output_type": "display_data"
    }
   ],
   "source": [
    "gr.custom_roc_curve(\n",
    "        fpr,\n",
    "        tpr,\n",
    "        thresholds,\n",
    "        thresholds_to_plot=[0.5],\n",
    "        figsize=(6,6),\n",
    "        fontsize={\n",
    "            'ax_title': 12,\n",
    "        },\n",
    "        dataset_type=base.data_set,\n",
    "        auc_performance=auc_performance,\n",
    "        y_text_margin=0.05,\n",
    "        x_text_margin=0.1,\n",
    "        plot_threshold=True,\n",
    ")"
   ]
  },
  {
   "cell_type": "code",
   "execution_count": null,
   "id": "04f7a96d",
   "metadata": {},
   "outputs": [],
   "source": []
  },
  {
   "cell_type": "markdown",
   "id": "d5e949e6-129b-4019-80a2-2e0f2b58e58d",
   "metadata": {},
   "source": [
    "# Appendix"
   ]
  },
  {
   "cell_type": "code",
   "execution_count": 43,
   "id": "2d3fcfc9-689b-4320-a2b5-600271c98422",
   "metadata": {},
   "outputs": [
    {
     "name": "stdout",
     "output_type": "stream",
     "text": [
      "tensor([[0.3709],\n",
      "        [0.4930],\n",
      "        [0.4063],\n",
      "        [0.3934]], grad_fn=<AddmmBackward0>)\n"
     ]
    }
   ],
   "source": [
    "model_2 = torch.nn.Sequential(\n",
    "    torch.nn.Linear(3, 6),\n",
    "    torch.nn.ReLU(),\n",
    "    torch.nn.Linear(6, 6),\n",
    "    torch.nn.ReLU(),\n",
    "    torch.nn.Linear(6, 6),\n",
    "    torch.nn.ReLU(),\n",
    "    torch.nn.Linear(6, 1),\n",
    ")\n",
    "\n",
    "print(model_2(torch.randn(4, 3))) # feed it 4 random 3-dim. vectors"
   ]
  },
  {
   "cell_type": "code",
   "execution_count": null,
   "id": "b4a7ceb1-ab24-464c-9cc6-2f9c62972445",
   "metadata": {},
   "outputs": [],
   "source": [
    "# class Example(BaseClass):\n",
    "#     \"\"\"An example Parameterized class\"\"\"\n",
    "#     timestamps = []\n",
    "\n",
    "#     boolean                 = param.Boolean(True, doc=\"A sample Boolean parameter\")\n",
    "#     color                   = param.Color(default='#FFFFFF')\n",
    "#     date                    = param.Date(dt.datetime(2017, 1, 1),\n",
    "#                                          bounds=(dt.datetime(2017, 1, 1), dt.datetime(2017, 2, 1)))\n",
    "#     select_string           = param.ObjectSelector(default=\"yellow\",objects=[\"red\",\"yellow\",\"green\"])\n",
    "#     select_fn               = param.ObjectSelector(default=list,objects=[list,set,dict])\n",
    "#     int_list                = param.ListSelector(default=[3,5], objects=[1,3,5,7,9],precedence=0.5)\n",
    "#     single_file             = param.FileSelector(path='../../*/*.py*',precedence=0.5)\n",
    "#     multiple_files          = param.MultiFileSelector(path='../../*/*.py?',precedence=0.5)\n",
    "#     record_timestamp        = param.Action(lambda x: x.timestamps.append(dt.datetime.now()),\n",
    "#                                            doc=\"\"\"Record timestamp.\"\"\",precedence=0.7)"
   ]
  },
  {
   "cell_type": "code",
   "execution_count": null,
   "id": "b98de99b-6460-4bec-87a3-4f654a880262",
   "metadata": {},
   "outputs": [],
   "source": [
    "#   def exu(x, weight, bias):\n",
    "#   \"\"\"ExU hidden unit modification.\"\"\"\n",
    "#   return torch.exp(weight) * (x - bias)\n",
    "\n",
    "\n",
    "# # Activation Functions\n",
    "# def relu(x, weight, bias):\n",
    "#   \"\"\"ReLU activation.\"\"\"\n",
    "#   return F.relu(weight * (x - bias))\n",
    "\n",
    "\n",
    "# def relu_n(x, n = 1):\n",
    "#   \"\"\"ReLU activation clipped at n.\"\"\"\n",
    "# \treturn torch.clamp(x, min=0, max=n)\n",
    "\n",
    "\n",
    "# class ActivationLayer(torch.nn.Module):\n",
    "#   \"\"\"Custom activation Layer to support ExU hidden units.\"\"\"\n",
    "\n",
    "#   def __init__(self,\n",
    "#                num_units,\n",
    "#                name = None,\n",
    "#                activation = 'exu',\n",
    "#                trainable = True):\n",
    "#     \"\"\"Initializes ActivationLayer hyperparameters.\n",
    "\n",
    "#     Args:\n",
    "#       num_units: Number of hidden units in the layer.\n",
    "#       name: The name of the layer.\n",
    "#       activation: Activation to use. The default value of `None` corresponds to\n",
    "#         using the ReLU-1 activation with ExU units while `relu` would use\n",
    "#         standard hidden units with ReLU activation.\n",
    "#       trainable: Whether the layer parameters are trainable or not.\n",
    "#     \"\"\"\n",
    "#     super(ActivationLayer, self).__init__(trainable=trainable, name=name)\n",
    "#     self.num_units = num_units\n",
    "#     self._trainable = trainable\n",
    "#     if activation == 'relu':\n",
    "#       self._activation = relu\n",
    "#       self._beta_initializer = 'glorot_uniform'\n",
    "#     elif activation == 'exu':\n",
    "#       self._activation = lambda x, weight, bias: relu_n(exu(x, weight, bias))\n",
    "#       self._beta_initializer = torch.nn.init.trunc_normal_(self, mean=4.0, stddev=0.5)\n",
    "#     else:\n",
    "#       raise ValueError('{} is not a valid activation'.format(activation))\n",
    "\n",
    "#   \t# def build(self, input_shape):\n",
    "#     \"\"\"Builds the layer weight and bias parameters.\"\"\"\n",
    "# \t\tself._beta = torch.nn.Parameter(data=torch.Tensor(1, 1, 1, 1), requires_grad=True)\n",
    "# \t\tself._beta = self.add_weight(\n",
    "#         name='beta',\n",
    "#         shape=[input_shape[-1], self.num_units],\n",
    "#         initializer=self._beta_initializer,\n",
    "#         trainable=self._trainable)\n",
    "#     self._c = self.add_weight(\n",
    "#         name='c',\n",
    "#         shape=[1, self.num_units],\n",
    "#         initializer=tf.initializers.truncated_normal(stddev=0.5),\n",
    "#         trainable=self._trainable)\n",
    "#     super(ActivationLayer, self).build(input_shape)\n",
    "\n",
    "\n",
    "#   def call(self, x):\n",
    "#     \"\"\"Computes the output activations.\"\"\"\n",
    "#     center = tf.tile(self._c, [tf.shape(x)[0], 1])\n",
    "#     out = self._activation(x, self._beta, center)\n",
    "#     return out\n",
    "\n",
    "# \tdef forward(self, x):\n",
    "# \t\toutputs = torch.sigmoid(self.linear(x))\n",
    "# \t\treturn outputs"
   ]
  },
  {
   "cell_type": "code",
   "execution_count": null,
   "id": "f8c2d0ae",
   "metadata": {},
   "outputs": [],
   "source": [
    "class FocalLoss(torch.nn.Module):\n",
    "    def __init__(self, alpha=None, gamma=2):\n",
    "        super(FocalLoss, self).__init__()\n",
    "        self.alpha = alpha\n",
    "        self.gamma = gamma\n",
    "\n",
    "    def forward(self, inputs, targets):\n",
    "        be_loss = F.binary_cross_entropy(inputs, targets, reduction='none')\n",
    "        pt = torch.exp(-be_loss)\n",
    "        print('be loss is {}'.format(be_loss))\n",
    "        print('pt is {}'.format(pt))\n",
    "        loss = (self.alpha[targets] * (1 - pt) ** self.gamma * be_loss).mean()\n",
    "        return loss"
   ]
  },
  {
   "cell_type": "code",
   "execution_count": null,
   "id": "b61ef9a5",
   "metadata": {},
   "outputs": [],
   "source": [
    "# From https://machinelearningmastery.com/building-a-binary-classification-model-in-pytorch/\n",
    "\n",
    "class Wide(nn.Module):\n",
    "    def __init__(self):\n",
    "        super().__init__()\n",
    "        self.hidden = nn.Linear(60, 180)\n",
    "        self.relu = nn.ReLU()\n",
    "        self.output = nn.Linear(180, 1)\n",
    "        self.sigmoid = nn.Sigmoid()\n",
    " \n",
    "    def forward(self, x):\n",
    "        x = self.relu(self.hidden(x))\n",
    "        x = self.sigmoid(self.output(x))\n",
    "        return x\n",
    "\n",
    "\n",
    "class Deep(nn.Module):\n",
    "    def __init__(self):\n",
    "        super().__init__()\n",
    "        self.layer1 = nn.Linear(60, 60)\n",
    "        self.act1 = nn.ReLU()\n",
    "        self.layer2 = nn.Linear(60, 60)\n",
    "        self.act2 = nn.ReLU()\n",
    "        self.layer3 = nn.Linear(60, 60)\n",
    "        self.act3 = nn.ReLU()\n",
    "        self.output = nn.Linear(60, 1)\n",
    "        self.sigmoid = nn.Sigmoid()\n",
    " \n",
    "    def forward(self, x):\n",
    "        x = self.act1(self.layer1(x))\n",
    "        x = self.act2(self.layer2(x))\n",
    "        x = self.act3(self.layer3(x))\n",
    "        x = self.sigmoid(self.output(x))\n",
    "        return x"
   ]
  },
  {
   "cell_type": "code",
   "execution_count": null,
   "id": "afd20ec9",
   "metadata": {},
   "outputs": [],
   "source": [
    "class CategoricalFeatureNN(torch.nn.Module):\n",
    "\t'''\n",
    "\t\tNeural Network for a single categorical feature.\n",
    "\t'''\n",
    "\n",
    "\tdef __init__(self, emb_dims, n_cont_features, lin_layer_sizes,\n",
    "\t\t\t  output_size, emb_dropout, lin_layer_dropouts, activation = 'exu'):\n",
    "\t\t'''\n",
    "\t\tParameters\n",
    "\t\t----------\n",
    "\n",
    "\t\temb_dims: List of two element tuples\n",
    "\t\t\tThis list will contain a two element tuple for each\n",
    "\t\t\tcategorical feature. The first element of a tuple will\n",
    "\t\t\tdenote the number of unique values of the categorical\n",
    "\t\t\tfeature. The second element will denote the embedding\n",
    "\t\t\tdimension to be used for that feature.\n",
    "\n",
    "\t\tlin_layer_sizes: List of integers.\n",
    "\t\t\tThe size of each linear layer. The length will be equal\n",
    "\t\t\tto the total number\n",
    "\t\t\tof linear layers in the network.\n",
    "\n",
    "\t\toutput_size: Integer\n",
    "\t\t\tThe size of the final output.\n",
    "\n",
    "\t\temb_dropout: Float\n",
    "\t\t\tThe dropout to be used after the embedding layers.\n",
    "\n",
    "\t\tlin_layer_dropouts: List of floats\n",
    "\t\t\tThe dropouts to be used after each linear layer.\n",
    "\n",
    "\t\tactivation: Activation and type of hidden unit(ExUs/Standard) used in the \n",
    "\t\t\tfirst hidden layer.\n",
    "\t\t'''\n",
    "\t\tsuper().__init__()\n",
    "    # Embedding layers\n",
    "\t\tself.emb_layer = torch.nn.Embedding(emb_dims[0], emb_dims[1])\n",
    "\n",
    "\t\tself.n_embs = emb_dims[1]\n",
    "\n",
    "\t\t# Linear Layers\n",
    "\t\tfirst_lin_layer = torch.nn.Linear(self.n_embs, lin_layer_sizes[0])\n",
    "\n",
    "\t\tself.lin_layers =\\\n",
    "\t\t\ttorch.nn.ModuleList([first_lin_layer] +\\\n",
    "\t\t\t\t\t[torch.nn.Linear(lin_layer_sizes[i], lin_layer_sizes[i + 1])\n",
    "\t\t\t\t\t\tfor i in range(len(lin_layer_sizes) - 1)])\n",
    "    \n",
    "\t\tfor lin_layer in self.lin_layers:\n",
    "\t\t\ttorch.nn.init.kaiming_normal_(lin_layer.weight.data) # TODO(jpinole): check if necessary\n",
    "\n",
    "\t\t# Output Layer\n",
    "\t\tself.output_layer = torch.nn.Linear(lin_layer_sizes[-1], output_size)\n",
    "\t\ttorch.nn.init.kaiming_normal_(self.output_layer.weight.data)\n",
    "\n",
    "\t\t# Dropout Layers\n",
    "\t\tself.emb_dropout_layer = torch.nn.Dropout(emb_dropout)\n",
    "\t\tself.dropout_layers = torch.nn.ModuleList([torch.nn.Dropout(size)\n",
    "\t\t\t\t\t\t\t\t\t\t\t\t\t\t\t\t\tfor size in lin_layer_dropouts])\n",
    "\n",
    "\tdef forward(self, cat_data):\n",
    "\n",
    "\t\tx = self.emb_layer(cat_data)\n",
    "\t\tx = self.emb_dropout_layer(x)\n",
    "\n",
    "\t\tfor lin_layer, dropout_layer in\\\n",
    "\t\t\t\tzip(self.lin_layers, self.dropout_layers):\n",
    "\t\t\tx = F.relu(lin_layer(x))\n",
    "\t\t\tx = dropout_layer(x)\n",
    "\t\t\n",
    "\t\tx = self.output_layer(x)\n",
    "\n",
    "\t\treturn x"
   ]
  }
 ],
 "metadata": {
  "kernelspec": {
   "display_name": "Python 3 (ipykernel)",
   "language": "python",
   "name": "python3"
  },
  "language_info": {
   "codemirror_mode": {
    "name": "ipython",
    "version": 3
   },
   "file_extension": ".py",
   "mimetype": "text/x-python",
   "name": "python",
   "nbconvert_exporter": "python",
   "pygments_lexer": "ipython3",
   "version": "3.10.12"
  }
 },
 "nbformat": 4,
 "nbformat_minor": 5
}
